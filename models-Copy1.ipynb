{
 "cells": [
  {
   "cell_type": "code",
   "execution_count": 1,
   "metadata": {},
   "outputs": [],
   "source": [
    "import query\n",
    "import pandas as pd \n",
    "import numpy as np\n",
    "import sql_db\n",
    "import seaborn as sn\n",
    "import sys\n",
    "import operator\n",
    "import matplotlib.pyplot as plt\n",
    "from sklearn.preprocessing import OneHotEncoder\n",
    "\n",
    "patient = pd.read_csv(\"/Users/tedlinghu/Downloads/patient.csv\")\n",
    "hospital = pd.read_csv(\"/Users/tedlinghu/Downloads/hospital.csv\")\n",
    "apache_vars = pd.read_csv(\"/Users/tedlinghu/Downloads/apacheApsVar.csv\")\n",
    "cpc = pd.read_csv(\"/Users/tedlinghu/Downloads/carePlanCareProvider.csv\")\n",
    "apache_patient_result = pd.read_csv(\"/Users/tedlinghu/Downloads/apachePatientResult.csv\")\n",
    "treatment = pd.read_csv(\"/Users/tedlinghu/Downloads/treatment.csv\")"
   ]
  },
  {
   "cell_type": "code",
   "execution_count": 2,
   "metadata": {},
   "outputs": [],
   "source": [
    "south_patient = pd.read_csv(\"/Users/tedlinghu/Desktop/Luo_Rotation/luorotation/south_patient.csv\")\n",
    "west_patient = pd.read_csv(\"/Users/tedlinghu/Desktop/Luo_Rotation/luorotation/west_patient.csv\")\n",
    "midwest_patient = pd.read_csv(\"/Users/tedlinghu/Desktop/Luo_Rotation/luorotation/midwest_patient.csv\")\n",
    "northeast_patient = pd.read_csv(\"/Users/tedlinghu/Desktop/Luo_Rotation/luorotation/northeast_patient.csv\")"
   ]
  },
  {
   "cell_type": "code",
   "execution_count": 3,
   "metadata": {},
   "outputs": [],
   "source": [
    "south_patient_apache = apache_patient_result[apache_patient_result.patientunitstayid.isin(south_patient.patientunitstayid)]\n",
    "west_patient_apache = apache_patient_result[apache_patient_result.patientunitstayid.isin(west_patient.patientunitstayid)]\n",
    "\n",
    "northeast_patient_apache = apache_patient_result[apache_patient_result.patientunitstayid.isin(northeast_patient.patientunitstayid)]\n",
    "midwest_patient_apache = apache_patient_result[apache_patient_result.patientunitstayid.isin(midwest_patient.patientunitstayid)]\n",
    "\n",
    "\n"
   ]
  },
  {
   "cell_type": "code",
   "execution_count": 4,
   "metadata": {
    "scrolled": true
   },
   "outputs": [],
   "source": [
    "apache_cols = [\"patientunitstayid\",\"respiratoryrate\", \"sodium\", \"heartrate\", \"meanbp\" , \"hematocrit\"]\n",
    "patient_cols = [\"patientunitstayid\", \"gender\", \"age\", \"ethnicity\", \"admissionweight\" ,\"admissionheight\"]\n",
    "\n",
    "\n",
    "final_south = south_patient[patient_cols]\n",
    "\n"
   ]
  },
  {
   "cell_type": "code",
   "execution_count": 6,
   "metadata": {},
   "outputs": [
    {
     "data": {
      "text/html": [
       "<div>\n",
       "<style scoped>\n",
       "    .dataframe tbody tr th:only-of-type {\n",
       "        vertical-align: middle;\n",
       "    }\n",
       "\n",
       "    .dataframe tbody tr th {\n",
       "        vertical-align: top;\n",
       "    }\n",
       "\n",
       "    .dataframe thead th {\n",
       "        text-align: right;\n",
       "    }\n",
       "</style>\n",
       "<table border=\"1\" class=\"dataframe\">\n",
       "  <thead>\n",
       "    <tr style=\"text-align: right;\">\n",
       "      <th></th>\n",
       "      <th>patientunitstayid</th>\n",
       "      <th>gender</th>\n",
       "      <th>age</th>\n",
       "      <th>ethnicity</th>\n",
       "      <th>admissionweight</th>\n",
       "      <th>admissionheight</th>\n",
       "    </tr>\n",
       "  </thead>\n",
       "  <tbody>\n",
       "    <tr>\n",
       "      <td>0</td>\n",
       "      <td>309639</td>\n",
       "      <td>Female</td>\n",
       "      <td>54</td>\n",
       "      <td>Caucasian</td>\n",
       "      <td>127.0</td>\n",
       "      <td>166.4</td>\n",
       "    </tr>\n",
       "    <tr>\n",
       "      <td>1</td>\n",
       "      <td>309640</td>\n",
       "      <td>Female</td>\n",
       "      <td>54</td>\n",
       "      <td>Caucasian</td>\n",
       "      <td>127.0</td>\n",
       "      <td>166.4</td>\n",
       "    </tr>\n",
       "    <tr>\n",
       "      <td>2</td>\n",
       "      <td>309646</td>\n",
       "      <td>Female</td>\n",
       "      <td>74</td>\n",
       "      <td>Caucasian</td>\n",
       "      <td>69.4</td>\n",
       "      <td>152.4</td>\n",
       "    </tr>\n",
       "    <tr>\n",
       "      <td>3</td>\n",
       "      <td>309754</td>\n",
       "      <td>Female</td>\n",
       "      <td>62</td>\n",
       "      <td>Caucasian</td>\n",
       "      <td>85.7</td>\n",
       "      <td>162.6</td>\n",
       "    </tr>\n",
       "    <tr>\n",
       "      <td>4</td>\n",
       "      <td>309852</td>\n",
       "      <td>Female</td>\n",
       "      <td>55</td>\n",
       "      <td>Caucasian</td>\n",
       "      <td>56.6</td>\n",
       "      <td>162.2</td>\n",
       "    </tr>\n",
       "    <tr>\n",
       "      <td>...</td>\n",
       "      <td>...</td>\n",
       "      <td>...</td>\n",
       "      <td>...</td>\n",
       "      <td>...</td>\n",
       "      <td>...</td>\n",
       "      <td>...</td>\n",
       "    </tr>\n",
       "    <tr>\n",
       "      <td>56660</td>\n",
       "      <td>3353235</td>\n",
       "      <td>Male</td>\n",
       "      <td>50</td>\n",
       "      <td>Caucasian</td>\n",
       "      <td>90.0</td>\n",
       "      <td>175.3</td>\n",
       "    </tr>\n",
       "    <tr>\n",
       "      <td>56661</td>\n",
       "      <td>3353237</td>\n",
       "      <td>Female</td>\n",
       "      <td>79</td>\n",
       "      <td>Caucasian</td>\n",
       "      <td>78.4</td>\n",
       "      <td>162.6</td>\n",
       "    </tr>\n",
       "    <tr>\n",
       "      <td>56662</td>\n",
       "      <td>3353251</td>\n",
       "      <td>Male</td>\n",
       "      <td>73</td>\n",
       "      <td>African American</td>\n",
       "      <td>102.0</td>\n",
       "      <td>177.8</td>\n",
       "    </tr>\n",
       "    <tr>\n",
       "      <td>56663</td>\n",
       "      <td>3353254</td>\n",
       "      <td>Male</td>\n",
       "      <td>81</td>\n",
       "      <td>Caucasian</td>\n",
       "      <td>83.9</td>\n",
       "      <td>185.4</td>\n",
       "    </tr>\n",
       "    <tr>\n",
       "      <td>56664</td>\n",
       "      <td>3353263</td>\n",
       "      <td>Male</td>\n",
       "      <td>35</td>\n",
       "      <td>African American</td>\n",
       "      <td>100.8</td>\n",
       "      <td>182.9</td>\n",
       "    </tr>\n",
       "  </tbody>\n",
       "</table>\n",
       "<p>56665 rows × 6 columns</p>\n",
       "</div>"
      ],
      "text/plain": [
       "       patientunitstayid  gender age         ethnicity  admissionweight  \\\n",
       "0                 309639  Female  54         Caucasian            127.0   \n",
       "1                 309640  Female  54         Caucasian            127.0   \n",
       "2                 309646  Female  74         Caucasian             69.4   \n",
       "3                 309754  Female  62         Caucasian             85.7   \n",
       "4                 309852  Female  55         Caucasian             56.6   \n",
       "...                  ...     ...  ..               ...              ...   \n",
       "56660            3353235    Male  50         Caucasian             90.0   \n",
       "56661            3353237  Female  79         Caucasian             78.4   \n",
       "56662            3353251    Male  73  African American            102.0   \n",
       "56663            3353254    Male  81         Caucasian             83.9   \n",
       "56664            3353263    Male  35  African American            100.8   \n",
       "\n",
       "       admissionheight  \n",
       "0                166.4  \n",
       "1                166.4  \n",
       "2                152.4  \n",
       "3                162.6  \n",
       "4                162.2  \n",
       "...                ...  \n",
       "56660            175.3  \n",
       "56661            162.6  \n",
       "56662            177.8  \n",
       "56663            185.4  \n",
       "56664            182.9  \n",
       "\n",
       "[56665 rows x 6 columns]"
      ]
     },
     "execution_count": 6,
     "metadata": {},
     "output_type": "execute_result"
    }
   ],
   "source": [
    "final_south"
   ]
  },
  {
   "cell_type": "code",
   "execution_count": 7,
   "metadata": {},
   "outputs": [],
   "source": [
    "apache_south = apache_vars[apache_vars['patientunitstayid'].isin(final_south['patientunitstayid'])][apache_cols]\n"
   ]
  },
  {
   "cell_type": "code",
   "execution_count": 8,
   "metadata": {},
   "outputs": [
    {
     "data": {
      "text/plain": [
       "(56665, 6)"
      ]
     },
     "execution_count": 8,
     "metadata": {},
     "output_type": "execute_result"
    }
   ],
   "source": [
    "final_south.shape"
   ]
  },
  {
   "cell_type": "code",
   "execution_count": 9,
   "metadata": {},
   "outputs": [
    {
     "data": {
      "text/plain": [
       "(50945, 6)"
      ]
     },
     "execution_count": 9,
     "metadata": {},
     "output_type": "execute_result"
    }
   ],
   "source": [
    "apache_south.shape"
   ]
  },
  {
   "cell_type": "code",
   "execution_count": 16,
   "metadata": {},
   "outputs": [
    {
     "data": {
      "text/plain": [
       "Index(['patientunitstayid', 'respiratoryrate', 'sodium', 'heartrate', 'meanbp',\n",
       "       'hematocrit'],\n",
       "      dtype='object')"
      ]
     },
     "execution_count": 16,
     "metadata": {},
     "output_type": "execute_result"
    }
   ],
   "source": [
    "apache_south.columns"
   ]
  },
  {
   "cell_type": "code",
   "execution_count": 17,
   "metadata": {},
   "outputs": [],
   "source": [
    "final = final_south[final_south['patientunitstayid'].isin(apache_south['patientunitstayid'])]"
   ]
  },
  {
   "cell_type": "code",
   "execution_count": 18,
   "metadata": {},
   "outputs": [
    {
     "data": {
      "text/plain": [
       "(50945, 6)"
      ]
     },
     "execution_count": 18,
     "metadata": {},
     "output_type": "execute_result"
    }
   ],
   "source": [
    "final.shape"
   ]
  },
  {
   "cell_type": "code",
   "execution_count": 19,
   "metadata": {},
   "outputs": [
    {
     "data": {
      "text/plain": [
       "1         309640\n",
       "2         309646\n",
       "3         309754\n",
       "4         309852\n",
       "5         309873\n",
       "          ...   \n",
       "56660    3353235\n",
       "56661    3353237\n",
       "56662    3353251\n",
       "56663    3353254\n",
       "56664    3353263\n",
       "Name: patientunitstayid, Length: 50945, dtype: int64"
      ]
     },
     "execution_count": 19,
     "metadata": {},
     "output_type": "execute_result"
    }
   ],
   "source": [
    "final['patientunitstayid']"
   ]
  },
  {
   "cell_type": "code",
   "execution_count": null,
   "metadata": {},
   "outputs": [],
   "source": []
  },
  {
   "cell_type": "code",
   "execution_count": 20,
   "metadata": {},
   "outputs": [],
   "source": [
    "final = pd.merge(final, apache_south, on = 'patientunitstayid')"
   ]
  },
  {
   "cell_type": "code",
   "execution_count": 21,
   "metadata": {},
   "outputs": [
    {
     "data": {
      "text/plain": [
       "(50945, 11)"
      ]
     },
     "execution_count": 21,
     "metadata": {},
     "output_type": "execute_result"
    }
   ],
   "source": [
    "final.shape"
   ]
  },
  {
   "cell_type": "code",
   "execution_count": 22,
   "metadata": {
    "scrolled": true
   },
   "outputs": [
    {
     "data": {
      "text/plain": [
       "Index(['patientunitstayid', 'gender', 'age', 'ethnicity', 'admissionweight',\n",
       "       'admissionheight', 'respiratoryrate', 'sodium', 'heartrate', 'meanbp',\n",
       "       'hematocrit'],\n",
       "      dtype='object')"
      ]
     },
     "execution_count": 22,
     "metadata": {},
     "output_type": "execute_result"
    }
   ],
   "source": [
    "final.columns"
   ]
  },
  {
   "cell_type": "code",
   "execution_count": 23,
   "metadata": {},
   "outputs": [
    {
     "data": {
      "text/plain": [
       "patientunitstayid       0\n",
       "gender                 27\n",
       "age                    25\n",
       "ethnicity            1213\n",
       "admissionweight      1752\n",
       "admissionheight      1156\n",
       "respiratoryrate         0\n",
       "sodium                  0\n",
       "heartrate               0\n",
       "meanbp                  0\n",
       "hematocrit              0\n",
       "dtype: int64"
      ]
     },
     "execution_count": 23,
     "metadata": {},
     "output_type": "execute_result"
    }
   ],
   "source": [
    "final.isnull().sum()"
   ]
  },
  {
   "cell_type": "code",
   "execution_count": 24,
   "metadata": {},
   "outputs": [],
   "source": [
    "final = final.dropna()"
   ]
  },
  {
   "cell_type": "code",
   "execution_count": 25,
   "metadata": {},
   "outputs": [
    {
     "data": {
      "text/plain": [
       "patientunitstayid    0\n",
       "gender               0\n",
       "age                  0\n",
       "ethnicity            0\n",
       "admissionweight      0\n",
       "admissionheight      0\n",
       "respiratoryrate      0\n",
       "sodium               0\n",
       "heartrate            0\n",
       "meanbp               0\n",
       "hematocrit           0\n",
       "dtype: int64"
      ]
     },
     "execution_count": 25,
     "metadata": {},
     "output_type": "execute_result"
    }
   ],
   "source": [
    "final.isnull().sum()"
   ]
  },
  {
   "cell_type": "code",
   "execution_count": 26,
   "metadata": {},
   "outputs": [
    {
     "data": {
      "text/plain": [
       "(47762, 11)"
      ]
     },
     "execution_count": 26,
     "metadata": {},
     "output_type": "execute_result"
    }
   ],
   "source": [
    "final.shape"
   ]
  },
  {
   "cell_type": "code",
   "execution_count": 20,
   "metadata": {},
   "outputs": [
    {
     "name": "stdout",
     "output_type": "stream",
     "text": [
      "<class 'pandas.core.frame.DataFrame'>\n",
      "Int64Index: 47762 entries, 0 to 50944\n",
      "Data columns (total 11 columns):\n",
      "patientunitstayid    47762 non-null int64\n",
      "respiratoryrate      47762 non-null float64\n",
      "sodium               47762 non-null float64\n",
      "heartrate            47762 non-null int64\n",
      "meanbp               47762 non-null float64\n",
      "hematocrit           47762 non-null float64\n",
      "gender               47762 non-null object\n",
      "age                  47762 non-null object\n",
      "ethnicity            47762 non-null object\n",
      "admissionweight      47762 non-null float64\n",
      "admissionheight      47762 non-null float64\n",
      "dtypes: float64(6), int64(2), object(3)\n",
      "memory usage: 4.4+ MB\n"
     ]
    }
   ],
   "source": [
    "final.info()"
   ]
  },
  {
   "cell_type": "code",
   "execution_count": 21,
   "metadata": {},
   "outputs": [
    {
     "data": {
      "text/plain": [
       "array(['54', '74', '62', '55', '59', '76', '70', '> 89', '43', '41', '85',\n",
       "       '50', '67', '84', '86', '75', '72', '49', '53', '61', '32', '58',\n",
       "       '57', '60', '56', '71', '88', '66', '65', '80', '52', '81', '31',\n",
       "       '40', '51', '47', '83', '29', '73', '63', '42', '27', '16', '64',\n",
       "       '78', '82', '69', '48', '77', '87', '68', '89', '35', '38', '33',\n",
       "       '79', '45', '46', '25', '36', '44', '22', '37', '24', '39', '21',\n",
       "       '30', '23', '26', '18', '20', '34', '28', '0', '19', '17', '14',\n",
       "       '12', '15', '13', '8', '11'], dtype=object)"
      ]
     },
     "execution_count": 21,
     "metadata": {},
     "output_type": "execute_result"
    }
   ],
   "source": [
    "final[\"age\"].unique()"
   ]
  },
  {
   "cell_type": "code",
   "execution_count": 27,
   "metadata": {},
   "outputs": [
    {
     "data": {
      "text/plain": [
       "array(['54', '74', '62', '55', '59', '76', '70', '89', '43', '41', '85',\n",
       "       '50', '67', '84', '86', '75', '72', '49', '53', '61', '32', '58',\n",
       "       '57', '60', '56', '71', '88', '66', '65', '80', '52', '81', '31',\n",
       "       '40', '51', '47', '83', '29', '73', '63', '42', '27', '16', '64',\n",
       "       '78', '82', '69', '48', '77', '87', '68', '35', '38', '33', '79',\n",
       "       '45', '46', '25', '36', '44', '22', '37', '24', '39', '21', '30',\n",
       "       '23', '26', '18', '20', '34', '28', '0', '19', '17', '14', '12',\n",
       "       '15', '13', '8', '11'], dtype=object)"
      ]
     },
     "execution_count": 27,
     "metadata": {},
     "output_type": "execute_result"
    }
   ],
   "source": [
    "final[\"age\"].replace({\"> 89\":\"89\"}, inplace=True)\n",
    "\n",
    "final[\"age\"].unique()"
   ]
  },
  {
   "cell_type": "code",
   "execution_count": 28,
   "metadata": {},
   "outputs": [],
   "source": [
    "final[\"age\"] =final[\"age\"].astype(int)"
   ]
  },
  {
   "cell_type": "code",
   "execution_count": 29,
   "metadata": {},
   "outputs": [
    {
     "name": "stdout",
     "output_type": "stream",
     "text": [
      "<class 'pandas.core.frame.DataFrame'>\n",
      "Int64Index: 47762 entries, 0 to 50944\n",
      "Data columns (total 11 columns):\n",
      "patientunitstayid    47762 non-null int64\n",
      "gender               47762 non-null object\n",
      "age                  47762 non-null int64\n",
      "ethnicity            47762 non-null object\n",
      "admissionweight      47762 non-null float64\n",
      "admissionheight      47762 non-null float64\n",
      "respiratoryrate      47762 non-null float64\n",
      "sodium               47762 non-null float64\n",
      "heartrate            47762 non-null int64\n",
      "meanbp               47762 non-null float64\n",
      "hematocrit           47762 non-null float64\n",
      "dtypes: float64(6), int64(3), object(2)\n",
      "memory usage: 4.4+ MB\n"
     ]
    }
   ],
   "source": [
    "final.info()"
   ]
  },
  {
   "cell_type": "code",
   "execution_count": 30,
   "metadata": {},
   "outputs": [],
   "source": [
    "final = pd.get_dummies(final)"
   ]
  },
  {
   "cell_type": "code",
   "execution_count": 31,
   "metadata": {},
   "outputs": [
    {
     "data": {
      "text/plain": [
       "11280"
      ]
     },
     "execution_count": 31,
     "metadata": {},
     "output_type": "execute_result"
    }
   ],
   "source": [
    "len(final.loc[final[\"sodium\"] == -1])"
   ]
  },
  {
   "cell_type": "code",
   "execution_count": 32,
   "metadata": {},
   "outputs": [
    {
     "data": {
      "text/plain": [
       "384"
      ]
     },
     "execution_count": 32,
     "metadata": {},
     "output_type": "execute_result"
    }
   ],
   "source": [
    "len(final.loc[final[\"heartrate\"] == -1])"
   ]
  },
  {
   "cell_type": "code",
   "execution_count": 33,
   "metadata": {},
   "outputs": [
    {
     "data": {
      "text/plain": [
       "525"
      ]
     },
     "execution_count": 33,
     "metadata": {},
     "output_type": "execute_result"
    }
   ],
   "source": [
    "len(final.loc[final[\"meanbp\"] == -1])"
   ]
  },
  {
   "cell_type": "code",
   "execution_count": 34,
   "metadata": {},
   "outputs": [
    {
     "data": {
      "text/plain": [
       "12589"
      ]
     },
     "execution_count": 34,
     "metadata": {},
     "output_type": "execute_result"
    }
   ],
   "source": [
    "len(final.loc[final[\"hematocrit\"] == -1])"
   ]
  },
  {
   "cell_type": "code",
   "execution_count": 35,
   "metadata": {},
   "outputs": [],
   "source": [
    "final = final.drop(final.loc[final[\"sodium\"] == -1].index)"
   ]
  },
  {
   "cell_type": "code",
   "execution_count": 36,
   "metadata": {},
   "outputs": [
    {
     "data": {
      "text/plain": [
       "(36482, 19)"
      ]
     },
     "execution_count": 36,
     "metadata": {},
     "output_type": "execute_result"
    }
   ],
   "source": [
    "final.shape"
   ]
  },
  {
   "cell_type": "code",
   "execution_count": 32,
   "metadata": {},
   "outputs": [
    {
     "data": {
      "text/plain": [
       "3565"
      ]
     },
     "execution_count": 32,
     "metadata": {},
     "output_type": "execute_result"
    }
   ],
   "source": [
    "len(final.loc[final[\"hematocrit\"] == -1])"
   ]
  },
  {
   "cell_type": "code",
   "execution_count": 37,
   "metadata": {},
   "outputs": [],
   "source": [
    "final = final.drop(\"hematocrit\", axis = 1)"
   ]
  },
  {
   "cell_type": "code",
   "execution_count": 38,
   "metadata": {},
   "outputs": [],
   "source": [
    "final = final.drop(final.loc[final[\"heartrate\"] == -1].index)"
   ]
  },
  {
   "cell_type": "code",
   "execution_count": 39,
   "metadata": {},
   "outputs": [],
   "source": [
    "final = final.drop(final.loc[final[\"meanbp\"] == -1].index)"
   ]
  },
  {
   "cell_type": "code",
   "execution_count": 40,
   "metadata": {},
   "outputs": [],
   "source": [
    "final = final.drop(final.loc[final[\"respiratoryrate\"] == -1].index)"
   ]
  },
  {
   "cell_type": "code",
   "execution_count": 41,
   "metadata": {},
   "outputs": [
    {
     "data": {
      "text/plain": [
       "(36251, 18)"
      ]
     },
     "execution_count": 41,
     "metadata": {},
     "output_type": "execute_result"
    }
   ],
   "source": [
    "final.shape"
   ]
  },
  {
   "cell_type": "code",
   "execution_count": 42,
   "metadata": {},
   "outputs": [
    {
     "data": {
      "text/plain": [
       "(36251, 18)"
      ]
     },
     "execution_count": 42,
     "metadata": {},
     "output_type": "execute_result"
    }
   ],
   "source": [
    "final.shape"
   ]
  },
  {
   "cell_type": "code",
   "execution_count": 43,
   "metadata": {},
   "outputs": [
    {
     "data": {
      "text/plain": [
       "2         309754\n",
       "5         309887\n",
       "6         309891\n",
       "7         309892\n",
       "8         309917\n",
       "          ...   \n",
       "50935    3353200\n",
       "50937    3353213\n",
       "50938    3353216\n",
       "50941    3353237\n",
       "50942    3353251\n",
       "Name: patientunitstayid, Length: 36251, dtype: int64"
      ]
     },
     "execution_count": 43,
     "metadata": {},
     "output_type": "execute_result"
    }
   ],
   "source": [
    "final[\"patientunitstayid\"]"
   ]
  },
  {
   "cell_type": "code",
   "execution_count": 46,
   "metadata": {},
   "outputs": [],
   "source": [
    "idx = apache_patient_result[apache_patient_result.patientunitstayid.isin(final[\"patientunitstayid\"])][\"patientunitstayid\"].drop_duplicates().index"
   ]
  },
  {
   "cell_type": "code",
   "execution_count": 47,
   "metadata": {},
   "outputs": [
    {
     "data": {
      "text/plain": [
       "2         309754\n",
       "5         309887\n",
       "6         309891\n",
       "7         309892\n",
       "8         309917\n",
       "          ...   \n",
       "50935    3353200\n",
       "50937    3353213\n",
       "50938    3353216\n",
       "50941    3353237\n",
       "50942    3353251\n",
       "Name: patientunitstayid, Length: 36251, dtype: int64"
      ]
     },
     "execution_count": 47,
     "metadata": {},
     "output_type": "execute_result"
    }
   ],
   "source": [
    "final[\"patientunitstayid\"]"
   ]
  },
  {
   "cell_type": "code",
   "execution_count": 48,
   "metadata": {},
   "outputs": [],
   "source": [
    "x = apache_patient_result.loc[idx]"
   ]
  },
  {
   "cell_type": "code",
   "execution_count": 49,
   "metadata": {},
   "outputs": [
    {
     "data": {
      "text/html": [
       "<div>\n",
       "<style scoped>\n",
       "    .dataframe tbody tr th:only-of-type {\n",
       "        vertical-align: middle;\n",
       "    }\n",
       "\n",
       "    .dataframe tbody tr th {\n",
       "        vertical-align: top;\n",
       "    }\n",
       "\n",
       "    .dataframe thead th {\n",
       "        text-align: right;\n",
       "    }\n",
       "</style>\n",
       "<table border=\"1\" class=\"dataframe\">\n",
       "  <thead>\n",
       "    <tr style=\"text-align: right;\">\n",
       "      <th></th>\n",
       "      <th>apachepatientresultsid</th>\n",
       "      <th>patientunitstayid</th>\n",
       "      <th>physicianspeciality</th>\n",
       "      <th>physicianinterventioncategory</th>\n",
       "      <th>acutephysiologyscore</th>\n",
       "      <th>apachescore</th>\n",
       "      <th>apacheversion</th>\n",
       "      <th>predictedicumortality</th>\n",
       "      <th>actualicumortality</th>\n",
       "      <th>predictediculos</th>\n",
       "      <th>...</th>\n",
       "      <th>predictedhospitallos</th>\n",
       "      <th>actualhospitallos</th>\n",
       "      <th>preopmi</th>\n",
       "      <th>preopcardiaccath</th>\n",
       "      <th>ptcawithin24h</th>\n",
       "      <th>unabridgedunitlos</th>\n",
       "      <th>unabridgedhosplos</th>\n",
       "      <th>actualventdays</th>\n",
       "      <th>predventdays</th>\n",
       "      <th>unabridgedactualventdays</th>\n",
       "    </tr>\n",
       "  </thead>\n",
       "  <tbody>\n",
       "    <tr>\n",
       "      <td>25780</td>\n",
       "      <td>3405646</td>\n",
       "      <td>309754</td>\n",
       "      <td>pulmonary/CCM</td>\n",
       "      <td>I</td>\n",
       "      <td>40</td>\n",
       "      <td>51</td>\n",
       "      <td>IV</td>\n",
       "      <td>0.019718</td>\n",
       "      <td>ALIVE</td>\n",
       "      <td>3.076819</td>\n",
       "      <td>...</td>\n",
       "      <td>15.191354</td>\n",
       "      <td>5.9667</td>\n",
       "      <td>0</td>\n",
       "      <td>0</td>\n",
       "      <td>0</td>\n",
       "      <td>0.9750</td>\n",
       "      <td>5.9667</td>\n",
       "      <td>NaN</td>\n",
       "      <td>NaN</td>\n",
       "      <td>NaN</td>\n",
       "    </tr>\n",
       "    <tr>\n",
       "      <td>25786</td>\n",
       "      <td>3379074</td>\n",
       "      <td>309887</td>\n",
       "      <td>surgery-general</td>\n",
       "      <td>II</td>\n",
       "      <td>31</td>\n",
       "      <td>48</td>\n",
       "      <td>IVa</td>\n",
       "      <td>0.012025</td>\n",
       "      <td>ALIVE</td>\n",
       "      <td>2.092465</td>\n",
       "      <td>...</td>\n",
       "      <td>7.426016</td>\n",
       "      <td>7.4292</td>\n",
       "      <td>0</td>\n",
       "      <td>0</td>\n",
       "      <td>0</td>\n",
       "      <td>0.7479</td>\n",
       "      <td>7.4292</td>\n",
       "      <td>NaN</td>\n",
       "      <td>NaN</td>\n",
       "      <td>NaN</td>\n",
       "    </tr>\n",
       "    <tr>\n",
       "      <td>25788</td>\n",
       "      <td>3288756</td>\n",
       "      <td>309891</td>\n",
       "      <td>pulmonary/CCM</td>\n",
       "      <td>Unknown</td>\n",
       "      <td>47</td>\n",
       "      <td>63</td>\n",
       "      <td>IV</td>\n",
       "      <td>0.010168</td>\n",
       "      <td>ALIVE</td>\n",
       "      <td>3.590158</td>\n",
       "      <td>...</td>\n",
       "      <td>15.492303</td>\n",
       "      <td>40.1028</td>\n",
       "      <td>0</td>\n",
       "      <td>0</td>\n",
       "      <td>0</td>\n",
       "      <td>5.9944</td>\n",
       "      <td>40.1028</td>\n",
       "      <td>NaN</td>\n",
       "      <td>NaN</td>\n",
       "      <td>NaN</td>\n",
       "    </tr>\n",
       "    <tr>\n",
       "      <td>25790</td>\n",
       "      <td>3426898</td>\n",
       "      <td>309892</td>\n",
       "      <td>cardiology</td>\n",
       "      <td>Unknown</td>\n",
       "      <td>39</td>\n",
       "      <td>55</td>\n",
       "      <td>IV</td>\n",
       "      <td>0.047459</td>\n",
       "      <td>ALIVE</td>\n",
       "      <td>6.129612</td>\n",
       "      <td>...</td>\n",
       "      <td>-1.000000</td>\n",
       "      <td>40.1028</td>\n",
       "      <td>0</td>\n",
       "      <td>0</td>\n",
       "      <td>0</td>\n",
       "      <td>0.7291</td>\n",
       "      <td>40.1028</td>\n",
       "      <td>2.0</td>\n",
       "      <td>4.054670</td>\n",
       "      <td>2.0</td>\n",
       "    </tr>\n",
       "    <tr>\n",
       "      <td>25792</td>\n",
       "      <td>3310010</td>\n",
       "      <td>309917</td>\n",
       "      <td>unknown</td>\n",
       "      <td>III</td>\n",
       "      <td>37</td>\n",
       "      <td>61</td>\n",
       "      <td>IV</td>\n",
       "      <td>0.025724</td>\n",
       "      <td>ALIVE</td>\n",
       "      <td>1.850127</td>\n",
       "      <td>...</td>\n",
       "      <td>7.737637</td>\n",
       "      <td>4.2951</td>\n",
       "      <td>0</td>\n",
       "      <td>0</td>\n",
       "      <td>0</td>\n",
       "      <td>1.3569</td>\n",
       "      <td>4.2951</td>\n",
       "      <td>NaN</td>\n",
       "      <td>NaN</td>\n",
       "      <td>NaN</td>\n",
       "    </tr>\n",
       "    <tr>\n",
       "      <td>...</td>\n",
       "      <td>...</td>\n",
       "      <td>...</td>\n",
       "      <td>...</td>\n",
       "      <td>...</td>\n",
       "      <td>...</td>\n",
       "      <td>...</td>\n",
       "      <td>...</td>\n",
       "      <td>...</td>\n",
       "      <td>...</td>\n",
       "      <td>...</td>\n",
       "      <td>...</td>\n",
       "      <td>...</td>\n",
       "      <td>...</td>\n",
       "      <td>...</td>\n",
       "      <td>...</td>\n",
       "      <td>...</td>\n",
       "      <td>...</td>\n",
       "      <td>...</td>\n",
       "      <td>...</td>\n",
       "      <td>...</td>\n",
       "      <td>...</td>\n",
       "    </tr>\n",
       "    <tr>\n",
       "      <td>297044</td>\n",
       "      <td>3272787</td>\n",
       "      <td>3353200</td>\n",
       "      <td>critical care medicine (CCM)</td>\n",
       "      <td>II</td>\n",
       "      <td>44</td>\n",
       "      <td>57</td>\n",
       "      <td>IV</td>\n",
       "      <td>0.045303</td>\n",
       "      <td>ALIVE</td>\n",
       "      <td>7.303309</td>\n",
       "      <td>...</td>\n",
       "      <td>-1.000000</td>\n",
       "      <td>50.0000</td>\n",
       "      <td>0</td>\n",
       "      <td>0</td>\n",
       "      <td>0</td>\n",
       "      <td>4.5020</td>\n",
       "      <td>132.6257</td>\n",
       "      <td>5.0</td>\n",
       "      <td>3.884185</td>\n",
       "      <td>5.0</td>\n",
       "    </tr>\n",
       "    <tr>\n",
       "      <td>297048</td>\n",
       "      <td>3251548</td>\n",
       "      <td>3353213</td>\n",
       "      <td>critical care medicine (CCM)</td>\n",
       "      <td>II</td>\n",
       "      <td>24</td>\n",
       "      <td>29</td>\n",
       "      <td>IVa</td>\n",
       "      <td>0.024889</td>\n",
       "      <td>ALIVE</td>\n",
       "      <td>5.801727</td>\n",
       "      <td>...</td>\n",
       "      <td>11.623734</td>\n",
       "      <td>3.6125</td>\n",
       "      <td>0</td>\n",
       "      <td>0</td>\n",
       "      <td>0</td>\n",
       "      <td>3.4118</td>\n",
       "      <td>3.6125</td>\n",
       "      <td>2.0</td>\n",
       "      <td>2.201035</td>\n",
       "      <td>2.0</td>\n",
       "    </tr>\n",
       "    <tr>\n",
       "      <td>297050</td>\n",
       "      <td>3267484</td>\n",
       "      <td>3353216</td>\n",
       "      <td>Specialty Not Specified</td>\n",
       "      <td>II</td>\n",
       "      <td>47</td>\n",
       "      <td>52</td>\n",
       "      <td>IV</td>\n",
       "      <td>0.012796</td>\n",
       "      <td>ALIVE</td>\n",
       "      <td>4.360860</td>\n",
       "      <td>...</td>\n",
       "      <td>10.601542</td>\n",
       "      <td>2.1458</td>\n",
       "      <td>0</td>\n",
       "      <td>0</td>\n",
       "      <td>0</td>\n",
       "      <td>2.1458</td>\n",
       "      <td>2.1458</td>\n",
       "      <td>2.0</td>\n",
       "      <td>3.166850</td>\n",
       "      <td>2.0</td>\n",
       "    </tr>\n",
       "    <tr>\n",
       "      <td>297056</td>\n",
       "      <td>3246234</td>\n",
       "      <td>3353237</td>\n",
       "      <td>pulmonary/CCM</td>\n",
       "      <td>II</td>\n",
       "      <td>37</td>\n",
       "      <td>54</td>\n",
       "      <td>IV</td>\n",
       "      <td>0.027749</td>\n",
       "      <td>ALIVE</td>\n",
       "      <td>2.136223</td>\n",
       "      <td>...</td>\n",
       "      <td>7.813518</td>\n",
       "      <td>6.7215</td>\n",
       "      <td>0</td>\n",
       "      <td>0</td>\n",
       "      <td>0</td>\n",
       "      <td>0.8812</td>\n",
       "      <td>6.7215</td>\n",
       "      <td>NaN</td>\n",
       "      <td>NaN</td>\n",
       "      <td>NaN</td>\n",
       "    </tr>\n",
       "    <tr>\n",
       "      <td>297058</td>\n",
       "      <td>3272801</td>\n",
       "      <td>3353251</td>\n",
       "      <td>cardiology</td>\n",
       "      <td>II</td>\n",
       "      <td>142</td>\n",
       "      <td>158</td>\n",
       "      <td>IV</td>\n",
       "      <td>0.906322</td>\n",
       "      <td>ALIVE</td>\n",
       "      <td>4.051601</td>\n",
       "      <td>...</td>\n",
       "      <td>3.553571</td>\n",
       "      <td>13.4056</td>\n",
       "      <td>0</td>\n",
       "      <td>0</td>\n",
       "      <td>1</td>\n",
       "      <td>11.2909</td>\n",
       "      <td>13.4056</td>\n",
       "      <td>9.0</td>\n",
       "      <td>2.868396</td>\n",
       "      <td>9.0</td>\n",
       "    </tr>\n",
       "  </tbody>\n",
       "</table>\n",
       "<p>34601 rows × 23 columns</p>\n",
       "</div>"
      ],
      "text/plain": [
       "        apachepatientresultsid  patientunitstayid  \\\n",
       "25780                  3405646             309754   \n",
       "25786                  3379074             309887   \n",
       "25788                  3288756             309891   \n",
       "25790                  3426898             309892   \n",
       "25792                  3310010             309917   \n",
       "...                        ...                ...   \n",
       "297044                 3272787            3353200   \n",
       "297048                 3251548            3353213   \n",
       "297050                 3267484            3353216   \n",
       "297056                 3246234            3353237   \n",
       "297058                 3272801            3353251   \n",
       "\n",
       "                 physicianspeciality physicianinterventioncategory  \\\n",
       "25780                  pulmonary/CCM                             I   \n",
       "25786                surgery-general                            II   \n",
       "25788                  pulmonary/CCM                       Unknown   \n",
       "25790                     cardiology                       Unknown   \n",
       "25792                        unknown                           III   \n",
       "...                              ...                           ...   \n",
       "297044  critical care medicine (CCM)                            II   \n",
       "297048  critical care medicine (CCM)                            II   \n",
       "297050       Specialty Not Specified                            II   \n",
       "297056                 pulmonary/CCM                            II   \n",
       "297058                    cardiology                            II   \n",
       "\n",
       "        acutephysiologyscore  apachescore apacheversion  \\\n",
       "25780                     40           51            IV   \n",
       "25786                     31           48           IVa   \n",
       "25788                     47           63            IV   \n",
       "25790                     39           55            IV   \n",
       "25792                     37           61            IV   \n",
       "...                      ...          ...           ...   \n",
       "297044                    44           57            IV   \n",
       "297048                    24           29           IVa   \n",
       "297050                    47           52            IV   \n",
       "297056                    37           54            IV   \n",
       "297058                   142          158            IV   \n",
       "\n",
       "        predictedicumortality actualicumortality  predictediculos  ...  \\\n",
       "25780                0.019718              ALIVE         3.076819  ...   \n",
       "25786                0.012025              ALIVE         2.092465  ...   \n",
       "25788                0.010168              ALIVE         3.590158  ...   \n",
       "25790                0.047459              ALIVE         6.129612  ...   \n",
       "25792                0.025724              ALIVE         1.850127  ...   \n",
       "...                       ...                ...              ...  ...   \n",
       "297044               0.045303              ALIVE         7.303309  ...   \n",
       "297048               0.024889              ALIVE         5.801727  ...   \n",
       "297050               0.012796              ALIVE         4.360860  ...   \n",
       "297056               0.027749              ALIVE         2.136223  ...   \n",
       "297058               0.906322              ALIVE         4.051601  ...   \n",
       "\n",
       "        predictedhospitallos  actualhospitallos preopmi  preopcardiaccath  \\\n",
       "25780              15.191354             5.9667       0                 0   \n",
       "25786               7.426016             7.4292       0                 0   \n",
       "25788              15.492303            40.1028       0                 0   \n",
       "25790              -1.000000            40.1028       0                 0   \n",
       "25792               7.737637             4.2951       0                 0   \n",
       "...                      ...                ...     ...               ...   \n",
       "297044             -1.000000            50.0000       0                 0   \n",
       "297048             11.623734             3.6125       0                 0   \n",
       "297050             10.601542             2.1458       0                 0   \n",
       "297056              7.813518             6.7215       0                 0   \n",
       "297058              3.553571            13.4056       0                 0   \n",
       "\n",
       "        ptcawithin24h  unabridgedunitlos  unabridgedhosplos  actualventdays  \\\n",
       "25780               0             0.9750             5.9667             NaN   \n",
       "25786               0             0.7479             7.4292             NaN   \n",
       "25788               0             5.9944            40.1028             NaN   \n",
       "25790               0             0.7291            40.1028             2.0   \n",
       "25792               0             1.3569             4.2951             NaN   \n",
       "...               ...                ...                ...             ...   \n",
       "297044              0             4.5020           132.6257             5.0   \n",
       "297048              0             3.4118             3.6125             2.0   \n",
       "297050              0             2.1458             2.1458             2.0   \n",
       "297056              0             0.8812             6.7215             NaN   \n",
       "297058              1            11.2909            13.4056             9.0   \n",
       "\n",
       "        predventdays  unabridgedactualventdays  \n",
       "25780            NaN                       NaN  \n",
       "25786            NaN                       NaN  \n",
       "25788            NaN                       NaN  \n",
       "25790       4.054670                       2.0  \n",
       "25792            NaN                       NaN  \n",
       "...              ...                       ...  \n",
       "297044      3.884185                       5.0  \n",
       "297048      2.201035                       2.0  \n",
       "297050      3.166850                       2.0  \n",
       "297056           NaN                       NaN  \n",
       "297058      2.868396                       9.0  \n",
       "\n",
       "[34601 rows x 23 columns]"
      ]
     },
     "execution_count": 49,
     "metadata": {},
     "output_type": "execute_result"
    }
   ],
   "source": [
    "x"
   ]
  },
  {
   "cell_type": "code",
   "execution_count": 51,
   "metadata": {},
   "outputs": [],
   "source": [
    "icu_mort = x['actualicumortality']\n",
    "hosp_mort = x['actualhospitalmortality']\n",
    "\n",
    "icu_los = x['actualiculos']\n",
    "hosp_los = x['actualhospitallos']"
   ]
  },
  {
   "cell_type": "code",
   "execution_count": 54,
   "metadata": {},
   "outputs": [],
   "source": [
    "tmp_cols = ['actualicumortality', 'patientunitstayid']\n",
    "\n",
    "tmp = x[tmp_cols]"
   ]
  },
  {
   "cell_type": "code",
   "execution_count": 55,
   "metadata": {},
   "outputs": [
    {
     "ename": "IndexingError",
     "evalue": "Unalignable boolean Series provided as indexer (index of the boolean Series and of the indexed object do not match).",
     "output_type": "error",
     "traceback": [
      "\u001b[0;31m---------------------------------------------------------------------------\u001b[0m",
      "\u001b[0;31mIndexingError\u001b[0m                             Traceback (most recent call last)",
      "\u001b[0;32m<ipython-input-55-a20c626f59da>\u001b[0m in \u001b[0;36m<module>\u001b[0;34m\u001b[0m\n\u001b[0;32m----> 1\u001b[0;31m \u001b[0mfinal\u001b[0m\u001b[0;34m.\u001b[0m\u001b[0mloc\u001b[0m\u001b[0;34m[\u001b[0m\u001b[0mx\u001b[0m\u001b[0;34m[\u001b[0m\u001b[0;34m\"actualicumortality\"\u001b[0m\u001b[0;34m]\u001b[0m \u001b[0;34m==\u001b[0m \u001b[0;34m\"EXPIRED\"\u001b[0m\u001b[0;34m]\u001b[0m\u001b[0;34m\u001b[0m\u001b[0;34m\u001b[0m\u001b[0m\n\u001b[0m",
      "\u001b[0;32m~/opt/anaconda3/lib/python3.7/site-packages/pandas/core/indexing.py\u001b[0m in \u001b[0;36m__getitem__\u001b[0;34m(self, key)\u001b[0m\n\u001b[1;32m   1422\u001b[0m \u001b[0;34m\u001b[0m\u001b[0m\n\u001b[1;32m   1423\u001b[0m             \u001b[0mmaybe_callable\u001b[0m \u001b[0;34m=\u001b[0m \u001b[0mcom\u001b[0m\u001b[0;34m.\u001b[0m\u001b[0mapply_if_callable\u001b[0m\u001b[0;34m(\u001b[0m\u001b[0mkey\u001b[0m\u001b[0;34m,\u001b[0m \u001b[0mself\u001b[0m\u001b[0;34m.\u001b[0m\u001b[0mobj\u001b[0m\u001b[0;34m)\u001b[0m\u001b[0;34m\u001b[0m\u001b[0;34m\u001b[0m\u001b[0m\n\u001b[0;32m-> 1424\u001b[0;31m             \u001b[0;32mreturn\u001b[0m \u001b[0mself\u001b[0m\u001b[0;34m.\u001b[0m\u001b[0m_getitem_axis\u001b[0m\u001b[0;34m(\u001b[0m\u001b[0mmaybe_callable\u001b[0m\u001b[0;34m,\u001b[0m \u001b[0maxis\u001b[0m\u001b[0;34m=\u001b[0m\u001b[0maxis\u001b[0m\u001b[0;34m)\u001b[0m\u001b[0;34m\u001b[0m\u001b[0;34m\u001b[0m\u001b[0m\n\u001b[0m\u001b[1;32m   1425\u001b[0m \u001b[0;34m\u001b[0m\u001b[0m\n\u001b[1;32m   1426\u001b[0m     \u001b[0;32mdef\u001b[0m \u001b[0m_is_scalar_access\u001b[0m\u001b[0;34m(\u001b[0m\u001b[0mself\u001b[0m\u001b[0;34m,\u001b[0m \u001b[0mkey\u001b[0m\u001b[0;34m:\u001b[0m \u001b[0mTuple\u001b[0m\u001b[0;34m)\u001b[0m\u001b[0;34m:\u001b[0m\u001b[0;34m\u001b[0m\u001b[0;34m\u001b[0m\u001b[0m\n",
      "\u001b[0;32m~/opt/anaconda3/lib/python3.7/site-packages/pandas/core/indexing.py\u001b[0m in \u001b[0;36m_getitem_axis\u001b[0;34m(self, key, axis)\u001b[0m\n\u001b[1;32m   1797\u001b[0m             \u001b[0;32mreturn\u001b[0m \u001b[0mself\u001b[0m\u001b[0;34m.\u001b[0m\u001b[0m_get_slice_axis\u001b[0m\u001b[0;34m(\u001b[0m\u001b[0mkey\u001b[0m\u001b[0;34m,\u001b[0m \u001b[0maxis\u001b[0m\u001b[0;34m=\u001b[0m\u001b[0maxis\u001b[0m\u001b[0;34m)\u001b[0m\u001b[0;34m\u001b[0m\u001b[0;34m\u001b[0m\u001b[0m\n\u001b[1;32m   1798\u001b[0m         \u001b[0;32melif\u001b[0m \u001b[0mcom\u001b[0m\u001b[0;34m.\u001b[0m\u001b[0mis_bool_indexer\u001b[0m\u001b[0;34m(\u001b[0m\u001b[0mkey\u001b[0m\u001b[0;34m)\u001b[0m\u001b[0;34m:\u001b[0m\u001b[0;34m\u001b[0m\u001b[0;34m\u001b[0m\u001b[0m\n\u001b[0;32m-> 1799\u001b[0;31m             \u001b[0;32mreturn\u001b[0m \u001b[0mself\u001b[0m\u001b[0;34m.\u001b[0m\u001b[0m_getbool_axis\u001b[0m\u001b[0;34m(\u001b[0m\u001b[0mkey\u001b[0m\u001b[0;34m,\u001b[0m \u001b[0maxis\u001b[0m\u001b[0;34m=\u001b[0m\u001b[0maxis\u001b[0m\u001b[0;34m)\u001b[0m\u001b[0;34m\u001b[0m\u001b[0;34m\u001b[0m\u001b[0m\n\u001b[0m\u001b[1;32m   1800\u001b[0m         \u001b[0;32melif\u001b[0m \u001b[0mis_list_like_indexer\u001b[0m\u001b[0;34m(\u001b[0m\u001b[0mkey\u001b[0m\u001b[0;34m)\u001b[0m\u001b[0;34m:\u001b[0m\u001b[0;34m\u001b[0m\u001b[0;34m\u001b[0m\u001b[0m\n\u001b[1;32m   1801\u001b[0m \u001b[0;34m\u001b[0m\u001b[0m\n",
      "\u001b[0;32m~/opt/anaconda3/lib/python3.7/site-packages/pandas/core/indexing.py\u001b[0m in \u001b[0;36m_getbool_axis\u001b[0;34m(self, key, axis)\u001b[0m\n\u001b[1;32m   1436\u001b[0m         \u001b[0;31m# caller is responsible for ensuring non-None axis\u001b[0m\u001b[0;34m\u001b[0m\u001b[0;34m\u001b[0m\u001b[0;34m\u001b[0m\u001b[0m\n\u001b[1;32m   1437\u001b[0m         \u001b[0mlabels\u001b[0m \u001b[0;34m=\u001b[0m \u001b[0mself\u001b[0m\u001b[0;34m.\u001b[0m\u001b[0mobj\u001b[0m\u001b[0;34m.\u001b[0m\u001b[0m_get_axis\u001b[0m\u001b[0;34m(\u001b[0m\u001b[0maxis\u001b[0m\u001b[0;34m)\u001b[0m\u001b[0;34m\u001b[0m\u001b[0;34m\u001b[0m\u001b[0m\n\u001b[0;32m-> 1438\u001b[0;31m         \u001b[0mkey\u001b[0m \u001b[0;34m=\u001b[0m \u001b[0mcheck_bool_indexer\u001b[0m\u001b[0;34m(\u001b[0m\u001b[0mlabels\u001b[0m\u001b[0;34m,\u001b[0m \u001b[0mkey\u001b[0m\u001b[0;34m)\u001b[0m\u001b[0;34m\u001b[0m\u001b[0;34m\u001b[0m\u001b[0m\n\u001b[0m\u001b[1;32m   1439\u001b[0m         \u001b[0minds\u001b[0m\u001b[0;34m,\u001b[0m \u001b[0;34m=\u001b[0m \u001b[0mkey\u001b[0m\u001b[0;34m.\u001b[0m\u001b[0mnonzero\u001b[0m\u001b[0;34m(\u001b[0m\u001b[0;34m)\u001b[0m\u001b[0;34m\u001b[0m\u001b[0;34m\u001b[0m\u001b[0m\n\u001b[1;32m   1440\u001b[0m         \u001b[0;32mtry\u001b[0m\u001b[0;34m:\u001b[0m\u001b[0;34m\u001b[0m\u001b[0;34m\u001b[0m\u001b[0m\n",
      "\u001b[0;32m~/opt/anaconda3/lib/python3.7/site-packages/pandas/core/indexing.py\u001b[0m in \u001b[0;36mcheck_bool_indexer\u001b[0;34m(index, key)\u001b[0m\n\u001b[1;32m   2409\u001b[0m         \u001b[0;32mif\u001b[0m \u001b[0mmask\u001b[0m\u001b[0;34m.\u001b[0m\u001b[0many\u001b[0m\u001b[0;34m(\u001b[0m\u001b[0;34m)\u001b[0m\u001b[0;34m:\u001b[0m\u001b[0;34m\u001b[0m\u001b[0;34m\u001b[0m\u001b[0m\n\u001b[1;32m   2410\u001b[0m             raise IndexingError(\n\u001b[0;32m-> 2411\u001b[0;31m                 \u001b[0;34m\"Unalignable boolean Series provided as \"\u001b[0m\u001b[0;34m\u001b[0m\u001b[0;34m\u001b[0m\u001b[0m\n\u001b[0m\u001b[1;32m   2412\u001b[0m                 \u001b[0;34m\"indexer (index of the boolean Series and of \"\u001b[0m\u001b[0;34m\u001b[0m\u001b[0;34m\u001b[0m\u001b[0m\n\u001b[1;32m   2413\u001b[0m                 \u001b[0;34m\"the indexed object do not match).\"\u001b[0m\u001b[0;34m\u001b[0m\u001b[0;34m\u001b[0m\u001b[0m\n",
      "\u001b[0;31mIndexingError\u001b[0m: Unalignable boolean Series provided as indexer (index of the boolean Series and of the indexed object do not match)."
     ]
    }
   ],
   "source": [
    "final.loc[x[\"actualicumortality\"] == \"EXPIRED\"]"
   ]
  },
  {
   "cell_type": "code",
   "execution_count": 56,
   "metadata": {
    "scrolled": true
   },
   "outputs": [
    {
     "data": {
      "text/plain": [
       "34601"
      ]
     },
     "execution_count": 56,
     "metadata": {},
     "output_type": "execute_result"
    }
   ],
   "source": [
    "len(icu_mort)"
   ]
  },
  {
   "cell_type": "code",
   "execution_count": 57,
   "metadata": {},
   "outputs": [],
   "source": [
    "final = final[final.patientunitstayid.isin(apache_patient_result.loc[idx]['patientunitstayid'])]"
   ]
  },
  {
   "cell_type": "code",
   "execution_count": 58,
   "metadata": {},
   "outputs": [
    {
     "data": {
      "text/plain": [
       "(34601, 18)"
      ]
     },
     "execution_count": 58,
     "metadata": {},
     "output_type": "execute_result"
    }
   ],
   "source": [
    "final.shape"
   ]
  },
  {
   "cell_type": "code",
   "execution_count": 63,
   "metadata": {},
   "outputs": [
    {
     "data": {
      "text/html": [
       "<div>\n",
       "<style scoped>\n",
       "    .dataframe tbody tr th:only-of-type {\n",
       "        vertical-align: middle;\n",
       "    }\n",
       "\n",
       "    .dataframe tbody tr th {\n",
       "        vertical-align: top;\n",
       "    }\n",
       "\n",
       "    .dataframe thead th {\n",
       "        text-align: right;\n",
       "    }\n",
       "</style>\n",
       "<table border=\"1\" class=\"dataframe\">\n",
       "  <thead>\n",
       "    <tr style=\"text-align: right;\">\n",
       "      <th></th>\n",
       "      <th>apachepatientresultsid</th>\n",
       "      <th>patientunitstayid</th>\n",
       "      <th>physicianspeciality</th>\n",
       "      <th>physicianinterventioncategory</th>\n",
       "      <th>acutephysiologyscore</th>\n",
       "      <th>apachescore</th>\n",
       "      <th>apacheversion</th>\n",
       "      <th>predictedicumortality</th>\n",
       "      <th>actualicumortality</th>\n",
       "      <th>predictediculos</th>\n",
       "      <th>...</th>\n",
       "      <th>predictedhospitallos</th>\n",
       "      <th>actualhospitallos</th>\n",
       "      <th>preopmi</th>\n",
       "      <th>preopcardiaccath</th>\n",
       "      <th>ptcawithin24h</th>\n",
       "      <th>unabridgedunitlos</th>\n",
       "      <th>unabridgedhosplos</th>\n",
       "      <th>actualventdays</th>\n",
       "      <th>predventdays</th>\n",
       "      <th>unabridgedactualventdays</th>\n",
       "    </tr>\n",
       "  </thead>\n",
       "  <tbody>\n",
       "    <tr>\n",
       "      <td>25822</td>\n",
       "      <td>3379090</td>\n",
       "      <td>310277</td>\n",
       "      <td>nephrology</td>\n",
       "      <td>I</td>\n",
       "      <td>99</td>\n",
       "      <td>104</td>\n",
       "      <td>IVa</td>\n",
       "      <td>0.170288</td>\n",
       "      <td>EXPIRED</td>\n",
       "      <td>5.50608</td>\n",
       "      <td>...</td>\n",
       "      <td>12.02981</td>\n",
       "      <td>3.0694</td>\n",
       "      <td>0</td>\n",
       "      <td>0</td>\n",
       "      <td>0</td>\n",
       "      <td>2.9298</td>\n",
       "      <td>3.0694</td>\n",
       "      <td>NaN</td>\n",
       "      <td>NaN</td>\n",
       "      <td>NaN</td>\n",
       "    </tr>\n",
       "  </tbody>\n",
       "</table>\n",
       "<p>1 rows × 23 columns</p>\n",
       "</div>"
      ],
      "text/plain": [
       "       apachepatientresultsid  patientunitstayid physicianspeciality  \\\n",
       "25822                 3379090             310277          nephrology   \n",
       "\n",
       "      physicianinterventioncategory  acutephysiologyscore  apachescore  \\\n",
       "25822                             I                    99          104   \n",
       "\n",
       "      apacheversion  predictedicumortality actualicumortality  \\\n",
       "25822           IVa               0.170288            EXPIRED   \n",
       "\n",
       "       predictediculos  ...  predictedhospitallos  actualhospitallos preopmi  \\\n",
       "25822          5.50608  ...              12.02981             3.0694       0   \n",
       "\n",
       "       preopcardiaccath  ptcawithin24h  unabridgedunitlos  unabridgedhosplos  \\\n",
       "25822                 0              0             2.9298             3.0694   \n",
       "\n",
       "       actualventdays  predventdays  unabridgedactualventdays  \n",
       "25822             NaN           NaN                       NaN  \n",
       "\n",
       "[1 rows x 23 columns]"
      ]
     },
     "execution_count": 63,
     "metadata": {},
     "output_type": "execute_result"
    }
   ],
   "source": [
    "final.loc[final[\"patientunitstayid\"] == 310277]"
   ]
  },
  {
   "cell_type": "code",
   "execution_count": 64,
   "metadata": {},
   "outputs": [],
   "source": [
    "final_patient_id = final['patientunitstayid']"
   ]
  },
  {
   "cell_type": "code",
   "execution_count": 65,
   "metadata": {},
   "outputs": [],
   "source": [
    "final = final.drop(\"patientunitstayid\", axis = 1)"
   ]
  },
  {
   "cell_type": "code",
   "execution_count": 66,
   "metadata": {},
   "outputs": [
    {
     "data": {
      "text/html": [
       "<div>\n",
       "<style scoped>\n",
       "    .dataframe tbody tr th:only-of-type {\n",
       "        vertical-align: middle;\n",
       "    }\n",
       "\n",
       "    .dataframe tbody tr th {\n",
       "        vertical-align: top;\n",
       "    }\n",
       "\n",
       "    .dataframe thead th {\n",
       "        text-align: right;\n",
       "    }\n",
       "</style>\n",
       "<table border=\"1\" class=\"dataframe\">\n",
       "  <thead>\n",
       "    <tr style=\"text-align: right;\">\n",
       "      <th></th>\n",
       "      <th>apachepatientresultsid</th>\n",
       "      <th>physicianspeciality</th>\n",
       "      <th>physicianinterventioncategory</th>\n",
       "      <th>acutephysiologyscore</th>\n",
       "      <th>apachescore</th>\n",
       "      <th>apacheversion</th>\n",
       "      <th>predictedicumortality</th>\n",
       "      <th>actualicumortality</th>\n",
       "      <th>predictediculos</th>\n",
       "      <th>actualiculos</th>\n",
       "      <th>...</th>\n",
       "      <th>predictedhospitallos</th>\n",
       "      <th>actualhospitallos</th>\n",
       "      <th>preopmi</th>\n",
       "      <th>preopcardiaccath</th>\n",
       "      <th>ptcawithin24h</th>\n",
       "      <th>unabridgedunitlos</th>\n",
       "      <th>unabridgedhosplos</th>\n",
       "      <th>actualventdays</th>\n",
       "      <th>predventdays</th>\n",
       "      <th>unabridgedactualventdays</th>\n",
       "    </tr>\n",
       "  </thead>\n",
       "  <tbody>\n",
       "    <tr>\n",
       "      <td>25780</td>\n",
       "      <td>3405646</td>\n",
       "      <td>pulmonary/CCM</td>\n",
       "      <td>I</td>\n",
       "      <td>40</td>\n",
       "      <td>51</td>\n",
       "      <td>IV</td>\n",
       "      <td>0.019718</td>\n",
       "      <td>ALIVE</td>\n",
       "      <td>3.076819</td>\n",
       "      <td>0.9750</td>\n",
       "      <td>...</td>\n",
       "      <td>15.191354</td>\n",
       "      <td>5.9667</td>\n",
       "      <td>0</td>\n",
       "      <td>0</td>\n",
       "      <td>0</td>\n",
       "      <td>0.9750</td>\n",
       "      <td>5.9667</td>\n",
       "      <td>NaN</td>\n",
       "      <td>NaN</td>\n",
       "      <td>NaN</td>\n",
       "    </tr>\n",
       "    <tr>\n",
       "      <td>25786</td>\n",
       "      <td>3379074</td>\n",
       "      <td>surgery-general</td>\n",
       "      <td>II</td>\n",
       "      <td>31</td>\n",
       "      <td>48</td>\n",
       "      <td>IVa</td>\n",
       "      <td>0.012025</td>\n",
       "      <td>ALIVE</td>\n",
       "      <td>2.092465</td>\n",
       "      <td>0.7479</td>\n",
       "      <td>...</td>\n",
       "      <td>7.426016</td>\n",
       "      <td>7.4292</td>\n",
       "      <td>0</td>\n",
       "      <td>0</td>\n",
       "      <td>0</td>\n",
       "      <td>0.7479</td>\n",
       "      <td>7.4292</td>\n",
       "      <td>NaN</td>\n",
       "      <td>NaN</td>\n",
       "      <td>NaN</td>\n",
       "    </tr>\n",
       "    <tr>\n",
       "      <td>25788</td>\n",
       "      <td>3288756</td>\n",
       "      <td>pulmonary/CCM</td>\n",
       "      <td>Unknown</td>\n",
       "      <td>47</td>\n",
       "      <td>63</td>\n",
       "      <td>IV</td>\n",
       "      <td>0.010168</td>\n",
       "      <td>ALIVE</td>\n",
       "      <td>3.590158</td>\n",
       "      <td>5.9944</td>\n",
       "      <td>...</td>\n",
       "      <td>15.492303</td>\n",
       "      <td>40.1028</td>\n",
       "      <td>0</td>\n",
       "      <td>0</td>\n",
       "      <td>0</td>\n",
       "      <td>5.9944</td>\n",
       "      <td>40.1028</td>\n",
       "      <td>NaN</td>\n",
       "      <td>NaN</td>\n",
       "      <td>NaN</td>\n",
       "    </tr>\n",
       "    <tr>\n",
       "      <td>25790</td>\n",
       "      <td>3426898</td>\n",
       "      <td>cardiology</td>\n",
       "      <td>Unknown</td>\n",
       "      <td>39</td>\n",
       "      <td>55</td>\n",
       "      <td>IV</td>\n",
       "      <td>0.047459</td>\n",
       "      <td>ALIVE</td>\n",
       "      <td>6.129612</td>\n",
       "      <td>0.7291</td>\n",
       "      <td>...</td>\n",
       "      <td>-1.000000</td>\n",
       "      <td>40.1028</td>\n",
       "      <td>0</td>\n",
       "      <td>0</td>\n",
       "      <td>0</td>\n",
       "      <td>0.7291</td>\n",
       "      <td>40.1028</td>\n",
       "      <td>2.0</td>\n",
       "      <td>4.05467</td>\n",
       "      <td>2.0</td>\n",
       "    </tr>\n",
       "    <tr>\n",
       "      <td>25792</td>\n",
       "      <td>3310010</td>\n",
       "      <td>unknown</td>\n",
       "      <td>III</td>\n",
       "      <td>37</td>\n",
       "      <td>61</td>\n",
       "      <td>IV</td>\n",
       "      <td>0.025724</td>\n",
       "      <td>ALIVE</td>\n",
       "      <td>1.850127</td>\n",
       "      <td>1.3569</td>\n",
       "      <td>...</td>\n",
       "      <td>7.737637</td>\n",
       "      <td>4.2951</td>\n",
       "      <td>0</td>\n",
       "      <td>0</td>\n",
       "      <td>0</td>\n",
       "      <td>1.3569</td>\n",
       "      <td>4.2951</td>\n",
       "      <td>NaN</td>\n",
       "      <td>NaN</td>\n",
       "      <td>NaN</td>\n",
       "    </tr>\n",
       "  </tbody>\n",
       "</table>\n",
       "<p>5 rows × 22 columns</p>\n",
       "</div>"
      ],
      "text/plain": [
       "       apachepatientresultsid physicianspeciality  \\\n",
       "25780                 3405646       pulmonary/CCM   \n",
       "25786                 3379074     surgery-general   \n",
       "25788                 3288756       pulmonary/CCM   \n",
       "25790                 3426898          cardiology   \n",
       "25792                 3310010             unknown   \n",
       "\n",
       "      physicianinterventioncategory  acutephysiologyscore  apachescore  \\\n",
       "25780                             I                    40           51   \n",
       "25786                            II                    31           48   \n",
       "25788                       Unknown                    47           63   \n",
       "25790                       Unknown                    39           55   \n",
       "25792                           III                    37           61   \n",
       "\n",
       "      apacheversion  predictedicumortality actualicumortality  \\\n",
       "25780            IV               0.019718              ALIVE   \n",
       "25786           IVa               0.012025              ALIVE   \n",
       "25788            IV               0.010168              ALIVE   \n",
       "25790            IV               0.047459              ALIVE   \n",
       "25792            IV               0.025724              ALIVE   \n",
       "\n",
       "       predictediculos  actualiculos  ...  predictedhospitallos  \\\n",
       "25780         3.076819        0.9750  ...             15.191354   \n",
       "25786         2.092465        0.7479  ...              7.426016   \n",
       "25788         3.590158        5.9944  ...             15.492303   \n",
       "25790         6.129612        0.7291  ...             -1.000000   \n",
       "25792         1.850127        1.3569  ...              7.737637   \n",
       "\n",
       "      actualhospitallos  preopmi  preopcardiaccath  ptcawithin24h  \\\n",
       "25780            5.9667        0                 0              0   \n",
       "25786            7.4292        0                 0              0   \n",
       "25788           40.1028        0                 0              0   \n",
       "25790           40.1028        0                 0              0   \n",
       "25792            4.2951        0                 0              0   \n",
       "\n",
       "       unabridgedunitlos  unabridgedhosplos  actualventdays  predventdays  \\\n",
       "25780             0.9750             5.9667             NaN           NaN   \n",
       "25786             0.7479             7.4292             NaN           NaN   \n",
       "25788             5.9944            40.1028             NaN           NaN   \n",
       "25790             0.7291            40.1028             2.0       4.05467   \n",
       "25792             1.3569             4.2951             NaN           NaN   \n",
       "\n",
       "       unabridgedactualventdays  \n",
       "25780                       NaN  \n",
       "25786                       NaN  \n",
       "25788                       NaN  \n",
       "25790                       2.0  \n",
       "25792                       NaN  \n",
       "\n",
       "[5 rows x 22 columns]"
      ]
     },
     "execution_count": 66,
     "metadata": {},
     "output_type": "execute_result"
    }
   ],
   "source": [
    "final.head()"
   ]
  },
  {
   "cell_type": "code",
   "execution_count": 54,
   "metadata": {},
   "outputs": [
    {
     "data": {
      "text/plain": [
       "(34601, 17)"
      ]
     },
     "execution_count": 54,
     "metadata": {},
     "output_type": "execute_result"
    }
   ],
   "source": [
    "final.shape"
   ]
  },
  {
   "cell_type": "code",
   "execution_count": null,
   "metadata": {},
   "outputs": [],
   "source": [
    "#extremely unbalanced class\n",
    "2126/(32474+2126)"
   ]
  },
  {
   "cell_type": "code",
   "execution_count": null,
   "metadata": {},
   "outputs": [],
   "source": [
    "range(final.shape[0])"
   ]
  },
  {
   "cell_type": "code",
   "execution_count": null,
   "metadata": {},
   "outputs": [],
   "source": [
    "tmp = final.reset_index(drop=True, inplace = True)"
   ]
  },
  {
   "cell_type": "code",
   "execution_count": null,
   "metadata": {},
   "outputs": [],
   "source": [
    "final"
   ]
  },
  {
   "cell_type": "code",
   "execution_count": null,
   "metadata": {},
   "outputs": [],
   "source": [
    "final = final.drop(\"label\", axis = 1)"
   ]
  },
  {
   "cell_type": "code",
   "execution_count": null,
   "metadata": {},
   "outputs": [],
   "source": [
    "icu_mort.reset_index(drop=True, inplace = True)"
   ]
  },
  {
   "cell_type": "code",
   "execution_count": null,
   "metadata": {},
   "outputs": [],
   "source": [
    "final[\"label\"] = icu_mort"
   ]
  },
  {
   "cell_type": "code",
   "execution_count": null,
   "metadata": {},
   "outputs": [],
   "source": [
    "icu_mort"
   ]
  },
  {
   "cell_type": "code",
   "execution_count": null,
   "metadata": {},
   "outputs": [],
   "source": [
    "final"
   ]
  },
  {
   "cell_type": "code",
   "execution_count": null,
   "metadata": {},
   "outputs": [],
   "source": [
    "from sklearn.model_selection import StratifiedShuffleSplit\n",
    "\n",
    "split = StratifiedShuffleSplit(n_splits = 1, test_size = 0.2, random_state = 42)\n",
    "\n",
    "for train_index, test_index in split.split(final, final['label']):\n",
    "    training = final.loc[train_index]\n",
    "    testing = final.loc[test_index]\n",
    "    \n"
   ]
  },
  {
   "cell_type": "code",
   "execution_count": null,
   "metadata": {},
   "outputs": [],
   "source": [
    "training[\"label\"].value_counts()"
   ]
  },
  {
   "cell_type": "code",
   "execution_count": null,
   "metadata": {},
   "outputs": [],
   "source": [
    "testing[\"label\"].value_counts()"
   ]
  },
  {
   "cell_type": "code",
   "execution_count": null,
   "metadata": {},
   "outputs": [],
   "source": [
    "testing_label = testing[\"label\"]"
   ]
  },
  {
   "cell_type": "code",
   "execution_count": null,
   "metadata": {},
   "outputs": [],
   "source": [
    "testing_data = testing.drop(\"label\", axis = 1)"
   ]
  },
  {
   "cell_type": "code",
   "execution_count": null,
   "metadata": {},
   "outputs": [],
   "source": [
    "testing_label"
   ]
  },
  {
   "cell_type": "code",
   "execution_count": null,
   "metadata": {},
   "outputs": [],
   "source": [
    "testing_data"
   ]
  },
  {
   "cell_type": "code",
   "execution_count": null,
   "metadata": {},
   "outputs": [],
   "source": [
    "from sklearn.utils import resample\n",
    "\n",
    "#upsampling\n",
    "\n",
    "training_alive = training.loc[training[\"label\"] == \"ALIVE\"]\n",
    "training_expired = training.loc[training[\"label\"] == \"EXPIRED\"]"
   ]
  },
  {
   "cell_type": "code",
   "execution_count": null,
   "metadata": {},
   "outputs": [],
   "source": [
    "training_expired_upsample = resample(training_expired, replace = True, n_samples = 25979, random_state = 123)\n",
    "\n",
    "training_upsampled = pd.concat([training_alive, training_expired_upsample])\n",
    "\n",
    "training_upsampled[\"label\"].value_counts()"
   ]
  },
  {
   "cell_type": "code",
   "execution_count": null,
   "metadata": {},
   "outputs": [],
   "source": [
    "import numpy as np\n",
    "import math\n",
    "\n",
    "def create_interaction_df(df):\n",
    "    mult_df = pd.DataFrame()\n",
    "    div_df = pd.DataFrame()\n",
    "    for i in df.columns[:]:\n",
    "        for j in df.columns[:]:\n",
    "            mult_df[i+\" and \"+j] = df[i] * df[j]\n",
    "            if(np.isnan(df[i]/df[j]).any() or np.isposinf(df[i]/df[j])).any() or np.isneginf(df[i]/df[j]).any():\n",
    "                pass\n",
    "            else:\n",
    "                div_df[i+\" and \"+j] = df[i] / df[j]\n",
    "    return mult_df, div_df"
   ]
  },
  {
   "cell_type": "code",
   "execution_count": null,
   "metadata": {},
   "outputs": [],
   "source": [
    "training_label = training_upsampled[\"label\"]\n",
    "training_data = training_upsampled.drop(\"label\", axis = 1)"
   ]
  },
  {
   "cell_type": "code",
   "execution_count": null,
   "metadata": {},
   "outputs": [],
   "source": [
    "training_label"
   ]
  },
  {
   "cell_type": "code",
   "execution_count": null,
   "metadata": {},
   "outputs": [],
   "source": [
    "toreplace = {\"ALIVE\" : 1, \"EXPIRED\":0 }\n",
    "\n",
    "training_label.replace(toreplace, inplace = True)"
   ]
  },
  {
   "cell_type": "code",
   "execution_count": null,
   "metadata": {},
   "outputs": [],
   "source": [
    "training_label"
   ]
  },
  {
   "cell_type": "code",
   "execution_count": null,
   "metadata": {},
   "outputs": [],
   "source": [
    "training_upsampled.shape"
   ]
  },
  {
   "cell_type": "code",
   "execution_count": null,
   "metadata": {},
   "outputs": [],
   "source": [
    "train_mult, train_div = create_interaction_df(training_data)"
   ]
  },
  {
   "cell_type": "code",
   "execution_count": null,
   "metadata": {},
   "outputs": [],
   "source": [
    "train_mult.shape"
   ]
  },
  {
   "cell_type": "code",
   "execution_count": null,
   "metadata": {},
   "outputs": [],
   "source": [
    "from sklearn.linear_model import LogisticRegression\n",
    "from sklearn.discriminant_analysis import LinearDiscriminantAnalysis\n",
    "from sklearn.neighbors import KNeighborsClassifier\n",
    "from sklearn.naive_bayes import GaussianNB\n",
    "from sklearn.svm import SVC\n",
    "from sklearn.ensemble import RandomForestClassifier\n",
    "from sklearn.model_selection import cross_val_score\n",
    "\n",
    "\n",
    "\n",
    "lr = LogisticRegression()\n",
    "lda = LinearDiscriminantAnalysis()\n",
    "knn = KNeighborsClassifier()\n",
    "nb = GaussianNB()\n",
    "svm = SVC()\n",
    "rf = RandomForestClassifier()\n"
   ]
  },
  {
   "cell_type": "code",
   "execution_count": null,
   "metadata": {},
   "outputs": [],
   "source": [
    "sk_models = [lr, lda, knn, nb, svm, rf]\n",
    "sk_model_names = [\"lr\", \"lda\", \"knn\", \"nb\", \"svm\", \"rf\"]\n",
    "data = [training_upsampled, train_mult, train_div]\n",
    "data_names = [\"original\", \"mult\", \"div\"]\n",
    "\n",
    "acc_dict = dict()\n",
    "roc_dict = dict()\n",
    "f1_dict = dict()\n",
    "\n",
    "for m in range(len(sk_models)):\n",
    "    for d in range(len(data)):\n",
    "        print(\"m\", m)\n",
    "        print(\"d\", d)\n",
    "        name = sk_model_names[m] +\"_\"+ data_names[d]\n",
    "        acc = cross_val_score(sk_models[m], data[d], training_label, scoring = 'accuracy', cv = 5)\n",
    "        roc = cross_val_score(sk_models[m], data[d], training_label, scoring = 'roc_auc', cv = 5)\n",
    "        f1_cv = cross_val_score(sk_models[m], data[d], training_label, scoring = 'f1', cv = 5)\n",
    "        acc_dict[name] = acc\n",
    "        roc_dict[name] = roc\n",
    "        f1_dict[name] = f1_cv"
   ]
  },
  {
   "cell_type": "code",
   "execution_count": null,
   "metadata": {},
   "outputs": [],
   "source": []
  },
  {
   "cell_type": "code",
   "execution_count": null,
   "metadata": {},
   "outputs": [],
   "source": []
  },
  {
   "cell_type": "code",
   "execution_count": null,
   "metadata": {},
   "outputs": [],
   "source": []
  },
  {
   "cell_type": "code",
   "execution_count": null,
   "metadata": {},
   "outputs": [],
   "source": []
  },
  {
   "cell_type": "code",
   "execution_count": null,
   "metadata": {},
   "outputs": [],
   "source": []
  },
  {
   "cell_type": "code",
   "execution_count": null,
   "metadata": {},
   "outputs": [],
   "source": []
  },
  {
   "cell_type": "code",
   "execution_count": null,
   "metadata": {},
   "outputs": [],
   "source": []
  },
  {
   "cell_type": "code",
   "execution_count": null,
   "metadata": {},
   "outputs": [],
   "source": []
  },
  {
   "cell_type": "code",
   "execution_count": null,
   "metadata": {},
   "outputs": [],
   "source": []
  },
  {
   "cell_type": "code",
   "execution_count": null,
   "metadata": {},
   "outputs": [],
   "source": []
  }
 ],
 "metadata": {
  "kernelspec": {
   "display_name": "Python 3",
   "language": "python",
   "name": "python3"
  },
  "language_info": {
   "codemirror_mode": {
    "name": "ipython",
    "version": 3
   },
   "file_extension": ".py",
   "mimetype": "text/x-python",
   "name": "python",
   "nbconvert_exporter": "python",
   "pygments_lexer": "ipython3",
   "version": "3.7.4"
  }
 },
 "nbformat": 4,
 "nbformat_minor": 2
}
