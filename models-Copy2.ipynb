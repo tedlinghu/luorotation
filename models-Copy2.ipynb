{
 "cells": [
  {
   "cell_type": "code",
   "execution_count": 2,
   "metadata": {},
   "outputs": [],
   "source": [
    "import query\n",
    "import pandas as pd \n",
    "import numpy as np\n",
    "import sql_db\n",
    "import seaborn as sn\n",
    "import sys\n",
    "import operator\n",
    "import matplotlib.pyplot as plt\n",
    "from sklearn.preprocessing import OneHotEncoder\n",
    "\n",
    "patient = pd.read_csv(\"/Users/tedlinghu/Downloads/eICU data/patient.csv\")\n",
    "hospital = pd.read_csv(\"/Users/tedlinghu/Downloads/eICU data/hospital.csv\")\n",
    "apache_vars = pd.read_csv(\"/Users/tedlinghu/Downloads/eICU data/apacheApsVar.csv\")\n",
    "cpc = pd.read_csv(\"/Users/tedlinghu/Downloads/eICU data/carePlanCareProvider.csv\")\n",
    "apache_patient_result = pd.read_csv(\"/Users/tedlinghu/Downloads/eICU data/apachePatientResult.csv\")\n",
    "treatment = pd.read_csv(\"/Users/tedlinghu/Downloads/eICU data/treatment.csv\")"
   ]
  },
  {
   "cell_type": "code",
   "execution_count": 3,
   "metadata": {},
   "outputs": [],
   "source": [
    "south_patient = pd.read_csv(\"/Users/tedlinghu/Desktop/Luo_Rotation/luorotation/south_patient.csv\")\n",
    "west_patient = pd.read_csv(\"/Users/tedlinghu/Desktop/Luo_Rotation/luorotation/west_patient.csv\")\n",
    "midwest_patient = pd.read_csv(\"/Users/tedlinghu/Desktop/Luo_Rotation/luorotation/midwest_patient.csv\")\n",
    "northeast_patient = pd.read_csv(\"/Users/tedlinghu/Desktop/Luo_Rotation/luorotation/northeast_patient.csv\")"
   ]
  },
  {
   "cell_type": "code",
   "execution_count": 4,
   "metadata": {},
   "outputs": [],
   "source": [
    "south_patient_apache = apache_patient_result[apache_patient_result.patientunitstayid.isin(south_patient.patientunitstayid)]\n",
    "west_patient_apache = apache_patient_result[apache_patient_result.patientunitstayid.isin(west_patient.patientunitstayid)]\n",
    "\n",
    "northeast_patient_apache = apache_patient_result[apache_patient_result.patientunitstayid.isin(northeast_patient.patientunitstayid)]\n",
    "midwest_patient_apache = apache_patient_result[apache_patient_result.patientunitstayid.isin(midwest_patient.patientunitstayid)]\n",
    "\n",
    "\n"
   ]
  },
  {
   "cell_type": "code",
   "execution_count": 5,
   "metadata": {
    "scrolled": true
   },
   "outputs": [],
   "source": [
    "apache_cols = [\"patientunitstayid\",\"respiratoryrate\", \"sodium\", \"heartrate\", \"meanbp\" , \"hematocrit\"]\n",
    "patient_cols = [\"patientunitstayid\", \"gender\", \"age\", \"ethnicity\", \"admissionweight\" ,\"admissionheight\"]\n",
    "\n",
    "\n",
    "south_patient_needed_vars = south_patient[patient_cols]\n",
    "intersect_apache_patient = apache_vars[apache_vars['patientunitstayid'].isin(south_patient_needed_vars['patientunitstayid'])][apache_cols]\n"
   ]
  },
  {
   "cell_type": "code",
   "execution_count": 6,
   "metadata": {},
   "outputs": [
    {
     "data": {
      "text/plain": [
       "(56665, 6)"
      ]
     },
     "execution_count": 6,
     "metadata": {},
     "output_type": "execute_result"
    }
   ],
   "source": [
    "south_patient_needed_vars.shape"
   ]
  },
  {
   "cell_type": "code",
   "execution_count": 7,
   "metadata": {},
   "outputs": [
    {
     "data": {
      "text/plain": [
       "(50945, 6)"
      ]
     },
     "execution_count": 7,
     "metadata": {},
     "output_type": "execute_result"
    }
   ],
   "source": [
    "intersect_apache_patient.shape"
   ]
  },
  {
   "cell_type": "code",
   "execution_count": 8,
   "metadata": {},
   "outputs": [],
   "source": [
    "intersect_patient_apache = south_patient_needed_vars[south_patient_needed_vars['patientunitstayid'].isin(intersect_apache_patient['patientunitstayid'])]"
   ]
  },
  {
   "cell_type": "code",
   "execution_count": 9,
   "metadata": {},
   "outputs": [
    {
     "data": {
      "text/plain": [
       "(50945, 6)"
      ]
     },
     "execution_count": 9,
     "metadata": {},
     "output_type": "execute_result"
    }
   ],
   "source": [
    "intersect_patient_apache.shape"
   ]
  },
  {
   "cell_type": "code",
   "execution_count": 10,
   "metadata": {},
   "outputs": [
    {
     "data": {
      "text/html": [
       "<div>\n",
       "<style scoped>\n",
       "    .dataframe tbody tr th:only-of-type {\n",
       "        vertical-align: middle;\n",
       "    }\n",
       "\n",
       "    .dataframe tbody tr th {\n",
       "        vertical-align: top;\n",
       "    }\n",
       "\n",
       "    .dataframe thead th {\n",
       "        text-align: right;\n",
       "    }\n",
       "</style>\n",
       "<table border=\"1\" class=\"dataframe\">\n",
       "  <thead>\n",
       "    <tr style=\"text-align: right;\">\n",
       "      <th></th>\n",
       "      <th>patientunitstayid</th>\n",
       "      <th>gender</th>\n",
       "      <th>age</th>\n",
       "      <th>ethnicity</th>\n",
       "      <th>admissionweight</th>\n",
       "      <th>admissionheight</th>\n",
       "    </tr>\n",
       "  </thead>\n",
       "  <tbody>\n",
       "    <tr>\n",
       "      <td>1</td>\n",
       "      <td>309640</td>\n",
       "      <td>Female</td>\n",
       "      <td>54</td>\n",
       "      <td>Caucasian</td>\n",
       "      <td>127.00</td>\n",
       "      <td>166.4</td>\n",
       "    </tr>\n",
       "    <tr>\n",
       "      <td>2</td>\n",
       "      <td>309646</td>\n",
       "      <td>Female</td>\n",
       "      <td>74</td>\n",
       "      <td>Caucasian</td>\n",
       "      <td>69.40</td>\n",
       "      <td>152.4</td>\n",
       "    </tr>\n",
       "    <tr>\n",
       "      <td>3</td>\n",
       "      <td>309754</td>\n",
       "      <td>Female</td>\n",
       "      <td>62</td>\n",
       "      <td>Caucasian</td>\n",
       "      <td>85.70</td>\n",
       "      <td>162.6</td>\n",
       "    </tr>\n",
       "    <tr>\n",
       "      <td>4</td>\n",
       "      <td>309852</td>\n",
       "      <td>Female</td>\n",
       "      <td>55</td>\n",
       "      <td>Caucasian</td>\n",
       "      <td>56.60</td>\n",
       "      <td>162.2</td>\n",
       "    </tr>\n",
       "    <tr>\n",
       "      <td>5</td>\n",
       "      <td>309873</td>\n",
       "      <td>Male</td>\n",
       "      <td>59</td>\n",
       "      <td>Caucasian</td>\n",
       "      <td>97.97</td>\n",
       "      <td>182.9</td>\n",
       "    </tr>\n",
       "    <tr>\n",
       "      <td>...</td>\n",
       "      <td>...</td>\n",
       "      <td>...</td>\n",
       "      <td>...</td>\n",
       "      <td>...</td>\n",
       "      <td>...</td>\n",
       "      <td>...</td>\n",
       "    </tr>\n",
       "    <tr>\n",
       "      <td>56660</td>\n",
       "      <td>3353235</td>\n",
       "      <td>Male</td>\n",
       "      <td>50</td>\n",
       "      <td>Caucasian</td>\n",
       "      <td>90.00</td>\n",
       "      <td>175.3</td>\n",
       "    </tr>\n",
       "    <tr>\n",
       "      <td>56661</td>\n",
       "      <td>3353237</td>\n",
       "      <td>Female</td>\n",
       "      <td>79</td>\n",
       "      <td>Caucasian</td>\n",
       "      <td>78.40</td>\n",
       "      <td>162.6</td>\n",
       "    </tr>\n",
       "    <tr>\n",
       "      <td>56662</td>\n",
       "      <td>3353251</td>\n",
       "      <td>Male</td>\n",
       "      <td>73</td>\n",
       "      <td>African American</td>\n",
       "      <td>102.00</td>\n",
       "      <td>177.8</td>\n",
       "    </tr>\n",
       "    <tr>\n",
       "      <td>56663</td>\n",
       "      <td>3353254</td>\n",
       "      <td>Male</td>\n",
       "      <td>81</td>\n",
       "      <td>Caucasian</td>\n",
       "      <td>83.90</td>\n",
       "      <td>185.4</td>\n",
       "    </tr>\n",
       "    <tr>\n",
       "      <td>56664</td>\n",
       "      <td>3353263</td>\n",
       "      <td>Male</td>\n",
       "      <td>35</td>\n",
       "      <td>African American</td>\n",
       "      <td>100.80</td>\n",
       "      <td>182.9</td>\n",
       "    </tr>\n",
       "  </tbody>\n",
       "</table>\n",
       "<p>50945 rows × 6 columns</p>\n",
       "</div>"
      ],
      "text/plain": [
       "       patientunitstayid  gender age         ethnicity  admissionweight  \\\n",
       "1                 309640  Female  54         Caucasian           127.00   \n",
       "2                 309646  Female  74         Caucasian            69.40   \n",
       "3                 309754  Female  62         Caucasian            85.70   \n",
       "4                 309852  Female  55         Caucasian            56.60   \n",
       "5                 309873    Male  59         Caucasian            97.97   \n",
       "...                  ...     ...  ..               ...              ...   \n",
       "56660            3353235    Male  50         Caucasian            90.00   \n",
       "56661            3353237  Female  79         Caucasian            78.40   \n",
       "56662            3353251    Male  73  African American           102.00   \n",
       "56663            3353254    Male  81         Caucasian            83.90   \n",
       "56664            3353263    Male  35  African American           100.80   \n",
       "\n",
       "       admissionheight  \n",
       "1                166.4  \n",
       "2                152.4  \n",
       "3                162.6  \n",
       "4                162.2  \n",
       "5                182.9  \n",
       "...                ...  \n",
       "56660            175.3  \n",
       "56661            162.6  \n",
       "56662            177.8  \n",
       "56663            185.4  \n",
       "56664            182.9  \n",
       "\n",
       "[50945 rows x 6 columns]"
      ]
     },
     "execution_count": 10,
     "metadata": {},
     "output_type": "execute_result"
    }
   ],
   "source": [
    "intersect_patient_apache"
   ]
  },
  {
   "cell_type": "code",
   "execution_count": 11,
   "metadata": {
    "scrolled": true
   },
   "outputs": [],
   "source": [
    "intersect_apache_patient.reset_index(drop=True, inplace=True)"
   ]
  },
  {
   "cell_type": "code",
   "execution_count": 12,
   "metadata": {},
   "outputs": [
    {
     "data": {
      "text/html": [
       "<div>\n",
       "<style scoped>\n",
       "    .dataframe tbody tr th:only-of-type {\n",
       "        vertical-align: middle;\n",
       "    }\n",
       "\n",
       "    .dataframe tbody tr th {\n",
       "        vertical-align: top;\n",
       "    }\n",
       "\n",
       "    .dataframe thead th {\n",
       "        text-align: right;\n",
       "    }\n",
       "</style>\n",
       "<table border=\"1\" class=\"dataframe\">\n",
       "  <thead>\n",
       "    <tr style=\"text-align: right;\">\n",
       "      <th></th>\n",
       "      <th>patientunitstayid</th>\n",
       "      <th>gender</th>\n",
       "      <th>age</th>\n",
       "      <th>ethnicity</th>\n",
       "      <th>admissionweight</th>\n",
       "      <th>admissionheight</th>\n",
       "    </tr>\n",
       "  </thead>\n",
       "  <tbody>\n",
       "    <tr>\n",
       "      <td>1</td>\n",
       "      <td>309640</td>\n",
       "      <td>Female</td>\n",
       "      <td>54</td>\n",
       "      <td>Caucasian</td>\n",
       "      <td>127.00</td>\n",
       "      <td>166.4</td>\n",
       "    </tr>\n",
       "    <tr>\n",
       "      <td>2</td>\n",
       "      <td>309646</td>\n",
       "      <td>Female</td>\n",
       "      <td>74</td>\n",
       "      <td>Caucasian</td>\n",
       "      <td>69.40</td>\n",
       "      <td>152.4</td>\n",
       "    </tr>\n",
       "    <tr>\n",
       "      <td>3</td>\n",
       "      <td>309754</td>\n",
       "      <td>Female</td>\n",
       "      <td>62</td>\n",
       "      <td>Caucasian</td>\n",
       "      <td>85.70</td>\n",
       "      <td>162.6</td>\n",
       "    </tr>\n",
       "    <tr>\n",
       "      <td>4</td>\n",
       "      <td>309852</td>\n",
       "      <td>Female</td>\n",
       "      <td>55</td>\n",
       "      <td>Caucasian</td>\n",
       "      <td>56.60</td>\n",
       "      <td>162.2</td>\n",
       "    </tr>\n",
       "    <tr>\n",
       "      <td>5</td>\n",
       "      <td>309873</td>\n",
       "      <td>Male</td>\n",
       "      <td>59</td>\n",
       "      <td>Caucasian</td>\n",
       "      <td>97.97</td>\n",
       "      <td>182.9</td>\n",
       "    </tr>\n",
       "    <tr>\n",
       "      <td>...</td>\n",
       "      <td>...</td>\n",
       "      <td>...</td>\n",
       "      <td>...</td>\n",
       "      <td>...</td>\n",
       "      <td>...</td>\n",
       "      <td>...</td>\n",
       "    </tr>\n",
       "    <tr>\n",
       "      <td>56660</td>\n",
       "      <td>3353235</td>\n",
       "      <td>Male</td>\n",
       "      <td>50</td>\n",
       "      <td>Caucasian</td>\n",
       "      <td>90.00</td>\n",
       "      <td>175.3</td>\n",
       "    </tr>\n",
       "    <tr>\n",
       "      <td>56661</td>\n",
       "      <td>3353237</td>\n",
       "      <td>Female</td>\n",
       "      <td>79</td>\n",
       "      <td>Caucasian</td>\n",
       "      <td>78.40</td>\n",
       "      <td>162.6</td>\n",
       "    </tr>\n",
       "    <tr>\n",
       "      <td>56662</td>\n",
       "      <td>3353251</td>\n",
       "      <td>Male</td>\n",
       "      <td>73</td>\n",
       "      <td>African American</td>\n",
       "      <td>102.00</td>\n",
       "      <td>177.8</td>\n",
       "    </tr>\n",
       "    <tr>\n",
       "      <td>56663</td>\n",
       "      <td>3353254</td>\n",
       "      <td>Male</td>\n",
       "      <td>81</td>\n",
       "      <td>Caucasian</td>\n",
       "      <td>83.90</td>\n",
       "      <td>185.4</td>\n",
       "    </tr>\n",
       "    <tr>\n",
       "      <td>56664</td>\n",
       "      <td>3353263</td>\n",
       "      <td>Male</td>\n",
       "      <td>35</td>\n",
       "      <td>African American</td>\n",
       "      <td>100.80</td>\n",
       "      <td>182.9</td>\n",
       "    </tr>\n",
       "  </tbody>\n",
       "</table>\n",
       "<p>50945 rows × 6 columns</p>\n",
       "</div>"
      ],
      "text/plain": [
       "       patientunitstayid  gender age         ethnicity  admissionweight  \\\n",
       "1                 309640  Female  54         Caucasian           127.00   \n",
       "2                 309646  Female  74         Caucasian            69.40   \n",
       "3                 309754  Female  62         Caucasian            85.70   \n",
       "4                 309852  Female  55         Caucasian            56.60   \n",
       "5                 309873    Male  59         Caucasian            97.97   \n",
       "...                  ...     ...  ..               ...              ...   \n",
       "56660            3353235    Male  50         Caucasian            90.00   \n",
       "56661            3353237  Female  79         Caucasian            78.40   \n",
       "56662            3353251    Male  73  African American           102.00   \n",
       "56663            3353254    Male  81         Caucasian            83.90   \n",
       "56664            3353263    Male  35  African American           100.80   \n",
       "\n",
       "       admissionheight  \n",
       "1                166.4  \n",
       "2                152.4  \n",
       "3                162.6  \n",
       "4                162.2  \n",
       "5                182.9  \n",
       "...                ...  \n",
       "56660            175.3  \n",
       "56661            162.6  \n",
       "56662            177.8  \n",
       "56663            185.4  \n",
       "56664            182.9  \n",
       "\n",
       "[50945 rows x 6 columns]"
      ]
     },
     "execution_count": 12,
     "metadata": {},
     "output_type": "execute_result"
    }
   ],
   "source": [
    "intersect_patient_apache"
   ]
  },
  {
   "cell_type": "code",
   "execution_count": 13,
   "metadata": {},
   "outputs": [],
   "source": [
    "final = pd.merge(intersect_patient_apache, intersect_apache_patient, on = 'patientunitstayid')"
   ]
  },
  {
   "cell_type": "code",
   "execution_count": 14,
   "metadata": {},
   "outputs": [
    {
     "data": {
      "text/plain": [
       "(50945, 11)"
      ]
     },
     "execution_count": 14,
     "metadata": {},
     "output_type": "execute_result"
    }
   ],
   "source": [
    "final.shape"
   ]
  },
  {
   "cell_type": "code",
   "execution_count": 15,
   "metadata": {
    "scrolled": true
   },
   "outputs": [
    {
     "data": {
      "text/plain": [
       "Index(['patientunitstayid', 'gender', 'age', 'ethnicity', 'admissionweight',\n",
       "       'admissionheight', 'respiratoryrate', 'sodium', 'heartrate', 'meanbp',\n",
       "       'hematocrit'],\n",
       "      dtype='object')"
      ]
     },
     "execution_count": 15,
     "metadata": {},
     "output_type": "execute_result"
    }
   ],
   "source": [
    "final.columns"
   ]
  },
  {
   "cell_type": "code",
   "execution_count": 16,
   "metadata": {},
   "outputs": [
    {
     "data": {
      "text/plain": [
       "patientunitstayid       0\n",
       "gender                 27\n",
       "age                    25\n",
       "ethnicity            1213\n",
       "admissionweight      1752\n",
       "admissionheight      1156\n",
       "respiratoryrate         0\n",
       "sodium                  0\n",
       "heartrate               0\n",
       "meanbp                  0\n",
       "hematocrit              0\n",
       "dtype: int64"
      ]
     },
     "execution_count": 16,
     "metadata": {},
     "output_type": "execute_result"
    }
   ],
   "source": [
    "final.isnull().sum()"
   ]
  },
  {
   "cell_type": "code",
   "execution_count": 17,
   "metadata": {},
   "outputs": [],
   "source": [
    "final = final.dropna()"
   ]
  },
  {
   "cell_type": "code",
   "execution_count": 18,
   "metadata": {},
   "outputs": [
    {
     "data": {
      "text/plain": [
       "patientunitstayid    0\n",
       "gender               0\n",
       "age                  0\n",
       "ethnicity            0\n",
       "admissionweight      0\n",
       "admissionheight      0\n",
       "respiratoryrate      0\n",
       "sodium               0\n",
       "heartrate            0\n",
       "meanbp               0\n",
       "hematocrit           0\n",
       "dtype: int64"
      ]
     },
     "execution_count": 18,
     "metadata": {},
     "output_type": "execute_result"
    }
   ],
   "source": [
    "final.isnull().sum()"
   ]
  },
  {
   "cell_type": "code",
   "execution_count": 19,
   "metadata": {},
   "outputs": [
    {
     "data": {
      "text/plain": [
       "(47762, 11)"
      ]
     },
     "execution_count": 19,
     "metadata": {},
     "output_type": "execute_result"
    }
   ],
   "source": [
    "final.shape"
   ]
  },
  {
   "cell_type": "code",
   "execution_count": 20,
   "metadata": {},
   "outputs": [
    {
     "name": "stdout",
     "output_type": "stream",
     "text": [
      "<class 'pandas.core.frame.DataFrame'>\n",
      "Int64Index: 47762 entries, 0 to 50944\n",
      "Data columns (total 11 columns):\n",
      "patientunitstayid    47762 non-null int64\n",
      "gender               47762 non-null object\n",
      "age                  47762 non-null object\n",
      "ethnicity            47762 non-null object\n",
      "admissionweight      47762 non-null float64\n",
      "admissionheight      47762 non-null float64\n",
      "respiratoryrate      47762 non-null float64\n",
      "sodium               47762 non-null float64\n",
      "heartrate            47762 non-null int64\n",
      "meanbp               47762 non-null float64\n",
      "hematocrit           47762 non-null float64\n",
      "dtypes: float64(6), int64(2), object(3)\n",
      "memory usage: 4.4+ MB\n"
     ]
    }
   ],
   "source": [
    "final.info()"
   ]
  },
  {
   "cell_type": "code",
   "execution_count": 21,
   "metadata": {},
   "outputs": [
    {
     "data": {
      "text/plain": [
       "array(['54', '74', '62', '55', '59', '76', '70', '> 89', '43', '41', '85',\n",
       "       '50', '67', '84', '86', '75', '72', '49', '53', '61', '32', '58',\n",
       "       '57', '60', '56', '71', '88', '66', '65', '80', '52', '81', '31',\n",
       "       '40', '51', '47', '83', '29', '73', '63', '42', '27', '16', '64',\n",
       "       '78', '82', '69', '48', '77', '87', '68', '89', '35', '38', '33',\n",
       "       '79', '45', '46', '25', '36', '44', '22', '37', '24', '39', '21',\n",
       "       '30', '23', '26', '18', '20', '34', '28', '0', '19', '17', '14',\n",
       "       '12', '15', '13', '8', '11'], dtype=object)"
      ]
     },
     "execution_count": 21,
     "metadata": {},
     "output_type": "execute_result"
    }
   ],
   "source": [
    "final[\"age\"].unique()"
   ]
  },
  {
   "cell_type": "code",
   "execution_count": 22,
   "metadata": {},
   "outputs": [
    {
     "data": {
      "text/plain": [
       "array(['54', '74', '62', '55', '59', '76', '70', '89', '43', '41', '85',\n",
       "       '50', '67', '84', '86', '75', '72', '49', '53', '61', '32', '58',\n",
       "       '57', '60', '56', '71', '88', '66', '65', '80', '52', '81', '31',\n",
       "       '40', '51', '47', '83', '29', '73', '63', '42', '27', '16', '64',\n",
       "       '78', '82', '69', '48', '77', '87', '68', '35', '38', '33', '79',\n",
       "       '45', '46', '25', '36', '44', '22', '37', '24', '39', '21', '30',\n",
       "       '23', '26', '18', '20', '34', '28', '0', '19', '17', '14', '12',\n",
       "       '15', '13', '8', '11'], dtype=object)"
      ]
     },
     "execution_count": 22,
     "metadata": {},
     "output_type": "execute_result"
    }
   ],
   "source": [
    "final[\"age\"].replace({\"> 89\":\"89\"}, inplace=True)\n",
    "\n",
    "final[\"age\"].unique()"
   ]
  },
  {
   "cell_type": "code",
   "execution_count": 23,
   "metadata": {},
   "outputs": [],
   "source": [
    "final[\"age\"] =final[\"age\"].astype(int)"
   ]
  },
  {
   "cell_type": "code",
   "execution_count": 24,
   "metadata": {},
   "outputs": [
    {
     "name": "stdout",
     "output_type": "stream",
     "text": [
      "<class 'pandas.core.frame.DataFrame'>\n",
      "Int64Index: 47762 entries, 0 to 50944\n",
      "Data columns (total 11 columns):\n",
      "patientunitstayid    47762 non-null int64\n",
      "gender               47762 non-null object\n",
      "age                  47762 non-null int64\n",
      "ethnicity            47762 non-null object\n",
      "admissionweight      47762 non-null float64\n",
      "admissionheight      47762 non-null float64\n",
      "respiratoryrate      47762 non-null float64\n",
      "sodium               47762 non-null float64\n",
      "heartrate            47762 non-null int64\n",
      "meanbp               47762 non-null float64\n",
      "hematocrit           47762 non-null float64\n",
      "dtypes: float64(6), int64(3), object(2)\n",
      "memory usage: 4.4+ MB\n"
     ]
    }
   ],
   "source": [
    "final.info()"
   ]
  },
  {
   "cell_type": "code",
   "execution_count": 25,
   "metadata": {},
   "outputs": [],
   "source": [
    "final = pd.get_dummies(final)"
   ]
  },
  {
   "cell_type": "code",
   "execution_count": 26,
   "metadata": {},
   "outputs": [
    {
     "data": {
      "text/plain": [
       "11280"
      ]
     },
     "execution_count": 26,
     "metadata": {},
     "output_type": "execute_result"
    }
   ],
   "source": [
    "len(final.loc[final[\"sodium\"] == -1])"
   ]
  },
  {
   "cell_type": "code",
   "execution_count": 27,
   "metadata": {},
   "outputs": [
    {
     "data": {
      "text/plain": [
       "384"
      ]
     },
     "execution_count": 27,
     "metadata": {},
     "output_type": "execute_result"
    }
   ],
   "source": [
    "len(final.loc[final[\"heartrate\"] == -1])"
   ]
  },
  {
   "cell_type": "code",
   "execution_count": 28,
   "metadata": {},
   "outputs": [
    {
     "data": {
      "text/plain": [
       "525"
      ]
     },
     "execution_count": 28,
     "metadata": {},
     "output_type": "execute_result"
    }
   ],
   "source": [
    "len(final.loc[final[\"meanbp\"] == -1])"
   ]
  },
  {
   "cell_type": "code",
   "execution_count": 29,
   "metadata": {},
   "outputs": [
    {
     "data": {
      "text/plain": [
       "12589"
      ]
     },
     "execution_count": 29,
     "metadata": {},
     "output_type": "execute_result"
    }
   ],
   "source": [
    "len(final.loc[final[\"hematocrit\"] == -1])"
   ]
  },
  {
   "cell_type": "code",
   "execution_count": 30,
   "metadata": {},
   "outputs": [],
   "source": [
    "final = final.drop(final.loc[final[\"sodium\"] == -1].index)"
   ]
  },
  {
   "cell_type": "code",
   "execution_count": 31,
   "metadata": {},
   "outputs": [
    {
     "data": {
      "text/plain": [
       "(36482, 19)"
      ]
     },
     "execution_count": 31,
     "metadata": {},
     "output_type": "execute_result"
    }
   ],
   "source": [
    "final.shape"
   ]
  },
  {
   "cell_type": "code",
   "execution_count": 32,
   "metadata": {},
   "outputs": [
    {
     "data": {
      "text/plain": [
       "3565"
      ]
     },
     "execution_count": 32,
     "metadata": {},
     "output_type": "execute_result"
    }
   ],
   "source": [
    "len(final.loc[final[\"hematocrit\"] == -1])"
   ]
  },
  {
   "cell_type": "code",
   "execution_count": 33,
   "metadata": {},
   "outputs": [],
   "source": [
    "final = final.drop(\"hematocrit\", axis = 1)"
   ]
  },
  {
   "cell_type": "code",
   "execution_count": 34,
   "metadata": {},
   "outputs": [],
   "source": [
    "final = final.drop(final.loc[final[\"heartrate\"] == -1].index)"
   ]
  },
  {
   "cell_type": "code",
   "execution_count": 35,
   "metadata": {},
   "outputs": [],
   "source": [
    "final = final.drop(final.loc[final[\"meanbp\"] == -1].index)"
   ]
  },
  {
   "cell_type": "code",
   "execution_count": 36,
   "metadata": {},
   "outputs": [],
   "source": [
    "final = final.drop(final.loc[final[\"respiratoryrate\"] == -1].index)"
   ]
  },
  {
   "cell_type": "code",
   "execution_count": 37,
   "metadata": {},
   "outputs": [
    {
     "data": {
      "text/plain": [
       "(36251, 18)"
      ]
     },
     "execution_count": 37,
     "metadata": {},
     "output_type": "execute_result"
    }
   ],
   "source": [
    "final.shape"
   ]
  },
  {
   "cell_type": "code",
   "execution_count": 38,
   "metadata": {},
   "outputs": [
    {
     "data": {
      "text/plain": [
       "2         309754\n",
       "5         309887\n",
       "6         309891\n",
       "7         309892\n",
       "8         309917\n",
       "          ...   \n",
       "50935    3353200\n",
       "50937    3353213\n",
       "50938    3353216\n",
       "50941    3353237\n",
       "50942    3353251\n",
       "Name: patientunitstayid, Length: 36251, dtype: int64"
      ]
     },
     "execution_count": 38,
     "metadata": {},
     "output_type": "execute_result"
    }
   ],
   "source": [
    "final[\"patientunitstayid\"]"
   ]
  },
  {
   "cell_type": "code",
   "execution_count": 39,
   "metadata": {},
   "outputs": [],
   "source": [
    "idx = apache_patient_result[apache_patient_result.patientunitstayid.isin(final[\"patientunitstayid\"])][\"patientunitstayid\"].drop_duplicates().index"
   ]
  },
  {
   "cell_type": "code",
   "execution_count": 40,
   "metadata": {},
   "outputs": [],
   "source": [
    "tmp = apache_patient_result.loc[idx]"
   ]
  },
  {
   "cell_type": "code",
   "execution_count": 41,
   "metadata": {},
   "outputs": [],
   "source": [
    "icu_mort = tmp['actualicumortality']\n",
    "hosp_mort = tmp['actualhospitalmortality']\n",
    "\n",
    "icu_los = tmp['actualiculos']\n",
    "hosp_los = tmp['actualhospitallos']"
   ]
  },
  {
   "cell_type": "code",
   "execution_count": 42,
   "metadata": {},
   "outputs": [],
   "source": [
    "tmp_cols = ['actualicumortality', 'patientunitstayid']\n",
    "\n",
    "x = tmp[tmp_cols]"
   ]
  },
  {
   "cell_type": "code",
   "execution_count": 43,
   "metadata": {},
   "outputs": [
    {
     "data": {
      "text/html": [
       "<div>\n",
       "<style scoped>\n",
       "    .dataframe tbody tr th:only-of-type {\n",
       "        vertical-align: middle;\n",
       "    }\n",
       "\n",
       "    .dataframe tbody tr th {\n",
       "        vertical-align: top;\n",
       "    }\n",
       "\n",
       "    .dataframe thead th {\n",
       "        text-align: right;\n",
       "    }\n",
       "</style>\n",
       "<table border=\"1\" class=\"dataframe\">\n",
       "  <thead>\n",
       "    <tr style=\"text-align: right;\">\n",
       "      <th></th>\n",
       "      <th>actualicumortality</th>\n",
       "      <th>patientunitstayid</th>\n",
       "    </tr>\n",
       "  </thead>\n",
       "  <tbody>\n",
       "    <tr>\n",
       "      <td>25780</td>\n",
       "      <td>ALIVE</td>\n",
       "      <td>309754</td>\n",
       "    </tr>\n",
       "    <tr>\n",
       "      <td>25786</td>\n",
       "      <td>ALIVE</td>\n",
       "      <td>309887</td>\n",
       "    </tr>\n",
       "    <tr>\n",
       "      <td>25788</td>\n",
       "      <td>ALIVE</td>\n",
       "      <td>309891</td>\n",
       "    </tr>\n",
       "    <tr>\n",
       "      <td>25790</td>\n",
       "      <td>ALIVE</td>\n",
       "      <td>309892</td>\n",
       "    </tr>\n",
       "    <tr>\n",
       "      <td>25792</td>\n",
       "      <td>ALIVE</td>\n",
       "      <td>309917</td>\n",
       "    </tr>\n",
       "    <tr>\n",
       "      <td>...</td>\n",
       "      <td>...</td>\n",
       "      <td>...</td>\n",
       "    </tr>\n",
       "    <tr>\n",
       "      <td>297044</td>\n",
       "      <td>ALIVE</td>\n",
       "      <td>3353200</td>\n",
       "    </tr>\n",
       "    <tr>\n",
       "      <td>297048</td>\n",
       "      <td>ALIVE</td>\n",
       "      <td>3353213</td>\n",
       "    </tr>\n",
       "    <tr>\n",
       "      <td>297050</td>\n",
       "      <td>ALIVE</td>\n",
       "      <td>3353216</td>\n",
       "    </tr>\n",
       "    <tr>\n",
       "      <td>297056</td>\n",
       "      <td>ALIVE</td>\n",
       "      <td>3353237</td>\n",
       "    </tr>\n",
       "    <tr>\n",
       "      <td>297058</td>\n",
       "      <td>ALIVE</td>\n",
       "      <td>3353251</td>\n",
       "    </tr>\n",
       "  </tbody>\n",
       "</table>\n",
       "<p>34601 rows × 2 columns</p>\n",
       "</div>"
      ],
      "text/plain": [
       "       actualicumortality  patientunitstayid\n",
       "25780               ALIVE             309754\n",
       "25786               ALIVE             309887\n",
       "25788               ALIVE             309891\n",
       "25790               ALIVE             309892\n",
       "25792               ALIVE             309917\n",
       "...                   ...                ...\n",
       "297044              ALIVE            3353200\n",
       "297048              ALIVE            3353213\n",
       "297050              ALIVE            3353216\n",
       "297056              ALIVE            3353237\n",
       "297058              ALIVE            3353251\n",
       "\n",
       "[34601 rows x 2 columns]"
      ]
     },
     "execution_count": 43,
     "metadata": {},
     "output_type": "execute_result"
    }
   ],
   "source": [
    "x"
   ]
  },
  {
   "cell_type": "code",
   "execution_count": 44,
   "metadata": {},
   "outputs": [
    {
     "data": {
      "text/plain": [
       "34601"
      ]
     },
     "execution_count": 44,
     "metadata": {},
     "output_type": "execute_result"
    }
   ],
   "source": [
    "len(icu_mort)"
   ]
  },
  {
   "cell_type": "code",
   "execution_count": 45,
   "metadata": {},
   "outputs": [],
   "source": [
    "final = final[final.patientunitstayid.isin(apache_patient_result.loc[idx]['patientunitstayid'])]"
   ]
  },
  {
   "cell_type": "code",
   "execution_count": 46,
   "metadata": {},
   "outputs": [
    {
     "data": {
      "text/plain": [
       "(34601, 18)"
      ]
     },
     "execution_count": 46,
     "metadata": {},
     "output_type": "execute_result"
    }
   ],
   "source": [
    "final.shape"
   ]
  },
  {
   "cell_type": "code",
   "execution_count": 47,
   "metadata": {},
   "outputs": [
    {
     "data": {
      "text/html": [
       "<div>\n",
       "<style scoped>\n",
       "    .dataframe tbody tr th:only-of-type {\n",
       "        vertical-align: middle;\n",
       "    }\n",
       "\n",
       "    .dataframe tbody tr th {\n",
       "        vertical-align: top;\n",
       "    }\n",
       "\n",
       "    .dataframe thead th {\n",
       "        text-align: right;\n",
       "    }\n",
       "</style>\n",
       "<table border=\"1\" class=\"dataframe\">\n",
       "  <thead>\n",
       "    <tr style=\"text-align: right;\">\n",
       "      <th></th>\n",
       "      <th>patientunitstayid</th>\n",
       "      <th>age</th>\n",
       "      <th>admissionweight</th>\n",
       "      <th>admissionheight</th>\n",
       "      <th>respiratoryrate</th>\n",
       "      <th>sodium</th>\n",
       "      <th>heartrate</th>\n",
       "      <th>meanbp</th>\n",
       "      <th>gender_Female</th>\n",
       "      <th>gender_Male</th>\n",
       "      <th>gender_Other</th>\n",
       "      <th>gender_Unknown</th>\n",
       "      <th>ethnicity_African American</th>\n",
       "      <th>ethnicity_Asian</th>\n",
       "      <th>ethnicity_Caucasian</th>\n",
       "      <th>ethnicity_Hispanic</th>\n",
       "      <th>ethnicity_Native American</th>\n",
       "      <th>ethnicity_Other/Unknown</th>\n",
       "    </tr>\n",
       "  </thead>\n",
       "  <tbody>\n",
       "    <tr>\n",
       "      <td>23</td>\n",
       "      <td>310277</td>\n",
       "      <td>58</td>\n",
       "      <td>95.25</td>\n",
       "      <td>170.2</td>\n",
       "      <td>38.0</td>\n",
       "      <td>148.0</td>\n",
       "      <td>123</td>\n",
       "      <td>47.0</td>\n",
       "      <td>1</td>\n",
       "      <td>0</td>\n",
       "      <td>0</td>\n",
       "      <td>0</td>\n",
       "      <td>0</td>\n",
       "      <td>0</td>\n",
       "      <td>1</td>\n",
       "      <td>0</td>\n",
       "      <td>0</td>\n",
       "      <td>0</td>\n",
       "    </tr>\n",
       "  </tbody>\n",
       "</table>\n",
       "</div>"
      ],
      "text/plain": [
       "    patientunitstayid  age  admissionweight  admissionheight  respiratoryrate  \\\n",
       "23             310277   58            95.25            170.2             38.0   \n",
       "\n",
       "    sodium  heartrate  meanbp  gender_Female  gender_Male  gender_Other  \\\n",
       "23   148.0        123    47.0              1            0             0   \n",
       "\n",
       "    gender_Unknown  ethnicity_African American  ethnicity_Asian  \\\n",
       "23               0                           0                0   \n",
       "\n",
       "    ethnicity_Caucasian  ethnicity_Hispanic  ethnicity_Native American  \\\n",
       "23                    1                   0                          0   \n",
       "\n",
       "    ethnicity_Other/Unknown  \n",
       "23                        0  "
      ]
     },
     "execution_count": 47,
     "metadata": {},
     "output_type": "execute_result"
    }
   ],
   "source": [
    "final.loc[final[\"patientunitstayid\"] == 310277]"
   ]
  },
  {
   "cell_type": "code",
   "execution_count": 48,
   "metadata": {},
   "outputs": [
    {
     "data": {
      "text/plain": [
       "25780     ALIVE\n",
       "25786     ALIVE\n",
       "25788     ALIVE\n",
       "25790     ALIVE\n",
       "25792     ALIVE\n",
       "          ...  \n",
       "297044    ALIVE\n",
       "297048    ALIVE\n",
       "297050    ALIVE\n",
       "297056    ALIVE\n",
       "297058    ALIVE\n",
       "Name: actualicumortality, Length: 34601, dtype: object"
      ]
     },
     "execution_count": 48,
     "metadata": {},
     "output_type": "execute_result"
    }
   ],
   "source": [
    "icu_mort"
   ]
  },
  {
   "cell_type": "code",
   "execution_count": 49,
   "metadata": {},
   "outputs": [
    {
     "data": {
      "text/plain": [
       "Int64Index([ 25780,  25786,  25788,  25790,  25792,  25794,  25796,  25798,\n",
       "             25802,  25804,\n",
       "            ...\n",
       "            297034, 297036, 297038, 297040, 297042, 297044, 297048, 297050,\n",
       "            297056, 297058],\n",
       "           dtype='int64', length=34601)"
      ]
     },
     "execution_count": 49,
     "metadata": {},
     "output_type": "execute_result"
    }
   ],
   "source": [
    "icu_mort.index"
   ]
  },
  {
   "cell_type": "code",
   "execution_count": 50,
   "metadata": {},
   "outputs": [],
   "source": [
    "icu_mort.reset_index(drop=True, inplace=True)"
   ]
  },
  {
   "cell_type": "code",
   "execution_count": 51,
   "metadata": {},
   "outputs": [],
   "source": [
    "final_patient_id = final['patientunitstayid']"
   ]
  },
  {
   "cell_type": "code",
   "execution_count": 52,
   "metadata": {},
   "outputs": [],
   "source": [
    "final = final.drop(\"patientunitstayid\", axis = 1)"
   ]
  },
  {
   "cell_type": "code",
   "execution_count": 53,
   "metadata": {},
   "outputs": [
    {
     "data": {
      "text/html": [
       "<div>\n",
       "<style scoped>\n",
       "    .dataframe tbody tr th:only-of-type {\n",
       "        vertical-align: middle;\n",
       "    }\n",
       "\n",
       "    .dataframe tbody tr th {\n",
       "        vertical-align: top;\n",
       "    }\n",
       "\n",
       "    .dataframe thead th {\n",
       "        text-align: right;\n",
       "    }\n",
       "</style>\n",
       "<table border=\"1\" class=\"dataframe\">\n",
       "  <thead>\n",
       "    <tr style=\"text-align: right;\">\n",
       "      <th></th>\n",
       "      <th>age</th>\n",
       "      <th>admissionweight</th>\n",
       "      <th>admissionheight</th>\n",
       "      <th>respiratoryrate</th>\n",
       "      <th>sodium</th>\n",
       "      <th>heartrate</th>\n",
       "      <th>meanbp</th>\n",
       "      <th>gender_Female</th>\n",
       "      <th>gender_Male</th>\n",
       "      <th>gender_Other</th>\n",
       "      <th>gender_Unknown</th>\n",
       "      <th>ethnicity_African American</th>\n",
       "      <th>ethnicity_Asian</th>\n",
       "      <th>ethnicity_Caucasian</th>\n",
       "      <th>ethnicity_Hispanic</th>\n",
       "      <th>ethnicity_Native American</th>\n",
       "      <th>ethnicity_Other/Unknown</th>\n",
       "    </tr>\n",
       "  </thead>\n",
       "  <tbody>\n",
       "    <tr>\n",
       "      <td>2</td>\n",
       "      <td>62</td>\n",
       "      <td>85.7</td>\n",
       "      <td>162.6</td>\n",
       "      <td>10.0</td>\n",
       "      <td>140.0</td>\n",
       "      <td>39</td>\n",
       "      <td>45.0</td>\n",
       "      <td>1</td>\n",
       "      <td>0</td>\n",
       "      <td>0</td>\n",
       "      <td>0</td>\n",
       "      <td>0</td>\n",
       "      <td>0</td>\n",
       "      <td>1</td>\n",
       "      <td>0</td>\n",
       "      <td>0</td>\n",
       "      <td>0</td>\n",
       "    </tr>\n",
       "    <tr>\n",
       "      <td>5</td>\n",
       "      <td>76</td>\n",
       "      <td>112.4</td>\n",
       "      <td>175.3</td>\n",
       "      <td>12.0</td>\n",
       "      <td>137.0</td>\n",
       "      <td>121</td>\n",
       "      <td>112.0</td>\n",
       "      <td>0</td>\n",
       "      <td>1</td>\n",
       "      <td>0</td>\n",
       "      <td>0</td>\n",
       "      <td>0</td>\n",
       "      <td>0</td>\n",
       "      <td>1</td>\n",
       "      <td>0</td>\n",
       "      <td>0</td>\n",
       "      <td>0</td>\n",
       "    </tr>\n",
       "    <tr>\n",
       "      <td>6</td>\n",
       "      <td>70</td>\n",
       "      <td>82.3</td>\n",
       "      <td>166.4</td>\n",
       "      <td>18.0</td>\n",
       "      <td>133.0</td>\n",
       "      <td>91</td>\n",
       "      <td>156.0</td>\n",
       "      <td>1</td>\n",
       "      <td>0</td>\n",
       "      <td>0</td>\n",
       "      <td>0</td>\n",
       "      <td>1</td>\n",
       "      <td>0</td>\n",
       "      <td>0</td>\n",
       "      <td>0</td>\n",
       "      <td>0</td>\n",
       "      <td>0</td>\n",
       "    </tr>\n",
       "    <tr>\n",
       "      <td>7</td>\n",
       "      <td>70</td>\n",
       "      <td>164.0</td>\n",
       "      <td>166.4</td>\n",
       "      <td>15.0</td>\n",
       "      <td>136.0</td>\n",
       "      <td>59</td>\n",
       "      <td>103.0</td>\n",
       "      <td>1</td>\n",
       "      <td>0</td>\n",
       "      <td>0</td>\n",
       "      <td>0</td>\n",
       "      <td>1</td>\n",
       "      <td>0</td>\n",
       "      <td>0</td>\n",
       "      <td>0</td>\n",
       "      <td>0</td>\n",
       "      <td>0</td>\n",
       "    </tr>\n",
       "    <tr>\n",
       "      <td>8</td>\n",
       "      <td>89</td>\n",
       "      <td>81.6</td>\n",
       "      <td>182.9</td>\n",
       "      <td>29.0</td>\n",
       "      <td>146.0</td>\n",
       "      <td>103</td>\n",
       "      <td>50.0</td>\n",
       "      <td>0</td>\n",
       "      <td>1</td>\n",
       "      <td>0</td>\n",
       "      <td>0</td>\n",
       "      <td>0</td>\n",
       "      <td>0</td>\n",
       "      <td>1</td>\n",
       "      <td>0</td>\n",
       "      <td>0</td>\n",
       "      <td>0</td>\n",
       "    </tr>\n",
       "  </tbody>\n",
       "</table>\n",
       "</div>"
      ],
      "text/plain": [
       "   age  admissionweight  admissionheight  respiratoryrate  sodium  heartrate  \\\n",
       "2   62             85.7            162.6             10.0   140.0         39   \n",
       "5   76            112.4            175.3             12.0   137.0        121   \n",
       "6   70             82.3            166.4             18.0   133.0         91   \n",
       "7   70            164.0            166.4             15.0   136.0         59   \n",
       "8   89             81.6            182.9             29.0   146.0        103   \n",
       "\n",
       "   meanbp  gender_Female  gender_Male  gender_Other  gender_Unknown  \\\n",
       "2    45.0              1            0             0               0   \n",
       "5   112.0              0            1             0               0   \n",
       "6   156.0              1            0             0               0   \n",
       "7   103.0              1            0             0               0   \n",
       "8    50.0              0            1             0               0   \n",
       "\n",
       "   ethnicity_African American  ethnicity_Asian  ethnicity_Caucasian  \\\n",
       "2                           0                0                    1   \n",
       "5                           0                0                    1   \n",
       "6                           1                0                    0   \n",
       "7                           1                0                    0   \n",
       "8                           0                0                    1   \n",
       "\n",
       "   ethnicity_Hispanic  ethnicity_Native American  ethnicity_Other/Unknown  \n",
       "2                   0                          0                        0  \n",
       "5                   0                          0                        0  \n",
       "6                   0                          0                        0  \n",
       "7                   0                          0                        0  \n",
       "8                   0                          0                        0  "
      ]
     },
     "execution_count": 53,
     "metadata": {},
     "output_type": "execute_result"
    }
   ],
   "source": [
    "final.head()"
   ]
  },
  {
   "cell_type": "code",
   "execution_count": 55,
   "metadata": {},
   "outputs": [
    {
     "data": {
      "text/plain": [
       "(34601, 17)"
      ]
     },
     "execution_count": 55,
     "metadata": {},
     "output_type": "execute_result"
    }
   ],
   "source": [
    "final.shape"
   ]
  },
  {
   "cell_type": "code",
   "execution_count": 56,
   "metadata": {},
   "outputs": [
    {
     "data": {
      "text/plain": [
       "ALIVE      32475\n",
       "EXPIRED     2126\n",
       "Name: actualicumortality, dtype: int64"
      ]
     },
     "execution_count": 56,
     "metadata": {},
     "output_type": "execute_result"
    }
   ],
   "source": [
    "icu_mort.value_counts()"
   ]
  },
  {
   "cell_type": "code",
   "execution_count": 57,
   "metadata": {},
   "outputs": [
    {
     "data": {
      "text/plain": [
       "0.06144508670520231"
      ]
     },
     "execution_count": 57,
     "metadata": {},
     "output_type": "execute_result"
    }
   ],
   "source": [
    "#extremely unbalanced class\n",
    "2126/(32474+2126)"
   ]
  },
  {
   "cell_type": "code",
   "execution_count": 80,
   "metadata": {},
   "outputs": [
    {
     "data": {
      "text/plain": [
       "range(0, 34601)"
      ]
     },
     "execution_count": 80,
     "metadata": {},
     "output_type": "execute_result"
    }
   ],
   "source": [
    "range(final.shape[0])"
   ]
  },
  {
   "cell_type": "code",
   "execution_count": 58,
   "metadata": {},
   "outputs": [
    {
     "data": {
      "text/html": [
       "<div>\n",
       "<style scoped>\n",
       "    .dataframe tbody tr th:only-of-type {\n",
       "        vertical-align: middle;\n",
       "    }\n",
       "\n",
       "    .dataframe tbody tr th {\n",
       "        vertical-align: top;\n",
       "    }\n",
       "\n",
       "    .dataframe thead th {\n",
       "        text-align: right;\n",
       "    }\n",
       "</style>\n",
       "<table border=\"1\" class=\"dataframe\">\n",
       "  <thead>\n",
       "    <tr style=\"text-align: right;\">\n",
       "      <th></th>\n",
       "      <th>age</th>\n",
       "      <th>admissionweight</th>\n",
       "      <th>admissionheight</th>\n",
       "      <th>respiratoryrate</th>\n",
       "      <th>sodium</th>\n",
       "      <th>heartrate</th>\n",
       "      <th>meanbp</th>\n",
       "      <th>gender_Female</th>\n",
       "      <th>gender_Male</th>\n",
       "      <th>gender_Other</th>\n",
       "      <th>gender_Unknown</th>\n",
       "      <th>ethnicity_African American</th>\n",
       "      <th>ethnicity_Asian</th>\n",
       "      <th>ethnicity_Caucasian</th>\n",
       "      <th>ethnicity_Hispanic</th>\n",
       "      <th>ethnicity_Native American</th>\n",
       "      <th>ethnicity_Other/Unknown</th>\n",
       "    </tr>\n",
       "  </thead>\n",
       "  <tbody>\n",
       "    <tr>\n",
       "      <td>2</td>\n",
       "      <td>62</td>\n",
       "      <td>85.7</td>\n",
       "      <td>162.6</td>\n",
       "      <td>10.0</td>\n",
       "      <td>140.0</td>\n",
       "      <td>39</td>\n",
       "      <td>45.0</td>\n",
       "      <td>1</td>\n",
       "      <td>0</td>\n",
       "      <td>0</td>\n",
       "      <td>0</td>\n",
       "      <td>0</td>\n",
       "      <td>0</td>\n",
       "      <td>1</td>\n",
       "      <td>0</td>\n",
       "      <td>0</td>\n",
       "      <td>0</td>\n",
       "    </tr>\n",
       "    <tr>\n",
       "      <td>5</td>\n",
       "      <td>76</td>\n",
       "      <td>112.4</td>\n",
       "      <td>175.3</td>\n",
       "      <td>12.0</td>\n",
       "      <td>137.0</td>\n",
       "      <td>121</td>\n",
       "      <td>112.0</td>\n",
       "      <td>0</td>\n",
       "      <td>1</td>\n",
       "      <td>0</td>\n",
       "      <td>0</td>\n",
       "      <td>0</td>\n",
       "      <td>0</td>\n",
       "      <td>1</td>\n",
       "      <td>0</td>\n",
       "      <td>0</td>\n",
       "      <td>0</td>\n",
       "    </tr>\n",
       "    <tr>\n",
       "      <td>6</td>\n",
       "      <td>70</td>\n",
       "      <td>82.3</td>\n",
       "      <td>166.4</td>\n",
       "      <td>18.0</td>\n",
       "      <td>133.0</td>\n",
       "      <td>91</td>\n",
       "      <td>156.0</td>\n",
       "      <td>1</td>\n",
       "      <td>0</td>\n",
       "      <td>0</td>\n",
       "      <td>0</td>\n",
       "      <td>1</td>\n",
       "      <td>0</td>\n",
       "      <td>0</td>\n",
       "      <td>0</td>\n",
       "      <td>0</td>\n",
       "      <td>0</td>\n",
       "    </tr>\n",
       "    <tr>\n",
       "      <td>7</td>\n",
       "      <td>70</td>\n",
       "      <td>164.0</td>\n",
       "      <td>166.4</td>\n",
       "      <td>15.0</td>\n",
       "      <td>136.0</td>\n",
       "      <td>59</td>\n",
       "      <td>103.0</td>\n",
       "      <td>1</td>\n",
       "      <td>0</td>\n",
       "      <td>0</td>\n",
       "      <td>0</td>\n",
       "      <td>1</td>\n",
       "      <td>0</td>\n",
       "      <td>0</td>\n",
       "      <td>0</td>\n",
       "      <td>0</td>\n",
       "      <td>0</td>\n",
       "    </tr>\n",
       "    <tr>\n",
       "      <td>8</td>\n",
       "      <td>89</td>\n",
       "      <td>81.6</td>\n",
       "      <td>182.9</td>\n",
       "      <td>29.0</td>\n",
       "      <td>146.0</td>\n",
       "      <td>103</td>\n",
       "      <td>50.0</td>\n",
       "      <td>0</td>\n",
       "      <td>1</td>\n",
       "      <td>0</td>\n",
       "      <td>0</td>\n",
       "      <td>0</td>\n",
       "      <td>0</td>\n",
       "      <td>1</td>\n",
       "      <td>0</td>\n",
       "      <td>0</td>\n",
       "      <td>0</td>\n",
       "    </tr>\n",
       "    <tr>\n",
       "      <td>...</td>\n",
       "      <td>...</td>\n",
       "      <td>...</td>\n",
       "      <td>...</td>\n",
       "      <td>...</td>\n",
       "      <td>...</td>\n",
       "      <td>...</td>\n",
       "      <td>...</td>\n",
       "      <td>...</td>\n",
       "      <td>...</td>\n",
       "      <td>...</td>\n",
       "      <td>...</td>\n",
       "      <td>...</td>\n",
       "      <td>...</td>\n",
       "      <td>...</td>\n",
       "      <td>...</td>\n",
       "      <td>...</td>\n",
       "      <td>...</td>\n",
       "    </tr>\n",
       "    <tr>\n",
       "      <td>50935</td>\n",
       "      <td>66</td>\n",
       "      <td>71.5</td>\n",
       "      <td>157.5</td>\n",
       "      <td>30.0</td>\n",
       "      <td>134.0</td>\n",
       "      <td>112</td>\n",
       "      <td>64.0</td>\n",
       "      <td>1</td>\n",
       "      <td>0</td>\n",
       "      <td>0</td>\n",
       "      <td>0</td>\n",
       "      <td>0</td>\n",
       "      <td>0</td>\n",
       "      <td>1</td>\n",
       "      <td>0</td>\n",
       "      <td>0</td>\n",
       "      <td>0</td>\n",
       "    </tr>\n",
       "    <tr>\n",
       "      <td>50937</td>\n",
       "      <td>51</td>\n",
       "      <td>54.4</td>\n",
       "      <td>160.0</td>\n",
       "      <td>45.0</td>\n",
       "      <td>142.0</td>\n",
       "      <td>107</td>\n",
       "      <td>116.0</td>\n",
       "      <td>1</td>\n",
       "      <td>0</td>\n",
       "      <td>0</td>\n",
       "      <td>0</td>\n",
       "      <td>0</td>\n",
       "      <td>0</td>\n",
       "      <td>1</td>\n",
       "      <td>0</td>\n",
       "      <td>0</td>\n",
       "      <td>0</td>\n",
       "    </tr>\n",
       "    <tr>\n",
       "      <td>50938</td>\n",
       "      <td>50</td>\n",
       "      <td>55.4</td>\n",
       "      <td>165.1</td>\n",
       "      <td>14.0</td>\n",
       "      <td>143.0</td>\n",
       "      <td>62</td>\n",
       "      <td>114.0</td>\n",
       "      <td>1</td>\n",
       "      <td>0</td>\n",
       "      <td>0</td>\n",
       "      <td>0</td>\n",
       "      <td>1</td>\n",
       "      <td>0</td>\n",
       "      <td>0</td>\n",
       "      <td>0</td>\n",
       "      <td>0</td>\n",
       "      <td>0</td>\n",
       "    </tr>\n",
       "    <tr>\n",
       "      <td>50941</td>\n",
       "      <td>79</td>\n",
       "      <td>78.4</td>\n",
       "      <td>162.6</td>\n",
       "      <td>42.0</td>\n",
       "      <td>140.0</td>\n",
       "      <td>112</td>\n",
       "      <td>125.0</td>\n",
       "      <td>1</td>\n",
       "      <td>0</td>\n",
       "      <td>0</td>\n",
       "      <td>0</td>\n",
       "      <td>0</td>\n",
       "      <td>0</td>\n",
       "      <td>1</td>\n",
       "      <td>0</td>\n",
       "      <td>0</td>\n",
       "      <td>0</td>\n",
       "    </tr>\n",
       "    <tr>\n",
       "      <td>50942</td>\n",
       "      <td>73</td>\n",
       "      <td>102.0</td>\n",
       "      <td>177.8</td>\n",
       "      <td>34.0</td>\n",
       "      <td>142.0</td>\n",
       "      <td>104</td>\n",
       "      <td>58.0</td>\n",
       "      <td>0</td>\n",
       "      <td>1</td>\n",
       "      <td>0</td>\n",
       "      <td>0</td>\n",
       "      <td>1</td>\n",
       "      <td>0</td>\n",
       "      <td>0</td>\n",
       "      <td>0</td>\n",
       "      <td>0</td>\n",
       "      <td>0</td>\n",
       "    </tr>\n",
       "  </tbody>\n",
       "</table>\n",
       "<p>34601 rows × 17 columns</p>\n",
       "</div>"
      ],
      "text/plain": [
       "       age  admissionweight  admissionheight  respiratoryrate  sodium  \\\n",
       "2       62             85.7            162.6             10.0   140.0   \n",
       "5       76            112.4            175.3             12.0   137.0   \n",
       "6       70             82.3            166.4             18.0   133.0   \n",
       "7       70            164.0            166.4             15.0   136.0   \n",
       "8       89             81.6            182.9             29.0   146.0   \n",
       "...    ...              ...              ...              ...     ...   \n",
       "50935   66             71.5            157.5             30.0   134.0   \n",
       "50937   51             54.4            160.0             45.0   142.0   \n",
       "50938   50             55.4            165.1             14.0   143.0   \n",
       "50941   79             78.4            162.6             42.0   140.0   \n",
       "50942   73            102.0            177.8             34.0   142.0   \n",
       "\n",
       "       heartrate  meanbp  gender_Female  gender_Male  gender_Other  \\\n",
       "2             39    45.0              1            0             0   \n",
       "5            121   112.0              0            1             0   \n",
       "6             91   156.0              1            0             0   \n",
       "7             59   103.0              1            0             0   \n",
       "8            103    50.0              0            1             0   \n",
       "...          ...     ...            ...          ...           ...   \n",
       "50935        112    64.0              1            0             0   \n",
       "50937        107   116.0              1            0             0   \n",
       "50938         62   114.0              1            0             0   \n",
       "50941        112   125.0              1            0             0   \n",
       "50942        104    58.0              0            1             0   \n",
       "\n",
       "       gender_Unknown  ethnicity_African American  ethnicity_Asian  \\\n",
       "2                   0                           0                0   \n",
       "5                   0                           0                0   \n",
       "6                   0                           1                0   \n",
       "7                   0                           1                0   \n",
       "8                   0                           0                0   \n",
       "...               ...                         ...              ...   \n",
       "50935               0                           0                0   \n",
       "50937               0                           0                0   \n",
       "50938               0                           1                0   \n",
       "50941               0                           0                0   \n",
       "50942               0                           1                0   \n",
       "\n",
       "       ethnicity_Caucasian  ethnicity_Hispanic  ethnicity_Native American  \\\n",
       "2                        1                   0                          0   \n",
       "5                        1                   0                          0   \n",
       "6                        0                   0                          0   \n",
       "7                        0                   0                          0   \n",
       "8                        1                   0                          0   \n",
       "...                    ...                 ...                        ...   \n",
       "50935                    1                   0                          0   \n",
       "50937                    1                   0                          0   \n",
       "50938                    0                   0                          0   \n",
       "50941                    1                   0                          0   \n",
       "50942                    0                   0                          0   \n",
       "\n",
       "       ethnicity_Other/Unknown  \n",
       "2                            0  \n",
       "5                            0  \n",
       "6                            0  \n",
       "7                            0  \n",
       "8                            0  \n",
       "...                        ...  \n",
       "50935                        0  \n",
       "50937                        0  \n",
       "50938                        0  \n",
       "50941                        0  \n",
       "50942                        0  \n",
       "\n",
       "[34601 rows x 17 columns]"
      ]
     },
     "execution_count": 58,
     "metadata": {},
     "output_type": "execute_result"
    }
   ],
   "source": [
    "final"
   ]
  },
  {
   "cell_type": "code",
   "execution_count": 59,
   "metadata": {
    "scrolled": true
   },
   "outputs": [
    {
     "data": {
      "text/plain": [
       "Int64Index([    2,     5,     6,     7,     8,    10,    11,    12,    14,\n",
       "               15,\n",
       "            ...\n",
       "            50929, 50930, 50931, 50932, 50934, 50935, 50937, 50938, 50941,\n",
       "            50942],\n",
       "           dtype='int64', length=34601)"
      ]
     },
     "execution_count": 59,
     "metadata": {},
     "output_type": "execute_result"
    }
   ],
   "source": [
    "final.index"
   ]
  },
  {
   "cell_type": "code",
   "execution_count": 60,
   "metadata": {},
   "outputs": [],
   "source": [
    "final.reset_index(drop=True, inplace = True)"
   ]
  },
  {
   "cell_type": "code",
   "execution_count": 75,
   "metadata": {},
   "outputs": [
    {
     "data": {
      "text/plain": [
       "RangeIndex(start=0, stop=34601, step=1)"
      ]
     },
     "execution_count": 75,
     "metadata": {},
     "output_type": "execute_result"
    }
   ],
   "source": [
    "final.index"
   ]
  },
  {
   "cell_type": "code",
   "execution_count": 61,
   "metadata": {},
   "outputs": [
    {
     "data": {
      "text/html": [
       "<div>\n",
       "<style scoped>\n",
       "    .dataframe tbody tr th:only-of-type {\n",
       "        vertical-align: middle;\n",
       "    }\n",
       "\n",
       "    .dataframe tbody tr th {\n",
       "        vertical-align: top;\n",
       "    }\n",
       "\n",
       "    .dataframe thead th {\n",
       "        text-align: right;\n",
       "    }\n",
       "</style>\n",
       "<table border=\"1\" class=\"dataframe\">\n",
       "  <thead>\n",
       "    <tr style=\"text-align: right;\">\n",
       "      <th></th>\n",
       "      <th>age</th>\n",
       "      <th>admissionweight</th>\n",
       "      <th>admissionheight</th>\n",
       "      <th>respiratoryrate</th>\n",
       "      <th>sodium</th>\n",
       "      <th>heartrate</th>\n",
       "      <th>meanbp</th>\n",
       "      <th>gender_Female</th>\n",
       "      <th>gender_Male</th>\n",
       "      <th>gender_Other</th>\n",
       "      <th>gender_Unknown</th>\n",
       "      <th>ethnicity_African American</th>\n",
       "      <th>ethnicity_Asian</th>\n",
       "      <th>ethnicity_Caucasian</th>\n",
       "      <th>ethnicity_Hispanic</th>\n",
       "      <th>ethnicity_Native American</th>\n",
       "      <th>ethnicity_Other/Unknown</th>\n",
       "    </tr>\n",
       "  </thead>\n",
       "  <tbody>\n",
       "    <tr>\n",
       "      <td>0</td>\n",
       "      <td>62</td>\n",
       "      <td>85.7</td>\n",
       "      <td>162.6</td>\n",
       "      <td>10.0</td>\n",
       "      <td>140.0</td>\n",
       "      <td>39</td>\n",
       "      <td>45.0</td>\n",
       "      <td>1</td>\n",
       "      <td>0</td>\n",
       "      <td>0</td>\n",
       "      <td>0</td>\n",
       "      <td>0</td>\n",
       "      <td>0</td>\n",
       "      <td>1</td>\n",
       "      <td>0</td>\n",
       "      <td>0</td>\n",
       "      <td>0</td>\n",
       "    </tr>\n",
       "    <tr>\n",
       "      <td>1</td>\n",
       "      <td>76</td>\n",
       "      <td>112.4</td>\n",
       "      <td>175.3</td>\n",
       "      <td>12.0</td>\n",
       "      <td>137.0</td>\n",
       "      <td>121</td>\n",
       "      <td>112.0</td>\n",
       "      <td>0</td>\n",
       "      <td>1</td>\n",
       "      <td>0</td>\n",
       "      <td>0</td>\n",
       "      <td>0</td>\n",
       "      <td>0</td>\n",
       "      <td>1</td>\n",
       "      <td>0</td>\n",
       "      <td>0</td>\n",
       "      <td>0</td>\n",
       "    </tr>\n",
       "    <tr>\n",
       "      <td>2</td>\n",
       "      <td>70</td>\n",
       "      <td>82.3</td>\n",
       "      <td>166.4</td>\n",
       "      <td>18.0</td>\n",
       "      <td>133.0</td>\n",
       "      <td>91</td>\n",
       "      <td>156.0</td>\n",
       "      <td>1</td>\n",
       "      <td>0</td>\n",
       "      <td>0</td>\n",
       "      <td>0</td>\n",
       "      <td>1</td>\n",
       "      <td>0</td>\n",
       "      <td>0</td>\n",
       "      <td>0</td>\n",
       "      <td>0</td>\n",
       "      <td>0</td>\n",
       "    </tr>\n",
       "    <tr>\n",
       "      <td>3</td>\n",
       "      <td>70</td>\n",
       "      <td>164.0</td>\n",
       "      <td>166.4</td>\n",
       "      <td>15.0</td>\n",
       "      <td>136.0</td>\n",
       "      <td>59</td>\n",
       "      <td>103.0</td>\n",
       "      <td>1</td>\n",
       "      <td>0</td>\n",
       "      <td>0</td>\n",
       "      <td>0</td>\n",
       "      <td>1</td>\n",
       "      <td>0</td>\n",
       "      <td>0</td>\n",
       "      <td>0</td>\n",
       "      <td>0</td>\n",
       "      <td>0</td>\n",
       "    </tr>\n",
       "    <tr>\n",
       "      <td>4</td>\n",
       "      <td>89</td>\n",
       "      <td>81.6</td>\n",
       "      <td>182.9</td>\n",
       "      <td>29.0</td>\n",
       "      <td>146.0</td>\n",
       "      <td>103</td>\n",
       "      <td>50.0</td>\n",
       "      <td>0</td>\n",
       "      <td>1</td>\n",
       "      <td>0</td>\n",
       "      <td>0</td>\n",
       "      <td>0</td>\n",
       "      <td>0</td>\n",
       "      <td>1</td>\n",
       "      <td>0</td>\n",
       "      <td>0</td>\n",
       "      <td>0</td>\n",
       "    </tr>\n",
       "    <tr>\n",
       "      <td>...</td>\n",
       "      <td>...</td>\n",
       "      <td>...</td>\n",
       "      <td>...</td>\n",
       "      <td>...</td>\n",
       "      <td>...</td>\n",
       "      <td>...</td>\n",
       "      <td>...</td>\n",
       "      <td>...</td>\n",
       "      <td>...</td>\n",
       "      <td>...</td>\n",
       "      <td>...</td>\n",
       "      <td>...</td>\n",
       "      <td>...</td>\n",
       "      <td>...</td>\n",
       "      <td>...</td>\n",
       "      <td>...</td>\n",
       "      <td>...</td>\n",
       "    </tr>\n",
       "    <tr>\n",
       "      <td>34596</td>\n",
       "      <td>66</td>\n",
       "      <td>71.5</td>\n",
       "      <td>157.5</td>\n",
       "      <td>30.0</td>\n",
       "      <td>134.0</td>\n",
       "      <td>112</td>\n",
       "      <td>64.0</td>\n",
       "      <td>1</td>\n",
       "      <td>0</td>\n",
       "      <td>0</td>\n",
       "      <td>0</td>\n",
       "      <td>0</td>\n",
       "      <td>0</td>\n",
       "      <td>1</td>\n",
       "      <td>0</td>\n",
       "      <td>0</td>\n",
       "      <td>0</td>\n",
       "    </tr>\n",
       "    <tr>\n",
       "      <td>34597</td>\n",
       "      <td>51</td>\n",
       "      <td>54.4</td>\n",
       "      <td>160.0</td>\n",
       "      <td>45.0</td>\n",
       "      <td>142.0</td>\n",
       "      <td>107</td>\n",
       "      <td>116.0</td>\n",
       "      <td>1</td>\n",
       "      <td>0</td>\n",
       "      <td>0</td>\n",
       "      <td>0</td>\n",
       "      <td>0</td>\n",
       "      <td>0</td>\n",
       "      <td>1</td>\n",
       "      <td>0</td>\n",
       "      <td>0</td>\n",
       "      <td>0</td>\n",
       "    </tr>\n",
       "    <tr>\n",
       "      <td>34598</td>\n",
       "      <td>50</td>\n",
       "      <td>55.4</td>\n",
       "      <td>165.1</td>\n",
       "      <td>14.0</td>\n",
       "      <td>143.0</td>\n",
       "      <td>62</td>\n",
       "      <td>114.0</td>\n",
       "      <td>1</td>\n",
       "      <td>0</td>\n",
       "      <td>0</td>\n",
       "      <td>0</td>\n",
       "      <td>1</td>\n",
       "      <td>0</td>\n",
       "      <td>0</td>\n",
       "      <td>0</td>\n",
       "      <td>0</td>\n",
       "      <td>0</td>\n",
       "    </tr>\n",
       "    <tr>\n",
       "      <td>34599</td>\n",
       "      <td>79</td>\n",
       "      <td>78.4</td>\n",
       "      <td>162.6</td>\n",
       "      <td>42.0</td>\n",
       "      <td>140.0</td>\n",
       "      <td>112</td>\n",
       "      <td>125.0</td>\n",
       "      <td>1</td>\n",
       "      <td>0</td>\n",
       "      <td>0</td>\n",
       "      <td>0</td>\n",
       "      <td>0</td>\n",
       "      <td>0</td>\n",
       "      <td>1</td>\n",
       "      <td>0</td>\n",
       "      <td>0</td>\n",
       "      <td>0</td>\n",
       "    </tr>\n",
       "    <tr>\n",
       "      <td>34600</td>\n",
       "      <td>73</td>\n",
       "      <td>102.0</td>\n",
       "      <td>177.8</td>\n",
       "      <td>34.0</td>\n",
       "      <td>142.0</td>\n",
       "      <td>104</td>\n",
       "      <td>58.0</td>\n",
       "      <td>0</td>\n",
       "      <td>1</td>\n",
       "      <td>0</td>\n",
       "      <td>0</td>\n",
       "      <td>1</td>\n",
       "      <td>0</td>\n",
       "      <td>0</td>\n",
       "      <td>0</td>\n",
       "      <td>0</td>\n",
       "      <td>0</td>\n",
       "    </tr>\n",
       "  </tbody>\n",
       "</table>\n",
       "<p>34601 rows × 17 columns</p>\n",
       "</div>"
      ],
      "text/plain": [
       "       age  admissionweight  admissionheight  respiratoryrate  sodium  \\\n",
       "0       62             85.7            162.6             10.0   140.0   \n",
       "1       76            112.4            175.3             12.0   137.0   \n",
       "2       70             82.3            166.4             18.0   133.0   \n",
       "3       70            164.0            166.4             15.0   136.0   \n",
       "4       89             81.6            182.9             29.0   146.0   \n",
       "...    ...              ...              ...              ...     ...   \n",
       "34596   66             71.5            157.5             30.0   134.0   \n",
       "34597   51             54.4            160.0             45.0   142.0   \n",
       "34598   50             55.4            165.1             14.0   143.0   \n",
       "34599   79             78.4            162.6             42.0   140.0   \n",
       "34600   73            102.0            177.8             34.0   142.0   \n",
       "\n",
       "       heartrate  meanbp  gender_Female  gender_Male  gender_Other  \\\n",
       "0             39    45.0              1            0             0   \n",
       "1            121   112.0              0            1             0   \n",
       "2             91   156.0              1            0             0   \n",
       "3             59   103.0              1            0             0   \n",
       "4            103    50.0              0            1             0   \n",
       "...          ...     ...            ...          ...           ...   \n",
       "34596        112    64.0              1            0             0   \n",
       "34597        107   116.0              1            0             0   \n",
       "34598         62   114.0              1            0             0   \n",
       "34599        112   125.0              1            0             0   \n",
       "34600        104    58.0              0            1             0   \n",
       "\n",
       "       gender_Unknown  ethnicity_African American  ethnicity_Asian  \\\n",
       "0                   0                           0                0   \n",
       "1                   0                           0                0   \n",
       "2                   0                           1                0   \n",
       "3                   0                           1                0   \n",
       "4                   0                           0                0   \n",
       "...               ...                         ...              ...   \n",
       "34596               0                           0                0   \n",
       "34597               0                           0                0   \n",
       "34598               0                           1                0   \n",
       "34599               0                           0                0   \n",
       "34600               0                           1                0   \n",
       "\n",
       "       ethnicity_Caucasian  ethnicity_Hispanic  ethnicity_Native American  \\\n",
       "0                        1                   0                          0   \n",
       "1                        1                   0                          0   \n",
       "2                        0                   0                          0   \n",
       "3                        0                   0                          0   \n",
       "4                        1                   0                          0   \n",
       "...                    ...                 ...                        ...   \n",
       "34596                    1                   0                          0   \n",
       "34597                    1                   0                          0   \n",
       "34598                    0                   0                          0   \n",
       "34599                    1                   0                          0   \n",
       "34600                    0                   0                          0   \n",
       "\n",
       "       ethnicity_Other/Unknown  \n",
       "0                            0  \n",
       "1                            0  \n",
       "2                            0  \n",
       "3                            0  \n",
       "4                            0  \n",
       "...                        ...  \n",
       "34596                        0  \n",
       "34597                        0  \n",
       "34598                        0  \n",
       "34599                        0  \n",
       "34600                        0  \n",
       "\n",
       "[34601 rows x 17 columns]"
      ]
     },
     "execution_count": 61,
     "metadata": {},
     "output_type": "execute_result"
    }
   ],
   "source": [
    "final"
   ]
  },
  {
   "cell_type": "code",
   "execution_count": 62,
   "metadata": {},
   "outputs": [],
   "source": [
    "final[\"label\"] = icu_mort"
   ]
  },
  {
   "cell_type": "code",
   "execution_count": null,
   "metadata": {},
   "outputs": [],
   "source": [
    "final"
   ]
  },
  {
   "cell_type": "code",
   "execution_count": 63,
   "metadata": {},
   "outputs": [],
   "source": [
    "#upsample here first and then split into training and testing\n",
    "\n",
    "from sklearn.utils import resample\n",
    "\n",
    "#upsampling\n",
    "\n",
    "final_alive = final.loc[final[\"label\"] == \"ALIVE\"]\n",
    "final_expired = final.loc[final[\"label\"] == \"EXPIRED\"]"
   ]
  },
  {
   "cell_type": "code",
   "execution_count": 64,
   "metadata": {
    "scrolled": true
   },
   "outputs": [
    {
     "data": {
      "text/plain": [
       "(32475, 18)"
      ]
     },
     "execution_count": 64,
     "metadata": {},
     "output_type": "execute_result"
    }
   ],
   "source": [
    "final_alive.shape"
   ]
  },
  {
   "cell_type": "code",
   "execution_count": 65,
   "metadata": {},
   "outputs": [
    {
     "data": {
      "text/plain": [
       "(2126, 18)"
      ]
     },
     "execution_count": 65,
     "metadata": {},
     "output_type": "execute_result"
    }
   ],
   "source": [
    "final_expired.shape"
   ]
  },
  {
   "cell_type": "code",
   "execution_count": null,
   "metadata": {},
   "outputs": [],
   "source": [
    "\n",
    "final_upsample = resample(fina_expired, replace = True, n_samples = 25979, random_state = 123)\n",
    "\n",
    "training_upsampled = pd.concat([training_alive, training_expired_upsample])\n",
    "\n",
    "training_upsampled[\"label\"].value_counts()"
   ]
  },
  {
   "cell_type": "code",
   "execution_count": 79,
   "metadata": {},
   "outputs": [],
   "source": [
    "from sklearn.model_selection import StratifiedShuffleSplit\n",
    "\n",
    "split = StratifiedShuffleSplit(n_splits = 1, test_size = 0.2, random_state = 42)\n",
    "\n",
    "for train_index, test_index in split.split(final, final['label']):\n",
    "    training = final.loc[train_index]\n",
    "    testing = final.loc[test_index]\n",
    "    \n"
   ]
  },
  {
   "cell_type": "code",
   "execution_count": 80,
   "metadata": {},
   "outputs": [
    {
     "data": {
      "text/plain": [
       "ALIVE      25979\n",
       "EXPIRED     1701\n",
       "Name: label, dtype: int64"
      ]
     },
     "execution_count": 80,
     "metadata": {},
     "output_type": "execute_result"
    }
   ],
   "source": [
    "training[\"label\"].value_counts()"
   ]
  },
  {
   "cell_type": "code",
   "execution_count": 81,
   "metadata": {},
   "outputs": [
    {
     "data": {
      "text/plain": [
       "ALIVE      6496\n",
       "EXPIRED     425\n",
       "Name: label, dtype: int64"
      ]
     },
     "execution_count": 81,
     "metadata": {},
     "output_type": "execute_result"
    }
   ],
   "source": [
    "testing[\"label\"].value_counts()"
   ]
  },
  {
   "cell_type": "code",
   "execution_count": 82,
   "metadata": {},
   "outputs": [],
   "source": [
    "testing_label = testing[\"label\"]"
   ]
  },
  {
   "cell_type": "code",
   "execution_count": 83,
   "metadata": {},
   "outputs": [],
   "source": [
    "testing_data = testing.drop(\"label\", axis = 1)"
   ]
  },
  {
   "cell_type": "code",
   "execution_count": 84,
   "metadata": {},
   "outputs": [
    {
     "data": {
      "text/plain": [
       "4156     ALIVE\n",
       "1224     ALIVE\n",
       "18287    ALIVE\n",
       "22231    ALIVE\n",
       "8788     ALIVE\n",
       "         ...  \n",
       "25691    ALIVE\n",
       "31760    ALIVE\n",
       "11467    ALIVE\n",
       "15175    ALIVE\n",
       "12661    ALIVE\n",
       "Name: label, Length: 6921, dtype: object"
      ]
     },
     "execution_count": 84,
     "metadata": {},
     "output_type": "execute_result"
    }
   ],
   "source": [
    "testing_label"
   ]
  },
  {
   "cell_type": "code",
   "execution_count": 85,
   "metadata": {},
   "outputs": [
    {
     "data": {
      "text/html": [
       "<div>\n",
       "<style scoped>\n",
       "    .dataframe tbody tr th:only-of-type {\n",
       "        vertical-align: middle;\n",
       "    }\n",
       "\n",
       "    .dataframe tbody tr th {\n",
       "        vertical-align: top;\n",
       "    }\n",
       "\n",
       "    .dataframe thead th {\n",
       "        text-align: right;\n",
       "    }\n",
       "</style>\n",
       "<table border=\"1\" class=\"dataframe\">\n",
       "  <thead>\n",
       "    <tr style=\"text-align: right;\">\n",
       "      <th></th>\n",
       "      <th>age</th>\n",
       "      <th>admissionweight</th>\n",
       "      <th>admissionheight</th>\n",
       "      <th>respiratoryrate</th>\n",
       "      <th>sodium</th>\n",
       "      <th>heartrate</th>\n",
       "      <th>meanbp</th>\n",
       "      <th>gender_Female</th>\n",
       "      <th>gender_Male</th>\n",
       "      <th>gender_Other</th>\n",
       "      <th>gender_Unknown</th>\n",
       "      <th>ethnicity_African American</th>\n",
       "      <th>ethnicity_Asian</th>\n",
       "      <th>ethnicity_Caucasian</th>\n",
       "      <th>ethnicity_Hispanic</th>\n",
       "      <th>ethnicity_Native American</th>\n",
       "      <th>ethnicity_Other/Unknown</th>\n",
       "    </tr>\n",
       "  </thead>\n",
       "  <tbody>\n",
       "    <tr>\n",
       "      <td>4156</td>\n",
       "      <td>58</td>\n",
       "      <td>95.20</td>\n",
       "      <td>157.5</td>\n",
       "      <td>9.0</td>\n",
       "      <td>139.0</td>\n",
       "      <td>121</td>\n",
       "      <td>58.0</td>\n",
       "      <td>1</td>\n",
       "      <td>0</td>\n",
       "      <td>0</td>\n",
       "      <td>0</td>\n",
       "      <td>1</td>\n",
       "      <td>0</td>\n",
       "      <td>0</td>\n",
       "      <td>0</td>\n",
       "      <td>0</td>\n",
       "      <td>0</td>\n",
       "    </tr>\n",
       "    <tr>\n",
       "      <td>1224</td>\n",
       "      <td>85</td>\n",
       "      <td>58.96</td>\n",
       "      <td>162.6</td>\n",
       "      <td>26.0</td>\n",
       "      <td>141.0</td>\n",
       "      <td>117</td>\n",
       "      <td>133.0</td>\n",
       "      <td>1</td>\n",
       "      <td>0</td>\n",
       "      <td>0</td>\n",
       "      <td>0</td>\n",
       "      <td>0</td>\n",
       "      <td>0</td>\n",
       "      <td>1</td>\n",
       "      <td>0</td>\n",
       "      <td>0</td>\n",
       "      <td>0</td>\n",
       "    </tr>\n",
       "    <tr>\n",
       "      <td>18287</td>\n",
       "      <td>55</td>\n",
       "      <td>83.91</td>\n",
       "      <td>172.7</td>\n",
       "      <td>32.0</td>\n",
       "      <td>136.0</td>\n",
       "      <td>94</td>\n",
       "      <td>64.0</td>\n",
       "      <td>0</td>\n",
       "      <td>1</td>\n",
       "      <td>0</td>\n",
       "      <td>0</td>\n",
       "      <td>0</td>\n",
       "      <td>0</td>\n",
       "      <td>0</td>\n",
       "      <td>0</td>\n",
       "      <td>0</td>\n",
       "      <td>1</td>\n",
       "    </tr>\n",
       "    <tr>\n",
       "      <td>22231</td>\n",
       "      <td>24</td>\n",
       "      <td>154.50</td>\n",
       "      <td>178.0</td>\n",
       "      <td>9.0</td>\n",
       "      <td>135.0</td>\n",
       "      <td>133</td>\n",
       "      <td>67.0</td>\n",
       "      <td>0</td>\n",
       "      <td>1</td>\n",
       "      <td>0</td>\n",
       "      <td>0</td>\n",
       "      <td>0</td>\n",
       "      <td>0</td>\n",
       "      <td>1</td>\n",
       "      <td>0</td>\n",
       "      <td>0</td>\n",
       "      <td>0</td>\n",
       "    </tr>\n",
       "    <tr>\n",
       "      <td>8788</td>\n",
       "      <td>63</td>\n",
       "      <td>73.00</td>\n",
       "      <td>183.0</td>\n",
       "      <td>6.0</td>\n",
       "      <td>141.0</td>\n",
       "      <td>101</td>\n",
       "      <td>60.0</td>\n",
       "      <td>0</td>\n",
       "      <td>1</td>\n",
       "      <td>0</td>\n",
       "      <td>0</td>\n",
       "      <td>0</td>\n",
       "      <td>0</td>\n",
       "      <td>1</td>\n",
       "      <td>0</td>\n",
       "      <td>0</td>\n",
       "      <td>0</td>\n",
       "    </tr>\n",
       "    <tr>\n",
       "      <td>...</td>\n",
       "      <td>...</td>\n",
       "      <td>...</td>\n",
       "      <td>...</td>\n",
       "      <td>...</td>\n",
       "      <td>...</td>\n",
       "      <td>...</td>\n",
       "      <td>...</td>\n",
       "      <td>...</td>\n",
       "      <td>...</td>\n",
       "      <td>...</td>\n",
       "      <td>...</td>\n",
       "      <td>...</td>\n",
       "      <td>...</td>\n",
       "      <td>...</td>\n",
       "      <td>...</td>\n",
       "      <td>...</td>\n",
       "      <td>...</td>\n",
       "    </tr>\n",
       "    <tr>\n",
       "      <td>25691</td>\n",
       "      <td>69</td>\n",
       "      <td>60.80</td>\n",
       "      <td>170.2</td>\n",
       "      <td>9.0</td>\n",
       "      <td>134.0</td>\n",
       "      <td>109</td>\n",
       "      <td>52.0</td>\n",
       "      <td>1</td>\n",
       "      <td>0</td>\n",
       "      <td>0</td>\n",
       "      <td>0</td>\n",
       "      <td>0</td>\n",
       "      <td>0</td>\n",
       "      <td>1</td>\n",
       "      <td>0</td>\n",
       "      <td>0</td>\n",
       "      <td>0</td>\n",
       "    </tr>\n",
       "    <tr>\n",
       "      <td>31760</td>\n",
       "      <td>84</td>\n",
       "      <td>119.60</td>\n",
       "      <td>183.0</td>\n",
       "      <td>32.0</td>\n",
       "      <td>135.0</td>\n",
       "      <td>154</td>\n",
       "      <td>53.0</td>\n",
       "      <td>0</td>\n",
       "      <td>1</td>\n",
       "      <td>0</td>\n",
       "      <td>0</td>\n",
       "      <td>1</td>\n",
       "      <td>0</td>\n",
       "      <td>0</td>\n",
       "      <td>0</td>\n",
       "      <td>0</td>\n",
       "      <td>0</td>\n",
       "    </tr>\n",
       "    <tr>\n",
       "      <td>11467</td>\n",
       "      <td>62</td>\n",
       "      <td>82.70</td>\n",
       "      <td>177.8</td>\n",
       "      <td>54.0</td>\n",
       "      <td>136.0</td>\n",
       "      <td>44</td>\n",
       "      <td>58.0</td>\n",
       "      <td>0</td>\n",
       "      <td>1</td>\n",
       "      <td>0</td>\n",
       "      <td>0</td>\n",
       "      <td>0</td>\n",
       "      <td>0</td>\n",
       "      <td>1</td>\n",
       "      <td>0</td>\n",
       "      <td>0</td>\n",
       "      <td>0</td>\n",
       "    </tr>\n",
       "    <tr>\n",
       "      <td>15175</td>\n",
       "      <td>44</td>\n",
       "      <td>79.30</td>\n",
       "      <td>182.8</td>\n",
       "      <td>10.0</td>\n",
       "      <td>138.0</td>\n",
       "      <td>119</td>\n",
       "      <td>62.0</td>\n",
       "      <td>0</td>\n",
       "      <td>1</td>\n",
       "      <td>0</td>\n",
       "      <td>0</td>\n",
       "      <td>0</td>\n",
       "      <td>0</td>\n",
       "      <td>1</td>\n",
       "      <td>0</td>\n",
       "      <td>0</td>\n",
       "      <td>0</td>\n",
       "    </tr>\n",
       "    <tr>\n",
       "      <td>12661</td>\n",
       "      <td>64</td>\n",
       "      <td>99.60</td>\n",
       "      <td>177.8</td>\n",
       "      <td>54.0</td>\n",
       "      <td>134.0</td>\n",
       "      <td>134</td>\n",
       "      <td>53.0</td>\n",
       "      <td>0</td>\n",
       "      <td>1</td>\n",
       "      <td>0</td>\n",
       "      <td>0</td>\n",
       "      <td>0</td>\n",
       "      <td>0</td>\n",
       "      <td>1</td>\n",
       "      <td>0</td>\n",
       "      <td>0</td>\n",
       "      <td>0</td>\n",
       "    </tr>\n",
       "  </tbody>\n",
       "</table>\n",
       "<p>6921 rows × 17 columns</p>\n",
       "</div>"
      ],
      "text/plain": [
       "       age  admissionweight  admissionheight  respiratoryrate  sodium  \\\n",
       "4156    58            95.20            157.5              9.0   139.0   \n",
       "1224    85            58.96            162.6             26.0   141.0   \n",
       "18287   55            83.91            172.7             32.0   136.0   \n",
       "22231   24           154.50            178.0              9.0   135.0   \n",
       "8788    63            73.00            183.0              6.0   141.0   \n",
       "...    ...              ...              ...              ...     ...   \n",
       "25691   69            60.80            170.2              9.0   134.0   \n",
       "31760   84           119.60            183.0             32.0   135.0   \n",
       "11467   62            82.70            177.8             54.0   136.0   \n",
       "15175   44            79.30            182.8             10.0   138.0   \n",
       "12661   64            99.60            177.8             54.0   134.0   \n",
       "\n",
       "       heartrate  meanbp  gender_Female  gender_Male  gender_Other  \\\n",
       "4156         121    58.0              1            0             0   \n",
       "1224         117   133.0              1            0             0   \n",
       "18287         94    64.0              0            1             0   \n",
       "22231        133    67.0              0            1             0   \n",
       "8788         101    60.0              0            1             0   \n",
       "...          ...     ...            ...          ...           ...   \n",
       "25691        109    52.0              1            0             0   \n",
       "31760        154    53.0              0            1             0   \n",
       "11467         44    58.0              0            1             0   \n",
       "15175        119    62.0              0            1             0   \n",
       "12661        134    53.0              0            1             0   \n",
       "\n",
       "       gender_Unknown  ethnicity_African American  ethnicity_Asian  \\\n",
       "4156                0                           1                0   \n",
       "1224                0                           0                0   \n",
       "18287               0                           0                0   \n",
       "22231               0                           0                0   \n",
       "8788                0                           0                0   \n",
       "...               ...                         ...              ...   \n",
       "25691               0                           0                0   \n",
       "31760               0                           1                0   \n",
       "11467               0                           0                0   \n",
       "15175               0                           0                0   \n",
       "12661               0                           0                0   \n",
       "\n",
       "       ethnicity_Caucasian  ethnicity_Hispanic  ethnicity_Native American  \\\n",
       "4156                     0                   0                          0   \n",
       "1224                     1                   0                          0   \n",
       "18287                    0                   0                          0   \n",
       "22231                    1                   0                          0   \n",
       "8788                     1                   0                          0   \n",
       "...                    ...                 ...                        ...   \n",
       "25691                    1                   0                          0   \n",
       "31760                    0                   0                          0   \n",
       "11467                    1                   0                          0   \n",
       "15175                    1                   0                          0   \n",
       "12661                    1                   0                          0   \n",
       "\n",
       "       ethnicity_Other/Unknown  \n",
       "4156                         0  \n",
       "1224                         0  \n",
       "18287                        1  \n",
       "22231                        0  \n",
       "8788                         0  \n",
       "...                        ...  \n",
       "25691                        0  \n",
       "31760                        0  \n",
       "11467                        0  \n",
       "15175                        0  \n",
       "12661                        0  \n",
       "\n",
       "[6921 rows x 17 columns]"
      ]
     },
     "execution_count": 85,
     "metadata": {},
     "output_type": "execute_result"
    }
   ],
   "source": [
    "testing_data"
   ]
  },
  {
   "cell_type": "code",
   "execution_count": 88,
   "metadata": {},
   "outputs": [],
   "source": [
    "import numpy as np\n",
    "import math\n",
    "\n",
    "def create_interaction_df(df):\n",
    "    mult_df = pd.DataFrame()\n",
    "    div_df = pd.DataFrame()\n",
    "    for i in df.columns[:]:\n",
    "        for j in df.columns[:]:\n",
    "            mult_df[i+\" and \"+j] = df[i] * df[j]\n",
    "            if(np.isnan(df[i]/df[j]).any() or np.isposinf(df[i]/df[j])).any() or np.isneginf(df[i]/df[j]).any():\n",
    "                pass\n",
    "            else:\n",
    "                div_df[i+\" and \"+j] = df[i] / df[j]\n",
    "    return mult_df, div_df"
   ]
  },
  {
   "cell_type": "code",
   "execution_count": 89,
   "metadata": {},
   "outputs": [],
   "source": [
    "training_label = training_upsampled[\"label\"]\n",
    "training_data = training_upsampled.drop(\"label\", axis = 1)"
   ]
  },
  {
   "cell_type": "code",
   "execution_count": 90,
   "metadata": {},
   "outputs": [
    {
     "data": {
      "text/plain": [
       "18271      ALIVE\n",
       "23230      ALIVE\n",
       "32804      ALIVE\n",
       "1857       ALIVE\n",
       "22076      ALIVE\n",
       "          ...   \n",
       "1755     EXPIRED\n",
       "6973     EXPIRED\n",
       "7172     EXPIRED\n",
       "17351    EXPIRED\n",
       "10412    EXPIRED\n",
       "Name: label, Length: 51958, dtype: object"
      ]
     },
     "execution_count": 90,
     "metadata": {},
     "output_type": "execute_result"
    }
   ],
   "source": [
    "training_label"
   ]
  },
  {
   "cell_type": "code",
   "execution_count": 91,
   "metadata": {},
   "outputs": [],
   "source": [
    "toreplace = {\"ALIVE\" : 1, \"EXPIRED\":0 }\n",
    "\n",
    "training_label.replace(toreplace, inplace = True)"
   ]
  },
  {
   "cell_type": "code",
   "execution_count": 92,
   "metadata": {},
   "outputs": [
    {
     "data": {
      "text/plain": [
       "18271    1\n",
       "23230    1\n",
       "32804    1\n",
       "1857     1\n",
       "22076    1\n",
       "        ..\n",
       "1755     0\n",
       "6973     0\n",
       "7172     0\n",
       "17351    0\n",
       "10412    0\n",
       "Name: label, Length: 51958, dtype: int64"
      ]
     },
     "execution_count": 92,
     "metadata": {},
     "output_type": "execute_result"
    }
   ],
   "source": [
    "training_label"
   ]
  },
  {
   "cell_type": "code",
   "execution_count": 93,
   "metadata": {},
   "outputs": [
    {
     "data": {
      "text/plain": [
       "(51958, 18)"
      ]
     },
     "execution_count": 93,
     "metadata": {},
     "output_type": "execute_result"
    }
   ],
   "source": [
    "training_upsampled.shape"
   ]
  },
  {
   "cell_type": "code",
   "execution_count": 94,
   "metadata": {},
   "outputs": [],
   "source": [
    "train_mult, train_div = create_interaction_df(training_data)"
   ]
  },
  {
   "cell_type": "code",
   "execution_count": 95,
   "metadata": {},
   "outputs": [
    {
     "data": {
      "text/plain": [
       "(51958, 289)"
      ]
     },
     "execution_count": 95,
     "metadata": {},
     "output_type": "execute_result"
    }
   ],
   "source": [
    "train_mult.shape"
   ]
  },
  {
   "cell_type": "code",
   "execution_count": 96,
   "metadata": {},
   "outputs": [],
   "source": [
    "from sklearn.linear_model import LogisticRegression\n",
    "from sklearn.discriminant_analysis import LinearDiscriminantAnalysis\n",
    "from sklearn.neighbors import KNeighborsClassifier\n",
    "from sklearn.naive_bayes import GaussianNB\n",
    "from sklearn.svm import SVC\n",
    "from sklearn.ensemble import RandomForestClassifier\n",
    "from sklearn.model_selection import cross_val_score\n",
    "\n",
    "\n",
    "\n",
    "lr = LogisticRegression()\n",
    "lda = LinearDiscriminantAnalysis()\n",
    "knn = KNeighborsClassifier()\n",
    "nb = GaussianNB()\n",
    "svm = SVC()\n",
    "rf = RandomForestClassifier()\n"
   ]
  },
  {
   "cell_type": "code",
   "execution_count": null,
   "metadata": {},
   "outputs": [
    {
     "name": "stdout",
     "output_type": "stream",
     "text": [
      "m 0\n",
      "d 0\n",
      "lr_original\n"
     ]
    },
    {
     "name": "stderr",
     "output_type": "stream",
     "text": [
      "/Users/tedlinghu/opt/anaconda3/lib/python3.7/site-packages/sklearn/linear_model/logistic.py:432: FutureWarning: Default solver will be changed to 'lbfgs' in 0.22. Specify a solver to silence this warning.\n",
      "  FutureWarning)\n",
      "/Users/tedlinghu/opt/anaconda3/lib/python3.7/site-packages/sklearn/linear_model/logistic.py:432: FutureWarning: Default solver will be changed to 'lbfgs' in 0.22. Specify a solver to silence this warning.\n",
      "  FutureWarning)\n",
      "/Users/tedlinghu/opt/anaconda3/lib/python3.7/site-packages/sklearn/linear_model/logistic.py:432: FutureWarning: Default solver will be changed to 'lbfgs' in 0.22. Specify a solver to silence this warning.\n",
      "  FutureWarning)\n",
      "/Users/tedlinghu/opt/anaconda3/lib/python3.7/site-packages/sklearn/linear_model/logistic.py:432: FutureWarning: Default solver will be changed to 'lbfgs' in 0.22. Specify a solver to silence this warning.\n",
      "  FutureWarning)\n",
      "/Users/tedlinghu/opt/anaconda3/lib/python3.7/site-packages/sklearn/linear_model/logistic.py:432: FutureWarning: Default solver will be changed to 'lbfgs' in 0.22. Specify a solver to silence this warning.\n",
      "  FutureWarning)\n",
      "/Users/tedlinghu/opt/anaconda3/lib/python3.7/site-packages/sklearn/linear_model/logistic.py:432: FutureWarning: Default solver will be changed to 'lbfgs' in 0.22. Specify a solver to silence this warning.\n",
      "  FutureWarning)\n",
      "/Users/tedlinghu/opt/anaconda3/lib/python3.7/site-packages/sklearn/linear_model/logistic.py:432: FutureWarning: Default solver will be changed to 'lbfgs' in 0.22. Specify a solver to silence this warning.\n",
      "  FutureWarning)\n",
      "/Users/tedlinghu/opt/anaconda3/lib/python3.7/site-packages/sklearn/linear_model/logistic.py:432: FutureWarning: Default solver will be changed to 'lbfgs' in 0.22. Specify a solver to silence this warning.\n",
      "  FutureWarning)\n",
      "/Users/tedlinghu/opt/anaconda3/lib/python3.7/site-packages/sklearn/linear_model/logistic.py:432: FutureWarning: Default solver will be changed to 'lbfgs' in 0.22. Specify a solver to silence this warning.\n",
      "  FutureWarning)\n",
      "/Users/tedlinghu/opt/anaconda3/lib/python3.7/site-packages/sklearn/linear_model/logistic.py:432: FutureWarning: Default solver will be changed to 'lbfgs' in 0.22. Specify a solver to silence this warning.\n",
      "  FutureWarning)\n",
      "/Users/tedlinghu/opt/anaconda3/lib/python3.7/site-packages/sklearn/linear_model/logistic.py:432: FutureWarning: Default solver will be changed to 'lbfgs' in 0.22. Specify a solver to silence this warning.\n",
      "  FutureWarning)\n",
      "/Users/tedlinghu/opt/anaconda3/lib/python3.7/site-packages/sklearn/linear_model/logistic.py:432: FutureWarning: Default solver will be changed to 'lbfgs' in 0.22. Specify a solver to silence this warning.\n",
      "  FutureWarning)\n",
      "/Users/tedlinghu/opt/anaconda3/lib/python3.7/site-packages/sklearn/linear_model/logistic.py:432: FutureWarning: Default solver will be changed to 'lbfgs' in 0.22. Specify a solver to silence this warning.\n",
      "  FutureWarning)\n",
      "/Users/tedlinghu/opt/anaconda3/lib/python3.7/site-packages/sklearn/linear_model/logistic.py:432: FutureWarning: Default solver will be changed to 'lbfgs' in 0.22. Specify a solver to silence this warning.\n",
      "  FutureWarning)\n",
      "/Users/tedlinghu/opt/anaconda3/lib/python3.7/site-packages/sklearn/linear_model/logistic.py:432: FutureWarning: Default solver will be changed to 'lbfgs' in 0.22. Specify a solver to silence this warning.\n",
      "  FutureWarning)\n"
     ]
    },
    {
     "name": "stdout",
     "output_type": "stream",
     "text": [
      "m 0\n",
      "d 1\n",
      "lr_mult\n"
     ]
    },
    {
     "name": "stderr",
     "output_type": "stream",
     "text": [
      "/Users/tedlinghu/opt/anaconda3/lib/python3.7/site-packages/sklearn/linear_model/logistic.py:432: FutureWarning: Default solver will be changed to 'lbfgs' in 0.22. Specify a solver to silence this warning.\n",
      "  FutureWarning)\n",
      "/Users/tedlinghu/opt/anaconda3/lib/python3.7/site-packages/sklearn/svm/base.py:929: ConvergenceWarning: Liblinear failed to converge, increase the number of iterations.\n",
      "  \"the number of iterations.\", ConvergenceWarning)\n",
      "/Users/tedlinghu/opt/anaconda3/lib/python3.7/site-packages/sklearn/linear_model/logistic.py:432: FutureWarning: Default solver will be changed to 'lbfgs' in 0.22. Specify a solver to silence this warning.\n",
      "  FutureWarning)\n",
      "/Users/tedlinghu/opt/anaconda3/lib/python3.7/site-packages/sklearn/linear_model/logistic.py:432: FutureWarning: Default solver will be changed to 'lbfgs' in 0.22. Specify a solver to silence this warning.\n",
      "  FutureWarning)\n",
      "/Users/tedlinghu/opt/anaconda3/lib/python3.7/site-packages/sklearn/linear_model/logistic.py:432: FutureWarning: Default solver will be changed to 'lbfgs' in 0.22. Specify a solver to silence this warning.\n",
      "  FutureWarning)\n",
      "/Users/tedlinghu/opt/anaconda3/lib/python3.7/site-packages/sklearn/linear_model/logistic.py:432: FutureWarning: Default solver will be changed to 'lbfgs' in 0.22. Specify a solver to silence this warning.\n",
      "  FutureWarning)\n",
      "/Users/tedlinghu/opt/anaconda3/lib/python3.7/site-packages/sklearn/svm/base.py:929: ConvergenceWarning: Liblinear failed to converge, increase the number of iterations.\n",
      "  \"the number of iterations.\", ConvergenceWarning)\n",
      "/Users/tedlinghu/opt/anaconda3/lib/python3.7/site-packages/sklearn/linear_model/logistic.py:432: FutureWarning: Default solver will be changed to 'lbfgs' in 0.22. Specify a solver to silence this warning.\n",
      "  FutureWarning)\n",
      "/Users/tedlinghu/opt/anaconda3/lib/python3.7/site-packages/sklearn/svm/base.py:929: ConvergenceWarning: Liblinear failed to converge, increase the number of iterations.\n",
      "  \"the number of iterations.\", ConvergenceWarning)\n",
      "/Users/tedlinghu/opt/anaconda3/lib/python3.7/site-packages/sklearn/linear_model/logistic.py:432: FutureWarning: Default solver will be changed to 'lbfgs' in 0.22. Specify a solver to silence this warning.\n",
      "  FutureWarning)\n",
      "/Users/tedlinghu/opt/anaconda3/lib/python3.7/site-packages/sklearn/linear_model/logistic.py:432: FutureWarning: Default solver will be changed to 'lbfgs' in 0.22. Specify a solver to silence this warning.\n",
      "  FutureWarning)\n",
      "/Users/tedlinghu/opt/anaconda3/lib/python3.7/site-packages/sklearn/linear_model/logistic.py:432: FutureWarning: Default solver will be changed to 'lbfgs' in 0.22. Specify a solver to silence this warning.\n",
      "  FutureWarning)\n",
      "/Users/tedlinghu/opt/anaconda3/lib/python3.7/site-packages/sklearn/linear_model/logistic.py:432: FutureWarning: Default solver will be changed to 'lbfgs' in 0.22. Specify a solver to silence this warning.\n",
      "  FutureWarning)\n",
      "/Users/tedlinghu/opt/anaconda3/lib/python3.7/site-packages/sklearn/svm/base.py:929: ConvergenceWarning: Liblinear failed to converge, increase the number of iterations.\n",
      "  \"the number of iterations.\", ConvergenceWarning)\n",
      "/Users/tedlinghu/opt/anaconda3/lib/python3.7/site-packages/sklearn/linear_model/logistic.py:432: FutureWarning: Default solver will be changed to 'lbfgs' in 0.22. Specify a solver to silence this warning.\n",
      "  FutureWarning)\n",
      "/Users/tedlinghu/opt/anaconda3/lib/python3.7/site-packages/sklearn/svm/base.py:929: ConvergenceWarning: Liblinear failed to converge, increase the number of iterations.\n",
      "  \"the number of iterations.\", ConvergenceWarning)\n",
      "/Users/tedlinghu/opt/anaconda3/lib/python3.7/site-packages/sklearn/linear_model/logistic.py:432: FutureWarning: Default solver will be changed to 'lbfgs' in 0.22. Specify a solver to silence this warning.\n",
      "  FutureWarning)\n",
      "/Users/tedlinghu/opt/anaconda3/lib/python3.7/site-packages/sklearn/linear_model/logistic.py:432: FutureWarning: Default solver will be changed to 'lbfgs' in 0.22. Specify a solver to silence this warning.\n",
      "  FutureWarning)\n",
      "/Users/tedlinghu/opt/anaconda3/lib/python3.7/site-packages/sklearn/linear_model/logistic.py:432: FutureWarning: Default solver will be changed to 'lbfgs' in 0.22. Specify a solver to silence this warning.\n",
      "  FutureWarning)\n",
      "/Users/tedlinghu/opt/anaconda3/lib/python3.7/site-packages/sklearn/linear_model/logistic.py:432: FutureWarning: Default solver will be changed to 'lbfgs' in 0.22. Specify a solver to silence this warning.\n",
      "  FutureWarning)\n",
      "/Users/tedlinghu/opt/anaconda3/lib/python3.7/site-packages/sklearn/svm/base.py:929: ConvergenceWarning: Liblinear failed to converge, increase the number of iterations.\n",
      "  \"the number of iterations.\", ConvergenceWarning)\n",
      "/Users/tedlinghu/opt/anaconda3/lib/python3.7/site-packages/sklearn/linear_model/logistic.py:432: FutureWarning: Default solver will be changed to 'lbfgs' in 0.22. Specify a solver to silence this warning.\n",
      "  FutureWarning)\n"
     ]
    },
    {
     "name": "stdout",
     "output_type": "stream",
     "text": [
      "m 0\n",
      "d 2\n",
      "lr_div\n"
     ]
    },
    {
     "name": "stderr",
     "output_type": "stream",
     "text": [
      "/Users/tedlinghu/opt/anaconda3/lib/python3.7/site-packages/sklearn/linear_model/logistic.py:432: FutureWarning: Default solver will be changed to 'lbfgs' in 0.22. Specify a solver to silence this warning.\n",
      "  FutureWarning)\n",
      "/Users/tedlinghu/opt/anaconda3/lib/python3.7/site-packages/sklearn/linear_model/logistic.py:432: FutureWarning: Default solver will be changed to 'lbfgs' in 0.22. Specify a solver to silence this warning.\n",
      "  FutureWarning)\n",
      "/Users/tedlinghu/opt/anaconda3/lib/python3.7/site-packages/sklearn/linear_model/logistic.py:432: FutureWarning: Default solver will be changed to 'lbfgs' in 0.22. Specify a solver to silence this warning.\n",
      "  FutureWarning)\n",
      "/Users/tedlinghu/opt/anaconda3/lib/python3.7/site-packages/sklearn/linear_model/logistic.py:432: FutureWarning: Default solver will be changed to 'lbfgs' in 0.22. Specify a solver to silence this warning.\n",
      "  FutureWarning)\n",
      "/Users/tedlinghu/opt/anaconda3/lib/python3.7/site-packages/sklearn/linear_model/logistic.py:432: FutureWarning: Default solver will be changed to 'lbfgs' in 0.22. Specify a solver to silence this warning.\n",
      "  FutureWarning)\n",
      "/Users/tedlinghu/opt/anaconda3/lib/python3.7/site-packages/sklearn/linear_model/logistic.py:432: FutureWarning: Default solver will be changed to 'lbfgs' in 0.22. Specify a solver to silence this warning.\n",
      "  FutureWarning)\n",
      "/Users/tedlinghu/opt/anaconda3/lib/python3.7/site-packages/sklearn/linear_model/logistic.py:432: FutureWarning: Default solver will be changed to 'lbfgs' in 0.22. Specify a solver to silence this warning.\n",
      "  FutureWarning)\n",
      "/Users/tedlinghu/opt/anaconda3/lib/python3.7/site-packages/sklearn/linear_model/logistic.py:432: FutureWarning: Default solver will be changed to 'lbfgs' in 0.22. Specify a solver to silence this warning.\n",
      "  FutureWarning)\n",
      "/Users/tedlinghu/opt/anaconda3/lib/python3.7/site-packages/sklearn/linear_model/logistic.py:432: FutureWarning: Default solver will be changed to 'lbfgs' in 0.22. Specify a solver to silence this warning.\n",
      "  FutureWarning)\n",
      "/Users/tedlinghu/opt/anaconda3/lib/python3.7/site-packages/sklearn/linear_model/logistic.py:432: FutureWarning: Default solver will be changed to 'lbfgs' in 0.22. Specify a solver to silence this warning.\n",
      "  FutureWarning)\n",
      "/Users/tedlinghu/opt/anaconda3/lib/python3.7/site-packages/sklearn/linear_model/logistic.py:432: FutureWarning: Default solver will be changed to 'lbfgs' in 0.22. Specify a solver to silence this warning.\n",
      "  FutureWarning)\n",
      "/Users/tedlinghu/opt/anaconda3/lib/python3.7/site-packages/sklearn/linear_model/logistic.py:432: FutureWarning: Default solver will be changed to 'lbfgs' in 0.22. Specify a solver to silence this warning.\n",
      "  FutureWarning)\n",
      "/Users/tedlinghu/opt/anaconda3/lib/python3.7/site-packages/sklearn/linear_model/logistic.py:432: FutureWarning: Default solver will be changed to 'lbfgs' in 0.22. Specify a solver to silence this warning.\n",
      "  FutureWarning)\n",
      "/Users/tedlinghu/opt/anaconda3/lib/python3.7/site-packages/sklearn/linear_model/logistic.py:432: FutureWarning: Default solver will be changed to 'lbfgs' in 0.22. Specify a solver to silence this warning.\n",
      "  FutureWarning)\n"
     ]
    },
    {
     "name": "stdout",
     "output_type": "stream",
     "text": [
      "m 1\n",
      "d 0\n",
      "lda_original\n"
     ]
    },
    {
     "name": "stderr",
     "output_type": "stream",
     "text": [
      "/Users/tedlinghu/opt/anaconda3/lib/python3.7/site-packages/sklearn/discriminant_analysis.py:388: UserWarning: Variables are collinear.\n",
      "  warnings.warn(\"Variables are collinear.\")\n",
      "/Users/tedlinghu/opt/anaconda3/lib/python3.7/site-packages/sklearn/discriminant_analysis.py:388: UserWarning: Variables are collinear.\n",
      "  warnings.warn(\"Variables are collinear.\")\n",
      "/Users/tedlinghu/opt/anaconda3/lib/python3.7/site-packages/sklearn/discriminant_analysis.py:388: UserWarning: Variables are collinear.\n",
      "  warnings.warn(\"Variables are collinear.\")\n",
      "/Users/tedlinghu/opt/anaconda3/lib/python3.7/site-packages/sklearn/discriminant_analysis.py:388: UserWarning: Variables are collinear.\n",
      "  warnings.warn(\"Variables are collinear.\")\n",
      "/Users/tedlinghu/opt/anaconda3/lib/python3.7/site-packages/sklearn/discriminant_analysis.py:388: UserWarning: Variables are collinear.\n",
      "  warnings.warn(\"Variables are collinear.\")\n",
      "/Users/tedlinghu/opt/anaconda3/lib/python3.7/site-packages/sklearn/discriminant_analysis.py:388: UserWarning: Variables are collinear.\n",
      "  warnings.warn(\"Variables are collinear.\")\n",
      "/Users/tedlinghu/opt/anaconda3/lib/python3.7/site-packages/sklearn/discriminant_analysis.py:388: UserWarning: Variables are collinear.\n",
      "  warnings.warn(\"Variables are collinear.\")\n",
      "/Users/tedlinghu/opt/anaconda3/lib/python3.7/site-packages/sklearn/discriminant_analysis.py:388: UserWarning: Variables are collinear.\n",
      "  warnings.warn(\"Variables are collinear.\")\n",
      "/Users/tedlinghu/opt/anaconda3/lib/python3.7/site-packages/sklearn/discriminant_analysis.py:388: UserWarning: Variables are collinear.\n",
      "  warnings.warn(\"Variables are collinear.\")\n",
      "/Users/tedlinghu/opt/anaconda3/lib/python3.7/site-packages/sklearn/discriminant_analysis.py:388: UserWarning: Variables are collinear.\n",
      "  warnings.warn(\"Variables are collinear.\")\n",
      "/Users/tedlinghu/opt/anaconda3/lib/python3.7/site-packages/sklearn/discriminant_analysis.py:388: UserWarning: Variables are collinear.\n",
      "  warnings.warn(\"Variables are collinear.\")\n",
      "/Users/tedlinghu/opt/anaconda3/lib/python3.7/site-packages/sklearn/discriminant_analysis.py:388: UserWarning: Variables are collinear.\n",
      "  warnings.warn(\"Variables are collinear.\")\n",
      "/Users/tedlinghu/opt/anaconda3/lib/python3.7/site-packages/sklearn/discriminant_analysis.py:388: UserWarning: Variables are collinear.\n",
      "  warnings.warn(\"Variables are collinear.\")\n",
      "/Users/tedlinghu/opt/anaconda3/lib/python3.7/site-packages/sklearn/discriminant_analysis.py:388: UserWarning: Variables are collinear.\n",
      "  warnings.warn(\"Variables are collinear.\")\n",
      "/Users/tedlinghu/opt/anaconda3/lib/python3.7/site-packages/sklearn/discriminant_analysis.py:388: UserWarning: Variables are collinear.\n",
      "  warnings.warn(\"Variables are collinear.\")\n"
     ]
    },
    {
     "name": "stdout",
     "output_type": "stream",
     "text": [
      "m 1\n",
      "d 1\n",
      "lda_mult\n"
     ]
    },
    {
     "name": "stderr",
     "output_type": "stream",
     "text": [
      "/Users/tedlinghu/opt/anaconda3/lib/python3.7/site-packages/sklearn/discriminant_analysis.py:388: UserWarning: Variables are collinear.\n",
      "  warnings.warn(\"Variables are collinear.\")\n",
      "/Users/tedlinghu/opt/anaconda3/lib/python3.7/site-packages/sklearn/discriminant_analysis.py:388: UserWarning: Variables are collinear.\n",
      "  warnings.warn(\"Variables are collinear.\")\n",
      "/Users/tedlinghu/opt/anaconda3/lib/python3.7/site-packages/sklearn/discriminant_analysis.py:388: UserWarning: Variables are collinear.\n",
      "  warnings.warn(\"Variables are collinear.\")\n",
      "/Users/tedlinghu/opt/anaconda3/lib/python3.7/site-packages/sklearn/discriminant_analysis.py:388: UserWarning: Variables are collinear.\n",
      "  warnings.warn(\"Variables are collinear.\")\n",
      "/Users/tedlinghu/opt/anaconda3/lib/python3.7/site-packages/sklearn/discriminant_analysis.py:388: UserWarning: Variables are collinear.\n",
      "  warnings.warn(\"Variables are collinear.\")\n",
      "/Users/tedlinghu/opt/anaconda3/lib/python3.7/site-packages/sklearn/discriminant_analysis.py:388: UserWarning: Variables are collinear.\n",
      "  warnings.warn(\"Variables are collinear.\")\n",
      "/Users/tedlinghu/opt/anaconda3/lib/python3.7/site-packages/sklearn/discriminant_analysis.py:388: UserWarning: Variables are collinear.\n",
      "  warnings.warn(\"Variables are collinear.\")\n",
      "/Users/tedlinghu/opt/anaconda3/lib/python3.7/site-packages/sklearn/discriminant_analysis.py:388: UserWarning: Variables are collinear.\n",
      "  warnings.warn(\"Variables are collinear.\")\n",
      "/Users/tedlinghu/opt/anaconda3/lib/python3.7/site-packages/sklearn/discriminant_analysis.py:388: UserWarning: Variables are collinear.\n",
      "  warnings.warn(\"Variables are collinear.\")\n",
      "/Users/tedlinghu/opt/anaconda3/lib/python3.7/site-packages/sklearn/discriminant_analysis.py:388: UserWarning: Variables are collinear.\n",
      "  warnings.warn(\"Variables are collinear.\")\n",
      "/Users/tedlinghu/opt/anaconda3/lib/python3.7/site-packages/sklearn/discriminant_analysis.py:388: UserWarning: Variables are collinear.\n",
      "  warnings.warn(\"Variables are collinear.\")\n",
      "/Users/tedlinghu/opt/anaconda3/lib/python3.7/site-packages/sklearn/discriminant_analysis.py:388: UserWarning: Variables are collinear.\n",
      "  warnings.warn(\"Variables are collinear.\")\n",
      "/Users/tedlinghu/opt/anaconda3/lib/python3.7/site-packages/sklearn/discriminant_analysis.py:388: UserWarning: Variables are collinear.\n",
      "  warnings.warn(\"Variables are collinear.\")\n",
      "/Users/tedlinghu/opt/anaconda3/lib/python3.7/site-packages/sklearn/discriminant_analysis.py:388: UserWarning: Variables are collinear.\n",
      "  warnings.warn(\"Variables are collinear.\")\n",
      "/Users/tedlinghu/opt/anaconda3/lib/python3.7/site-packages/sklearn/discriminant_analysis.py:388: UserWarning: Variables are collinear.\n",
      "  warnings.warn(\"Variables are collinear.\")\n"
     ]
    },
    {
     "name": "stdout",
     "output_type": "stream",
     "text": [
      "m 1\n",
      "d 2\n",
      "lda_div\n"
     ]
    },
    {
     "name": "stderr",
     "output_type": "stream",
     "text": [
      "/Users/tedlinghu/opt/anaconda3/lib/python3.7/site-packages/sklearn/discriminant_analysis.py:388: UserWarning: Variables are collinear.\n",
      "  warnings.warn(\"Variables are collinear.\")\n",
      "/Users/tedlinghu/opt/anaconda3/lib/python3.7/site-packages/sklearn/discriminant_analysis.py:388: UserWarning: Variables are collinear.\n",
      "  warnings.warn(\"Variables are collinear.\")\n",
      "/Users/tedlinghu/opt/anaconda3/lib/python3.7/site-packages/sklearn/discriminant_analysis.py:388: UserWarning: Variables are collinear.\n",
      "  warnings.warn(\"Variables are collinear.\")\n",
      "/Users/tedlinghu/opt/anaconda3/lib/python3.7/site-packages/sklearn/discriminant_analysis.py:388: UserWarning: Variables are collinear.\n",
      "  warnings.warn(\"Variables are collinear.\")\n",
      "/Users/tedlinghu/opt/anaconda3/lib/python3.7/site-packages/sklearn/discriminant_analysis.py:388: UserWarning: Variables are collinear.\n",
      "  warnings.warn(\"Variables are collinear.\")\n",
      "/Users/tedlinghu/opt/anaconda3/lib/python3.7/site-packages/sklearn/discriminant_analysis.py:388: UserWarning: Variables are collinear.\n",
      "  warnings.warn(\"Variables are collinear.\")\n",
      "/Users/tedlinghu/opt/anaconda3/lib/python3.7/site-packages/sklearn/discriminant_analysis.py:388: UserWarning: Variables are collinear.\n",
      "  warnings.warn(\"Variables are collinear.\")\n",
      "/Users/tedlinghu/opt/anaconda3/lib/python3.7/site-packages/sklearn/discriminant_analysis.py:388: UserWarning: Variables are collinear.\n",
      "  warnings.warn(\"Variables are collinear.\")\n",
      "/Users/tedlinghu/opt/anaconda3/lib/python3.7/site-packages/sklearn/discriminant_analysis.py:388: UserWarning: Variables are collinear.\n",
      "  warnings.warn(\"Variables are collinear.\")\n",
      "/Users/tedlinghu/opt/anaconda3/lib/python3.7/site-packages/sklearn/discriminant_analysis.py:388: UserWarning: Variables are collinear.\n",
      "  warnings.warn(\"Variables are collinear.\")\n",
      "/Users/tedlinghu/opt/anaconda3/lib/python3.7/site-packages/sklearn/discriminant_analysis.py:388: UserWarning: Variables are collinear.\n",
      "  warnings.warn(\"Variables are collinear.\")\n",
      "/Users/tedlinghu/opt/anaconda3/lib/python3.7/site-packages/sklearn/discriminant_analysis.py:388: UserWarning: Variables are collinear.\n",
      "  warnings.warn(\"Variables are collinear.\")\n",
      "/Users/tedlinghu/opt/anaconda3/lib/python3.7/site-packages/sklearn/discriminant_analysis.py:388: UserWarning: Variables are collinear.\n",
      "  warnings.warn(\"Variables are collinear.\")\n",
      "/Users/tedlinghu/opt/anaconda3/lib/python3.7/site-packages/sklearn/discriminant_analysis.py:388: UserWarning: Variables are collinear.\n",
      "  warnings.warn(\"Variables are collinear.\")\n",
      "/Users/tedlinghu/opt/anaconda3/lib/python3.7/site-packages/sklearn/discriminant_analysis.py:388: UserWarning: Variables are collinear.\n",
      "  warnings.warn(\"Variables are collinear.\")\n"
     ]
    },
    {
     "name": "stdout",
     "output_type": "stream",
     "text": [
      "m 2\n",
      "d 0\n",
      "knn_original\n",
      "m 2\n",
      "d 1\n",
      "knn_mult\n",
      "m 2\n",
      "d 2\n",
      "knn_div\n",
      "m 3\n",
      "d 0\n",
      "nb_original\n",
      "m 3\n",
      "d 1\n",
      "nb_mult\n",
      "m 3\n",
      "d 2\n",
      "nb_div\n",
      "m 4\n",
      "d 0\n",
      "svm_original\n"
     ]
    },
    {
     "name": "stderr",
     "output_type": "stream",
     "text": [
      "/Users/tedlinghu/opt/anaconda3/lib/python3.7/site-packages/sklearn/svm/base.py:193: FutureWarning: The default value of gamma will change from 'auto' to 'scale' in version 0.22 to account better for unscaled features. Set gamma explicitly to 'auto' or 'scale' to avoid this warning.\n",
      "  \"avoid this warning.\", FutureWarning)\n",
      "/Users/tedlinghu/opt/anaconda3/lib/python3.7/site-packages/sklearn/svm/base.py:193: FutureWarning: The default value of gamma will change from 'auto' to 'scale' in version 0.22 to account better for unscaled features. Set gamma explicitly to 'auto' or 'scale' to avoid this warning.\n",
      "  \"avoid this warning.\", FutureWarning)\n",
      "/Users/tedlinghu/opt/anaconda3/lib/python3.7/site-packages/sklearn/svm/base.py:193: FutureWarning: The default value of gamma will change from 'auto' to 'scale' in version 0.22 to account better for unscaled features. Set gamma explicitly to 'auto' or 'scale' to avoid this warning.\n",
      "  \"avoid this warning.\", FutureWarning)\n",
      "/Users/tedlinghu/opt/anaconda3/lib/python3.7/site-packages/sklearn/svm/base.py:193: FutureWarning: The default value of gamma will change from 'auto' to 'scale' in version 0.22 to account better for unscaled features. Set gamma explicitly to 'auto' or 'scale' to avoid this warning.\n",
      "  \"avoid this warning.\", FutureWarning)\n",
      "/Users/tedlinghu/opt/anaconda3/lib/python3.7/site-packages/sklearn/svm/base.py:193: FutureWarning: The default value of gamma will change from 'auto' to 'scale' in version 0.22 to account better for unscaled features. Set gamma explicitly to 'auto' or 'scale' to avoid this warning.\n",
      "  \"avoid this warning.\", FutureWarning)\n",
      "/Users/tedlinghu/opt/anaconda3/lib/python3.7/site-packages/sklearn/svm/base.py:193: FutureWarning: The default value of gamma will change from 'auto' to 'scale' in version 0.22 to account better for unscaled features. Set gamma explicitly to 'auto' or 'scale' to avoid this warning.\n",
      "  \"avoid this warning.\", FutureWarning)\n",
      "/Users/tedlinghu/opt/anaconda3/lib/python3.7/site-packages/sklearn/svm/base.py:193: FutureWarning: The default value of gamma will change from 'auto' to 'scale' in version 0.22 to account better for unscaled features. Set gamma explicitly to 'auto' or 'scale' to avoid this warning.\n",
      "  \"avoid this warning.\", FutureWarning)\n",
      "/Users/tedlinghu/opt/anaconda3/lib/python3.7/site-packages/sklearn/svm/base.py:193: FutureWarning: The default value of gamma will change from 'auto' to 'scale' in version 0.22 to account better for unscaled features. Set gamma explicitly to 'auto' or 'scale' to avoid this warning.\n",
      "  \"avoid this warning.\", FutureWarning)\n",
      "/Users/tedlinghu/opt/anaconda3/lib/python3.7/site-packages/sklearn/svm/base.py:193: FutureWarning: The default value of gamma will change from 'auto' to 'scale' in version 0.22 to account better for unscaled features. Set gamma explicitly to 'auto' or 'scale' to avoid this warning.\n",
      "  \"avoid this warning.\", FutureWarning)\n",
      "/Users/tedlinghu/opt/anaconda3/lib/python3.7/site-packages/sklearn/svm/base.py:193: FutureWarning: The default value of gamma will change from 'auto' to 'scale' in version 0.22 to account better for unscaled features. Set gamma explicitly to 'auto' or 'scale' to avoid this warning.\n",
      "  \"avoid this warning.\", FutureWarning)\n",
      "/Users/tedlinghu/opt/anaconda3/lib/python3.7/site-packages/sklearn/svm/base.py:193: FutureWarning: The default value of gamma will change from 'auto' to 'scale' in version 0.22 to account better for unscaled features. Set gamma explicitly to 'auto' or 'scale' to avoid this warning.\n",
      "  \"avoid this warning.\", FutureWarning)\n",
      "/Users/tedlinghu/opt/anaconda3/lib/python3.7/site-packages/sklearn/svm/base.py:193: FutureWarning: The default value of gamma will change from 'auto' to 'scale' in version 0.22 to account better for unscaled features. Set gamma explicitly to 'auto' or 'scale' to avoid this warning.\n",
      "  \"avoid this warning.\", FutureWarning)\n",
      "/Users/tedlinghu/opt/anaconda3/lib/python3.7/site-packages/sklearn/svm/base.py:193: FutureWarning: The default value of gamma will change from 'auto' to 'scale' in version 0.22 to account better for unscaled features. Set gamma explicitly to 'auto' or 'scale' to avoid this warning.\n",
      "  \"avoid this warning.\", FutureWarning)\n",
      "/Users/tedlinghu/opt/anaconda3/lib/python3.7/site-packages/sklearn/svm/base.py:193: FutureWarning: The default value of gamma will change from 'auto' to 'scale' in version 0.22 to account better for unscaled features. Set gamma explicitly to 'auto' or 'scale' to avoid this warning.\n",
      "  \"avoid this warning.\", FutureWarning)\n",
      "/Users/tedlinghu/opt/anaconda3/lib/python3.7/site-packages/sklearn/svm/base.py:193: FutureWarning: The default value of gamma will change from 'auto' to 'scale' in version 0.22 to account better for unscaled features. Set gamma explicitly to 'auto' or 'scale' to avoid this warning.\n",
      "  \"avoid this warning.\", FutureWarning)\n"
     ]
    },
    {
     "name": "stdout",
     "output_type": "stream",
     "text": [
      "m 4\n",
      "d 1\n",
      "svm_mult\n"
     ]
    },
    {
     "name": "stderr",
     "output_type": "stream",
     "text": [
      "/Users/tedlinghu/opt/anaconda3/lib/python3.7/site-packages/sklearn/svm/base.py:193: FutureWarning: The default value of gamma will change from 'auto' to 'scale' in version 0.22 to account better for unscaled features. Set gamma explicitly to 'auto' or 'scale' to avoid this warning.\n",
      "  \"avoid this warning.\", FutureWarning)\n",
      "/Users/tedlinghu/opt/anaconda3/lib/python3.7/site-packages/sklearn/svm/base.py:193: FutureWarning: The default value of gamma will change from 'auto' to 'scale' in version 0.22 to account better for unscaled features. Set gamma explicitly to 'auto' or 'scale' to avoid this warning.\n",
      "  \"avoid this warning.\", FutureWarning)\n",
      "/Users/tedlinghu/opt/anaconda3/lib/python3.7/site-packages/sklearn/svm/base.py:193: FutureWarning: The default value of gamma will change from 'auto' to 'scale' in version 0.22 to account better for unscaled features. Set gamma explicitly to 'auto' or 'scale' to avoid this warning.\n",
      "  \"avoid this warning.\", FutureWarning)\n",
      "/Users/tedlinghu/opt/anaconda3/lib/python3.7/site-packages/sklearn/svm/base.py:193: FutureWarning: The default value of gamma will change from 'auto' to 'scale' in version 0.22 to account better for unscaled features. Set gamma explicitly to 'auto' or 'scale' to avoid this warning.\n",
      "  \"avoid this warning.\", FutureWarning)\n",
      "/Users/tedlinghu/opt/anaconda3/lib/python3.7/site-packages/sklearn/svm/base.py:193: FutureWarning: The default value of gamma will change from 'auto' to 'scale' in version 0.22 to account better for unscaled features. Set gamma explicitly to 'auto' or 'scale' to avoid this warning.\n",
      "  \"avoid this warning.\", FutureWarning)\n",
      "/Users/tedlinghu/opt/anaconda3/lib/python3.7/site-packages/sklearn/svm/base.py:193: FutureWarning: The default value of gamma will change from 'auto' to 'scale' in version 0.22 to account better for unscaled features. Set gamma explicitly to 'auto' or 'scale' to avoid this warning.\n",
      "  \"avoid this warning.\", FutureWarning)\n",
      "/Users/tedlinghu/opt/anaconda3/lib/python3.7/site-packages/sklearn/svm/base.py:193: FutureWarning: The default value of gamma will change from 'auto' to 'scale' in version 0.22 to account better for unscaled features. Set gamma explicitly to 'auto' or 'scale' to avoid this warning.\n",
      "  \"avoid this warning.\", FutureWarning)\n",
      "/Users/tedlinghu/opt/anaconda3/lib/python3.7/site-packages/sklearn/svm/base.py:193: FutureWarning: The default value of gamma will change from 'auto' to 'scale' in version 0.22 to account better for unscaled features. Set gamma explicitly to 'auto' or 'scale' to avoid this warning.\n",
      "  \"avoid this warning.\", FutureWarning)\n",
      "/Users/tedlinghu/opt/anaconda3/lib/python3.7/site-packages/sklearn/svm/base.py:193: FutureWarning: The default value of gamma will change from 'auto' to 'scale' in version 0.22 to account better for unscaled features. Set gamma explicitly to 'auto' or 'scale' to avoid this warning.\n",
      "  \"avoid this warning.\", FutureWarning)\n",
      "/Users/tedlinghu/opt/anaconda3/lib/python3.7/site-packages/sklearn/svm/base.py:193: FutureWarning: The default value of gamma will change from 'auto' to 'scale' in version 0.22 to account better for unscaled features. Set gamma explicitly to 'auto' or 'scale' to avoid this warning.\n",
      "  \"avoid this warning.\", FutureWarning)\n",
      "/Users/tedlinghu/opt/anaconda3/lib/python3.7/site-packages/sklearn/svm/base.py:193: FutureWarning: The default value of gamma will change from 'auto' to 'scale' in version 0.22 to account better for unscaled features. Set gamma explicitly to 'auto' or 'scale' to avoid this warning.\n",
      "  \"avoid this warning.\", FutureWarning)\n",
      "/Users/tedlinghu/opt/anaconda3/lib/python3.7/site-packages/sklearn/svm/base.py:193: FutureWarning: The default value of gamma will change from 'auto' to 'scale' in version 0.22 to account better for unscaled features. Set gamma explicitly to 'auto' or 'scale' to avoid this warning.\n",
      "  \"avoid this warning.\", FutureWarning)\n",
      "/Users/tedlinghu/opt/anaconda3/lib/python3.7/site-packages/sklearn/svm/base.py:193: FutureWarning: The default value of gamma will change from 'auto' to 'scale' in version 0.22 to account better for unscaled features. Set gamma explicitly to 'auto' or 'scale' to avoid this warning.\n",
      "  \"avoid this warning.\", FutureWarning)\n",
      "/Users/tedlinghu/opt/anaconda3/lib/python3.7/site-packages/sklearn/svm/base.py:193: FutureWarning: The default value of gamma will change from 'auto' to 'scale' in version 0.22 to account better for unscaled features. Set gamma explicitly to 'auto' or 'scale' to avoid this warning.\n",
      "  \"avoid this warning.\", FutureWarning)\n",
      "/Users/tedlinghu/opt/anaconda3/lib/python3.7/site-packages/sklearn/svm/base.py:193: FutureWarning: The default value of gamma will change from 'auto' to 'scale' in version 0.22 to account better for unscaled features. Set gamma explicitly to 'auto' or 'scale' to avoid this warning.\n",
      "  \"avoid this warning.\", FutureWarning)\n"
     ]
    },
    {
     "name": "stdout",
     "output_type": "stream",
     "text": [
      "m 4\n",
      "d 2\n",
      "svm_div\n"
     ]
    },
    {
     "name": "stderr",
     "output_type": "stream",
     "text": [
      "/Users/tedlinghu/opt/anaconda3/lib/python3.7/site-packages/sklearn/svm/base.py:193: FutureWarning: The default value of gamma will change from 'auto' to 'scale' in version 0.22 to account better for unscaled features. Set gamma explicitly to 'auto' or 'scale' to avoid this warning.\n",
      "  \"avoid this warning.\", FutureWarning)\n",
      "/Users/tedlinghu/opt/anaconda3/lib/python3.7/site-packages/sklearn/svm/base.py:193: FutureWarning: The default value of gamma will change from 'auto' to 'scale' in version 0.22 to account better for unscaled features. Set gamma explicitly to 'auto' or 'scale' to avoid this warning.\n",
      "  \"avoid this warning.\", FutureWarning)\n",
      "/Users/tedlinghu/opt/anaconda3/lib/python3.7/site-packages/sklearn/svm/base.py:193: FutureWarning: The default value of gamma will change from 'auto' to 'scale' in version 0.22 to account better for unscaled features. Set gamma explicitly to 'auto' or 'scale' to avoid this warning.\n",
      "  \"avoid this warning.\", FutureWarning)\n"
     ]
    }
   ],
   "source": [
    "sk_models = [lr, lda, knn, nb, svm, rf]\n",
    "sk_model_names = [\"lr\", \"lda\", \"knn\", \"nb\", \"svm\", \"rf\"]\n",
    "data = [training_upsampled, train_mult, train_div]\n",
    "data_names = [\"original\", \"mult\", \"div\"]\n",
    "\n",
    "acc_dict = dict()\n",
    "roc_dict = dict()\n",
    "f1_dict = dict()\n",
    "\n",
    "for m in range(len(sk_models)):\n",
    "    for d in range(len(data)):\n",
    "        print(\"m\", m)\n",
    "        print(\"d\", d)\n",
    "        name = sk_model_names[m] +\"_\"+ data_names[d]\n",
    "        print(name)\n",
    "        acc = cross_val_score(sk_models[m], data[d], training_label, scoring = 'accuracy', cv = 5)\n",
    "        roc = cross_val_score(sk_models[m], data[d], training_label, scoring = 'roc_auc', cv = 5)\n",
    "        f1_cv = cross_val_score(sk_models[m], data[d], training_label, scoring = 'f1', cv = 5)\n",
    "        acc_dict[name] = acc\n",
    "        roc_dict[name] = roc\n",
    "        f1_dict[name] = f1_cv"
   ]
  },
  {
   "cell_type": "code",
   "execution_count": null,
   "metadata": {},
   "outputs": [],
   "source": []
  },
  {
   "cell_type": "code",
   "execution_count": null,
   "metadata": {},
   "outputs": [],
   "source": []
  },
  {
   "cell_type": "code",
   "execution_count": null,
   "metadata": {},
   "outputs": [],
   "source": []
  },
  {
   "cell_type": "code",
   "execution_count": null,
   "metadata": {},
   "outputs": [],
   "source": []
  },
  {
   "cell_type": "code",
   "execution_count": null,
   "metadata": {},
   "outputs": [],
   "source": []
  },
  {
   "cell_type": "code",
   "execution_count": null,
   "metadata": {},
   "outputs": [],
   "source": []
  },
  {
   "cell_type": "code",
   "execution_count": null,
   "metadata": {},
   "outputs": [],
   "source": []
  },
  {
   "cell_type": "code",
   "execution_count": null,
   "metadata": {},
   "outputs": [],
   "source": []
  },
  {
   "cell_type": "code",
   "execution_count": null,
   "metadata": {},
   "outputs": [],
   "source": []
  }
 ],
 "metadata": {
  "kernelspec": {
   "display_name": "Python 3",
   "language": "python",
   "name": "python3"
  },
  "language_info": {
   "codemirror_mode": {
    "name": "ipython",
    "version": 3
   },
   "file_extension": ".py",
   "mimetype": "text/x-python",
   "name": "python",
   "nbconvert_exporter": "python",
   "pygments_lexer": "ipython3",
   "version": "3.7.4"
  }
 },
 "nbformat": 4,
 "nbformat_minor": 2
}
