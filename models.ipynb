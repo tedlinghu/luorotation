{
 "cells": [
  {
   "cell_type": "code",
   "execution_count": 1,
   "metadata": {},
   "outputs": [],
   "source": [
    "import query\n",
    "import pandas as pd \n",
    "import numpy as np\n",
    "import sql_db\n",
    "import seaborn as sn\n",
    "import sys\n",
    "import operator\n",
    "import matplotlib.pyplot as plt\n",
    "from sklearn.preprocessing import OneHotEncoder\n",
    "\n",
    "patient = pd.read_csv(\"/Users/tedlinghu/Downloads/patient.csv\")\n",
    "hospital = pd.read_csv(\"/Users/tedlinghu/Downloads/hospital.csv\")\n",
    "apache_vars = pd.read_csv(\"/Users/tedlinghu/Downloads/apacheApsVar.csv\")\n",
    "cpc = pd.read_csv(\"/Users/tedlinghu/Downloads/carePlanCareProvider.csv\")\n",
    "apache_patient_result = pd.read_csv(\"/Users/tedlinghu/Downloads/apachePatientResult.csv\")\n",
    "treatment = pd.read_csv(\"/Users/tedlinghu/Downloads/treatment.csv\")"
   ]
  },
  {
   "cell_type": "code",
   "execution_count": 4,
   "metadata": {},
   "outputs": [],
   "source": [
    "south_patient = pd.read_csv(\"/Users/tedlinghu/Desktop/Luo_Rotation/luorotation/south_patient.csv\")\n",
    "west_patient = pd.read_csv(\"/Users/tedlinghu/Desktop/Luo_Rotation/luorotation/west_patient.csv\")\n",
    "midwest_patient = pd.read_csv(\"/Users/tedlinghu/Desktop/Luo_Rotation/luorotation/midwest_patient.csv\")\n",
    "northeast_patient = pd.read_csv(\"/Users/tedlinghu/Desktop/Luo_Rotation/luorotation/northeast_patient.csv\")"
   ]
  },
  {
   "cell_type": "code",
   "execution_count": 5,
   "metadata": {},
   "outputs": [],
   "source": [
    "south_patient_apache = apache_patient_result[apache_patient_result.patientunitstayid.isin(south_patient.patientunitstayid)]\n",
    "west_patient_apache = apache_patient_result[apache_patient_result.patientunitstayid.isin(west_patient.patientunitstayid)]\n",
    "\n",
    "northeast_patient_apache = apache_patient_result[apache_patient_result.patientunitstayid.isin(northeast_patient.patientunitstayid)]\n",
    "midwest_patient_apache = apache_patient_result[apache_patient_result.patientunitstayid.isin(midwest_patient.patientunitstayid)]\n",
    "\n",
    "\n"
   ]
  },
  {
   "cell_type": "code",
   "execution_count": null,
   "metadata": {},
   "outputs": [],
   "source": []
  },
  {
   "cell_type": "code",
   "execution_count": 65,
   "metadata": {
    "scrolled": true
   },
   "outputs": [],
   "source": [
    "apache_cols = [\"patientunitstayid\",\"respiratoryrate\", \"sodium\", \"heartrate\", \"meanbp\" , \"hematocrit\"]\n",
    "patient_cols = [\"patientunitstayid\", \"gender\", \"age\", \"ethnicity\", \"admissionweight\" ,\"admissionheight\"]\n",
    "\n",
    "\n",
    "final_south = south_patient[patient_cols]\n",
    "tmp = apache_vars[apache_vars['patientunitstayid'].isin(final_south['patientunitstayid'])][apache_cols]\n"
   ]
  },
  {
   "cell_type": "code",
   "execution_count": 66,
   "metadata": {},
   "outputs": [
    {
     "data": {
      "text/plain": [
       "(56665, 6)"
      ]
     },
     "execution_count": 66,
     "metadata": {},
     "output_type": "execute_result"
    }
   ],
   "source": [
    "final_south.shape"
   ]
  },
  {
   "cell_type": "code",
   "execution_count": 67,
   "metadata": {},
   "outputs": [
    {
     "data": {
      "text/plain": [
       "(50945, 6)"
      ]
     },
     "execution_count": 67,
     "metadata": {},
     "output_type": "execute_result"
    }
   ],
   "source": [
    "tmp.shape"
   ]
  },
  {
   "cell_type": "code",
   "execution_count": 68,
   "metadata": {},
   "outputs": [],
   "source": [
    "tmp = tmp.reindex()"
   ]
  },
  {
   "cell_type": "code",
   "execution_count": 69,
   "metadata": {},
   "outputs": [],
   "source": [
    "tmp1 = final_south[final_south['patientunitstayid'].isin(tmp['patientunitstayid'])]"
   ]
  },
  {
   "cell_type": "code",
   "execution_count": 70,
   "metadata": {},
   "outputs": [
    {
     "data": {
      "text/plain": [
       "(50945, 6)"
      ]
     },
     "execution_count": 70,
     "metadata": {},
     "output_type": "execute_result"
    }
   ],
   "source": [
    "tmp1.shape"
   ]
  },
  {
   "cell_type": "code",
   "execution_count": 71,
   "metadata": {},
   "outputs": [],
   "source": [
    "tmp1 = tmp1.reindex()"
   ]
  },
  {
   "cell_type": "code",
   "execution_count": 72,
   "metadata": {},
   "outputs": [
    {
     "data": {
      "text/plain": [
       "14559      309640\n",
       "14560      309646\n",
       "14561      309754\n",
       "14562      309852\n",
       "14563      309873\n",
       "           ...   \n",
       "171172    3353235\n",
       "171173    3353237\n",
       "171174    3353251\n",
       "171175    3353254\n",
       "171176    3353263\n",
       "Name: patientunitstayid, Length: 50945, dtype: int64"
      ]
     },
     "execution_count": 72,
     "metadata": {},
     "output_type": "execute_result"
    }
   ],
   "source": [
    "tmp['patientunitstayid']"
   ]
  },
  {
   "cell_type": "code",
   "execution_count": 73,
   "metadata": {},
   "outputs": [
    {
     "data": {
      "text/plain": [
       "1         309640\n",
       "2         309646\n",
       "3         309754\n",
       "4         309852\n",
       "5         309873\n",
       "          ...   \n",
       "56660    3353235\n",
       "56661    3353237\n",
       "56662    3353251\n",
       "56663    3353254\n",
       "56664    3353263\n",
       "Name: patientunitstayid, Length: 50945, dtype: int64"
      ]
     },
     "execution_count": 73,
     "metadata": {},
     "output_type": "execute_result"
    }
   ],
   "source": [
    "tmp1['patientunitstayid']"
   ]
  },
  {
   "cell_type": "code",
   "execution_count": 74,
   "metadata": {},
   "outputs": [],
   "source": [
    "final = pd.merge(tmp, tmp1, on = 'patientunitstayid')"
   ]
  },
  {
   "cell_type": "code",
   "execution_count": 75,
   "metadata": {},
   "outputs": [
    {
     "data": {
      "text/plain": [
       "(50945, 11)"
      ]
     },
     "execution_count": 75,
     "metadata": {},
     "output_type": "execute_result"
    }
   ],
   "source": [
    "final.shape"
   ]
  },
  {
   "cell_type": "code",
   "execution_count": 76,
   "metadata": {
    "scrolled": true
   },
   "outputs": [
    {
     "data": {
      "text/plain": [
       "Index(['patientunitstayid', 'respiratoryrate', 'sodium', 'heartrate', 'meanbp',\n",
       "       'hematocrit', 'gender', 'age', 'ethnicity', 'admissionweight',\n",
       "       'admissionheight'],\n",
       "      dtype='object')"
      ]
     },
     "execution_count": 76,
     "metadata": {},
     "output_type": "execute_result"
    }
   ],
   "source": [
    "final.columns"
   ]
  },
  {
   "cell_type": "code",
   "execution_count": 77,
   "metadata": {},
   "outputs": [
    {
     "data": {
      "text/plain": [
       "patientunitstayid       0\n",
       "respiratoryrate         0\n",
       "sodium                  0\n",
       "heartrate               0\n",
       "meanbp                  0\n",
       "hematocrit              0\n",
       "gender                 27\n",
       "age                    25\n",
       "ethnicity            1213\n",
       "admissionweight      1752\n",
       "admissionheight      1156\n",
       "dtype: int64"
      ]
     },
     "execution_count": 77,
     "metadata": {},
     "output_type": "execute_result"
    }
   ],
   "source": [
    "final.isnull().sum()"
   ]
  },
  {
   "cell_type": "code",
   "execution_count": 78,
   "metadata": {},
   "outputs": [],
   "source": [
    "final = final.dropna()"
   ]
  },
  {
   "cell_type": "code",
   "execution_count": 79,
   "metadata": {},
   "outputs": [
    {
     "data": {
      "text/plain": [
       "patientunitstayid    0\n",
       "respiratoryrate      0\n",
       "sodium               0\n",
       "heartrate            0\n",
       "meanbp               0\n",
       "hematocrit           0\n",
       "gender               0\n",
       "age                  0\n",
       "ethnicity            0\n",
       "admissionweight      0\n",
       "admissionheight      0\n",
       "dtype: int64"
      ]
     },
     "execution_count": 79,
     "metadata": {},
     "output_type": "execute_result"
    }
   ],
   "source": [
    "final.isnull().sum()"
   ]
  },
  {
   "cell_type": "code",
   "execution_count": 80,
   "metadata": {},
   "outputs": [
    {
     "data": {
      "text/plain": [
       "(47762, 11)"
      ]
     },
     "execution_count": 80,
     "metadata": {},
     "output_type": "execute_result"
    }
   ],
   "source": [
    "final.shape"
   ]
  },
  {
   "cell_type": "code",
   "execution_count": 82,
   "metadata": {},
   "outputs": [
    {
     "name": "stdout",
     "output_type": "stream",
     "text": [
      "<class 'pandas.core.frame.DataFrame'>\n",
      "Int64Index: 47762 entries, 0 to 50944\n",
      "Data columns (total 11 columns):\n",
      "patientunitstayid    47762 non-null int64\n",
      "respiratoryrate      47762 non-null float64\n",
      "sodium               47762 non-null float64\n",
      "heartrate            47762 non-null int64\n",
      "meanbp               47762 non-null float64\n",
      "hematocrit           47762 non-null float64\n",
      "gender               47762 non-null object\n",
      "age                  47762 non-null object\n",
      "ethnicity            47762 non-null object\n",
      "admissionweight      47762 non-null float64\n",
      "admissionheight      47762 non-null float64\n",
      "dtypes: float64(6), int64(2), object(3)\n",
      "memory usage: 4.4+ MB\n"
     ]
    }
   ],
   "source": [
    "final.info()"
   ]
  },
  {
   "cell_type": "code",
   "execution_count": 86,
   "metadata": {},
   "outputs": [
    {
     "data": {
      "text/plain": [
       "array(['54', '74', '62', '55', '59', '76', '70', '> 89', '43', '41', '85',\n",
       "       '50', '67', '84', '86', '75', '72', '49', '53', '61', '32', '58',\n",
       "       '57', '60', '56', '71', '88', '66', '65', '80', '52', '81', '31',\n",
       "       '40', '51', '47', '83', '29', '73', '63', '42', '27', '16', '64',\n",
       "       '78', '82', '69', '48', '77', '87', '68', '89', '35', '38', '33',\n",
       "       '79', '45', '46', '25', '36', '44', '22', '37', '24', '39', '21',\n",
       "       '30', '23', '26', '18', '20', '34', '28', '0', '19', '17', '14',\n",
       "       '12', '15', '13', '8', '11'], dtype=object)"
      ]
     },
     "execution_count": 86,
     "metadata": {},
     "output_type": "execute_result"
    }
   ],
   "source": [
    "final[\"age\"].unique()"
   ]
  },
  {
   "cell_type": "code",
   "execution_count": 92,
   "metadata": {},
   "outputs": [
    {
     "data": {
      "text/plain": [
       "array(['54', '74', '62', '55', '59', '76', '70', '89', '43', '41', '85',\n",
       "       '50', '67', '84', '86', '75', '72', '49', '53', '61', '32', '58',\n",
       "       '57', '60', '56', '71', '88', '66', '65', '80', '52', '81', '31',\n",
       "       '40', '51', '47', '83', '29', '73', '63', '42', '27', '16', '64',\n",
       "       '78', '82', '69', '48', '77', '87', '68', '35', '38', '33', '79',\n",
       "       '45', '46', '25', '36', '44', '22', '37', '24', '39', '21', '30',\n",
       "       '23', '26', '18', '20', '34', '28', '0', '19', '17', '14', '12',\n",
       "       '15', '13', '8', '11'], dtype=object)"
      ]
     },
     "execution_count": 92,
     "metadata": {},
     "output_type": "execute_result"
    }
   ],
   "source": [
    "final[\"age\"].replace({\"> 89\":\"89\"}, inplace=True)\n",
    "\n",
    "final[\"age\"].unique()"
   ]
  },
  {
   "cell_type": "code",
   "execution_count": 95,
   "metadata": {},
   "outputs": [],
   "source": [
    "final[\"age\"] =final[\"age\"].astype(int)"
   ]
  },
  {
   "cell_type": "code",
   "execution_count": 96,
   "metadata": {},
   "outputs": [
    {
     "name": "stdout",
     "output_type": "stream",
     "text": [
      "<class 'pandas.core.frame.DataFrame'>\n",
      "Int64Index: 47762 entries, 0 to 50944\n",
      "Data columns (total 11 columns):\n",
      "patientunitstayid    47762 non-null int64\n",
      "respiratoryrate      47762 non-null float64\n",
      "sodium               47762 non-null float64\n",
      "heartrate            47762 non-null int64\n",
      "meanbp               47762 non-null float64\n",
      "hematocrit           47762 non-null float64\n",
      "gender               47762 non-null object\n",
      "age                  47762 non-null int64\n",
      "ethnicity            47762 non-null object\n",
      "admissionweight      47762 non-null float64\n",
      "admissionheight      47762 non-null float64\n",
      "dtypes: float64(6), int64(3), object(2)\n",
      "memory usage: 4.4+ MB\n"
     ]
    }
   ],
   "source": [
    "final.info()"
   ]
  },
  {
   "cell_type": "code",
   "execution_count": 99,
   "metadata": {},
   "outputs": [],
   "source": [
    "final = pd.get_dummies(final)"
   ]
  },
  {
   "cell_type": "code",
   "execution_count": 108,
   "metadata": {},
   "outputs": [
    {
     "data": {
      "text/plain": [
       "11280"
      ]
     },
     "execution_count": 108,
     "metadata": {},
     "output_type": "execute_result"
    }
   ],
   "source": [
    "len(final.loc[final[\"sodium\"] == -1])"
   ]
  },
  {
   "cell_type": "code",
   "execution_count": 110,
   "metadata": {},
   "outputs": [
    {
     "data": {
      "text/plain": [
       "384"
      ]
     },
     "execution_count": 110,
     "metadata": {},
     "output_type": "execute_result"
    }
   ],
   "source": [
    "len(final.loc[final[\"heartrate\"] == -1])"
   ]
  },
  {
   "cell_type": "code",
   "execution_count": 111,
   "metadata": {},
   "outputs": [
    {
     "data": {
      "text/plain": [
       "525"
      ]
     },
     "execution_count": 111,
     "metadata": {},
     "output_type": "execute_result"
    }
   ],
   "source": [
    "len(final.loc[final[\"meanbp\"] == -1])"
   ]
  },
  {
   "cell_type": "code",
   "execution_count": 113,
   "metadata": {},
   "outputs": [
    {
     "data": {
      "text/plain": [
       "12589"
      ]
     },
     "execution_count": 113,
     "metadata": {},
     "output_type": "execute_result"
    }
   ],
   "source": [
    "len(final.loc[final[\"hematocrit\"] == -1])"
   ]
  },
  {
   "cell_type": "code",
   "execution_count": 118,
   "metadata": {},
   "outputs": [],
   "source": [
    "final = final.drop(final.loc[final[\"sodium\"] == -1].index)"
   ]
  },
  {
   "cell_type": "code",
   "execution_count": 119,
   "metadata": {},
   "outputs": [
    {
     "data": {
      "text/plain": [
       "(36482, 19)"
      ]
     },
     "execution_count": 119,
     "metadata": {},
     "output_type": "execute_result"
    }
   ],
   "source": [
    "final.shape"
   ]
  },
  {
   "cell_type": "code",
   "execution_count": 123,
   "metadata": {},
   "outputs": [
    {
     "data": {
      "text/plain": [
       "3565"
      ]
     },
     "execution_count": 123,
     "metadata": {},
     "output_type": "execute_result"
    }
   ],
   "source": [
    "len(final.loc[final[\"hematocrit\"] == -1])"
   ]
  },
  {
   "cell_type": "code",
   "execution_count": 124,
   "metadata": {},
   "outputs": [],
   "source": [
    "final = final.drop(\"hematocrit\", axis = 1)"
   ]
  },
  {
   "cell_type": "code",
   "execution_count": 126,
   "metadata": {},
   "outputs": [],
   "source": [
    "final = final.drop(tmp.loc[tmp[\"heartrate\"] == -1].index)"
   ]
  },
  {
   "cell_type": "code",
   "execution_count": 127,
   "metadata": {},
   "outputs": [],
   "source": [
    "final = final.drop(tmp.loc[tmp[\"meanbp\"] == -1].index)"
   ]
  },
  {
   "cell_type": "code",
   "execution_count": 130,
   "metadata": {},
   "outputs": [],
   "source": [
    "final = final.drop(tmp.loc[tmp[\"respiratoryrate\"] == -1].index)"
   ]
  },
  {
   "cell_type": "code",
   "execution_count": 128,
   "metadata": {},
   "outputs": [
    {
     "data": {
      "text/plain": [
       "(36390, 18)"
      ]
     },
     "execution_count": 128,
     "metadata": {},
     "output_type": "execute_result"
    }
   ],
   "source": [
    "final.shape"
   ]
  },
  {
   "cell_type": "code",
   "execution_count": 131,
   "metadata": {},
   "outputs": [
    {
     "data": {
      "text/plain": [
       "(36251, 18)"
      ]
     },
     "execution_count": 131,
     "metadata": {},
     "output_type": "execute_result"
    }
   ],
   "source": [
    "final.shape"
   ]
  },
  {
   "cell_type": "code",
   "execution_count": 133,
   "metadata": {},
   "outputs": [
    {
     "data": {
      "text/plain": [
       "2         309754\n",
       "5         309887\n",
       "6         309891\n",
       "7         309892\n",
       "8         309917\n",
       "          ...   \n",
       "50935    3353200\n",
       "50937    3353213\n",
       "50938    3353216\n",
       "50941    3353237\n",
       "50942    3353251\n",
       "Name: patientunitstayid, Length: 36251, dtype: int64"
      ]
     },
     "execution_count": 133,
     "metadata": {},
     "output_type": "execute_result"
    }
   ],
   "source": [
    "final[\"patientunitstayid\"]"
   ]
  },
  {
   "cell_type": "code",
   "execution_count": 141,
   "metadata": {},
   "outputs": [],
   "source": [
    "idx = apache_patient_result[apache_patient_result.patientunitstayid.isin(final[\"patientunitstayid\"])][\"patientunitstayid\"].drop_duplicates().index"
   ]
  },
  {
   "cell_type": "code",
   "execution_count": 145,
   "metadata": {},
   "outputs": [],
   "source": [
    "tmp = apache_patient_result.loc[idx]"
   ]
  },
  {
   "cell_type": "code",
   "execution_count": 150,
   "metadata": {},
   "outputs": [],
   "source": [
    "icu_mort = tmp['actualicumortality']\n",
    "hosp_mort = tmp['actualhospitalmortality']\n",
    "\n",
    "icu_los = tmp['actualiculos']\n",
    "hosp_los = tmp['actualhospitallos']"
   ]
  },
  {
   "cell_type": "code",
   "execution_count": 158,
   "metadata": {},
   "outputs": [],
   "source": [
    "tmp_cols = ['actualicumortality', 'patientunitstayid']\n",
    "\n",
    "x = tmp[tmp_cols]"
   ]
  },
  {
   "cell_type": "code",
   "execution_count": 162,
   "metadata": {},
   "outputs": [
    {
     "data": {
      "text/html": [
       "<div>\n",
       "<style scoped>\n",
       "    .dataframe tbody tr th:only-of-type {\n",
       "        vertical-align: middle;\n",
       "    }\n",
       "\n",
       "    .dataframe tbody tr th {\n",
       "        vertical-align: top;\n",
       "    }\n",
       "\n",
       "    .dataframe thead th {\n",
       "        text-align: right;\n",
       "    }\n",
       "</style>\n",
       "<table border=\"1\" class=\"dataframe\">\n",
       "  <thead>\n",
       "    <tr style=\"text-align: right;\">\n",
       "      <th></th>\n",
       "      <th>actualicumortality</th>\n",
       "      <th>patientunitstayid</th>\n",
       "    </tr>\n",
       "  </thead>\n",
       "  <tbody>\n",
       "    <tr>\n",
       "      <td>25822</td>\n",
       "      <td>EXPIRED</td>\n",
       "      <td>310277</td>\n",
       "    </tr>\n",
       "    <tr>\n",
       "      <td>25862</td>\n",
       "      <td>EXPIRED</td>\n",
       "      <td>310587</td>\n",
       "    </tr>\n",
       "    <tr>\n",
       "      <td>25872</td>\n",
       "      <td>EXPIRED</td>\n",
       "      <td>310636</td>\n",
       "    </tr>\n",
       "    <tr>\n",
       "      <td>25930</td>\n",
       "      <td>EXPIRED</td>\n",
       "      <td>311326</td>\n",
       "    </tr>\n",
       "    <tr>\n",
       "      <td>25938</td>\n",
       "      <td>EXPIRED</td>\n",
       "      <td>311437</td>\n",
       "    </tr>\n",
       "    <tr>\n",
       "      <td>...</td>\n",
       "      <td>...</td>\n",
       "      <td>...</td>\n",
       "    </tr>\n",
       "    <tr>\n",
       "      <td>296904</td>\n",
       "      <td>EXPIRED</td>\n",
       "      <td>3352774</td>\n",
       "    </tr>\n",
       "    <tr>\n",
       "      <td>296938</td>\n",
       "      <td>EXPIRED</td>\n",
       "      <td>3352895</td>\n",
       "    </tr>\n",
       "    <tr>\n",
       "      <td>297000</td>\n",
       "      <td>EXPIRED</td>\n",
       "      <td>3353087</td>\n",
       "    </tr>\n",
       "    <tr>\n",
       "      <td>297016</td>\n",
       "      <td>EXPIRED</td>\n",
       "      <td>3353117</td>\n",
       "    </tr>\n",
       "    <tr>\n",
       "      <td>297038</td>\n",
       "      <td>EXPIRED</td>\n",
       "      <td>3353194</td>\n",
       "    </tr>\n",
       "  </tbody>\n",
       "</table>\n",
       "<p>2126 rows × 2 columns</p>\n",
       "</div>"
      ],
      "text/plain": [
       "       actualicumortality  patientunitstayid\n",
       "25822             EXPIRED             310277\n",
       "25862             EXPIRED             310587\n",
       "25872             EXPIRED             310636\n",
       "25930             EXPIRED             311326\n",
       "25938             EXPIRED             311437\n",
       "...                   ...                ...\n",
       "296904            EXPIRED            3352774\n",
       "296938            EXPIRED            3352895\n",
       "297000            EXPIRED            3353087\n",
       "297016            EXPIRED            3353117\n",
       "297038            EXPIRED            3353194\n",
       "\n",
       "[2126 rows x 2 columns]"
      ]
     },
     "execution_count": 162,
     "metadata": {},
     "output_type": "execute_result"
    }
   ],
   "source": [
    "x.loc[x[\"actualicumortality\"] == \"EXPIRED\"]"
   ]
  },
  {
   "cell_type": "code",
   "execution_count": 151,
   "metadata": {},
   "outputs": [
    {
     "data": {
      "text/plain": [
       "34601"
      ]
     },
     "execution_count": 151,
     "metadata": {},
     "output_type": "execute_result"
    }
   ],
   "source": [
    "len(icu_mort)"
   ]
  },
  {
   "cell_type": "code",
   "execution_count": 144,
   "metadata": {},
   "outputs": [],
   "source": [
    "final = final[final.patientunitstayid.isin(apache_patient_result.loc[idx]['patientunitstayid'])]"
   ]
  },
  {
   "cell_type": "code",
   "execution_count": 152,
   "metadata": {},
   "outputs": [
    {
     "data": {
      "text/plain": [
       "(34601, 18)"
      ]
     },
     "execution_count": 152,
     "metadata": {},
     "output_type": "execute_result"
    }
   ],
   "source": [
    "final.shape"
   ]
  },
  {
   "cell_type": "code",
   "execution_count": 167,
   "metadata": {},
   "outputs": [
    {
     "data": {
      "text/html": [
       "<div>\n",
       "<style scoped>\n",
       "    .dataframe tbody tr th:only-of-type {\n",
       "        vertical-align: middle;\n",
       "    }\n",
       "\n",
       "    .dataframe tbody tr th {\n",
       "        vertical-align: top;\n",
       "    }\n",
       "\n",
       "    .dataframe thead th {\n",
       "        text-align: right;\n",
       "    }\n",
       "</style>\n",
       "<table border=\"1\" class=\"dataframe\">\n",
       "  <thead>\n",
       "    <tr style=\"text-align: right;\">\n",
       "      <th></th>\n",
       "      <th>patientunitstayid</th>\n",
       "      <th>respiratoryrate</th>\n",
       "      <th>sodium</th>\n",
       "      <th>heartrate</th>\n",
       "      <th>meanbp</th>\n",
       "      <th>age</th>\n",
       "      <th>admissionweight</th>\n",
       "      <th>admissionheight</th>\n",
       "      <th>gender_Female</th>\n",
       "      <th>gender_Male</th>\n",
       "      <th>gender_Other</th>\n",
       "      <th>gender_Unknown</th>\n",
       "      <th>ethnicity_African American</th>\n",
       "      <th>ethnicity_Asian</th>\n",
       "      <th>ethnicity_Caucasian</th>\n",
       "      <th>ethnicity_Hispanic</th>\n",
       "      <th>ethnicity_Native American</th>\n",
       "      <th>ethnicity_Other/Unknown</th>\n",
       "    </tr>\n",
       "  </thead>\n",
       "  <tbody>\n",
       "    <tr>\n",
       "      <td>23</td>\n",
       "      <td>310277</td>\n",
       "      <td>38.0</td>\n",
       "      <td>148.0</td>\n",
       "      <td>123</td>\n",
       "      <td>47.0</td>\n",
       "      <td>58</td>\n",
       "      <td>95.25</td>\n",
       "      <td>170.2</td>\n",
       "      <td>1</td>\n",
       "      <td>0</td>\n",
       "      <td>0</td>\n",
       "      <td>0</td>\n",
       "      <td>0</td>\n",
       "      <td>0</td>\n",
       "      <td>1</td>\n",
       "      <td>0</td>\n",
       "      <td>0</td>\n",
       "      <td>0</td>\n",
       "    </tr>\n",
       "  </tbody>\n",
       "</table>\n",
       "</div>"
      ],
      "text/plain": [
       "    patientunitstayid  respiratoryrate  sodium  heartrate  meanbp  age  \\\n",
       "23             310277             38.0   148.0        123    47.0   58   \n",
       "\n",
       "    admissionweight  admissionheight  gender_Female  gender_Male  \\\n",
       "23            95.25            170.2              1            0   \n",
       "\n",
       "    gender_Other  gender_Unknown  ethnicity_African American  ethnicity_Asian  \\\n",
       "23             0               0                           0                0   \n",
       "\n",
       "    ethnicity_Caucasian  ethnicity_Hispanic  ethnicity_Native American  \\\n",
       "23                    1                   0                          0   \n",
       "\n",
       "    ethnicity_Other/Unknown  \n",
       "23                        0  "
      ]
     },
     "execution_count": 167,
     "metadata": {},
     "output_type": "execute_result"
    }
   ],
   "source": [
    "final.loc[final[\"patientunitstayid\"] == 310277]"
   ]
  },
  {
   "cell_type": "code",
   "execution_count": 174,
   "metadata": {},
   "outputs": [],
   "source": [
    "icu_mort = icu_mort.reindex"
   ]
  },
  {
   "cell_type": "code",
   "execution_count": 175,
   "metadata": {},
   "outputs": [
    {
     "data": {
      "text/plain": [
       "<bound method Series.reindex of 25780     ALIVE\n",
       "25786     ALIVE\n",
       "25788     ALIVE\n",
       "25790     ALIVE\n",
       "25792     ALIVE\n",
       "          ...  \n",
       "297044    ALIVE\n",
       "297048    ALIVE\n",
       "297050    ALIVE\n",
       "297056    ALIVE\n",
       "297058    ALIVE\n",
       "Name: actualicumortality, Length: 34601, dtype: object>"
      ]
     },
     "execution_count": 175,
     "metadata": {},
     "output_type": "execute_result"
    }
   ],
   "source": [
    "icu_mort"
   ]
  },
  {
   "cell_type": "code",
   "execution_count": null,
   "metadata": {},
   "outputs": [],
   "source": []
  }
 ],
 "metadata": {
  "kernelspec": {
   "display_name": "Python 3",
   "language": "python",
   "name": "python3"
  },
  "language_info": {
   "codemirror_mode": {
    "name": "ipython",
    "version": 3
   },
   "file_extension": ".py",
   "mimetype": "text/x-python",
   "name": "python",
   "nbconvert_exporter": "python",
   "pygments_lexer": "ipython3",
   "version": "3.7.4"
  }
 },
 "nbformat": 4,
 "nbformat_minor": 2
}
