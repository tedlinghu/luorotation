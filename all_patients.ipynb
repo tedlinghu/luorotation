{
 "cells": [
  {
   "cell_type": "code",
   "execution_count": 3,
   "metadata": {},
   "outputs": [],
   "source": [
    "import pandas as pd \n",
    "import numpy as np\n",
    "import seaborn as sn\n",
    "import sys\n",
    "import operator\n",
    "import matplotlib.pyplot as plt\n",
    "from sklearn.preprocessing import OneHotEncoder\n",
    "\n",
    "south_patient = pd.read_csv(\"/Users/tedlinghu/Desktop/Luo_Rotation/luorotation/data/south_patient.csv\")\n",
    "west_patient = pd.read_csv(\"/Users/tedlinghu/Desktop/Luo_Rotation/luorotation/data/west_patient.csv\")\n",
    "ne_patient = pd.read_csv(\"/Users/tedlinghu/Desktop/Luo_Rotation/luorotation/data/northeast_patient.csv\")\n",
    "midwest_patient = pd.read_csv(\"/Users/tedlinghu/Desktop/Luo_Rotation/luorotation/data/midwest_patient.csv\")\n",
    "hospital = pd.read_csv(\"/Users/tedlinghu/Downloads/eICU data/hospital.csv\")\n",
    "apache_vars = pd.read_csv(\"/Users/tedlinghu/Downloads/eICU data/apacheApsVar.csv\")\n",
    "apache_patient_result = pd.read_csv(\"/Users/tedlinghu/Downloads/eICU data/apachePatientResult.csv\")\n",
    "treatment = pd.read_csv(\"/Users/tedlinghu/Downloads/eICU data/treatment.csv\")\n",
    "apache_patient_result = pd.read_csv(\"/Users/tedlinghu/Downloads/eICU data/apachePatientResult.csv\")\n",
    "apache_pred_var = pd.read_csv(\"/Users/tedlinghu/Downloads/eICU data/apachePredVar.csv\")\n",
    "infusion_drug = pd.read_csv(\"/Users/tedlinghu/Downloads/eICU data/infusionDrug.csv\")\n",
    "medication = pd.read_csv(\"/Users/tedlinghu/Downloads/eICU data/medication.csv\")\n",
    "microlab = pd.read_csv(\"/Users/tedlinghu/Downloads/eICU data/microLab.csv\")"
   ]
  },
  {
   "cell_type": "code",
   "execution_count": 4,
   "metadata": {},
   "outputs": [
    {
     "data": {
      "text/plain": [
       "(56665, 30)"
      ]
     },
     "execution_count": 4,
     "metadata": {},
     "output_type": "execute_result"
    }
   ],
   "source": [
    "south_patient.shape"
   ]
  },
  {
   "cell_type": "code",
   "execution_count": 5,
   "metadata": {
    "scrolled": true
   },
   "outputs": [
    {
     "data": {
      "text/plain": [
       "(40651, 30)"
      ]
     },
     "execution_count": 5,
     "metadata": {},
     "output_type": "execute_result"
    }
   ],
   "source": [
    "west_patient.shape"
   ]
  },
  {
   "cell_type": "code",
   "execution_count": 6,
   "metadata": {},
   "outputs": [
    {
     "data": {
      "text/plain": [
       "(14429, 30)"
      ]
     },
     "execution_count": 6,
     "metadata": {},
     "output_type": "execute_result"
    }
   ],
   "source": [
    "ne_patient.shape"
   ]
  },
  {
   "cell_type": "code",
   "execution_count": 7,
   "metadata": {},
   "outputs": [
    {
     "data": {
      "text/plain": [
       "(58974, 30)"
      ]
     },
     "execution_count": 7,
     "metadata": {},
     "output_type": "execute_result"
    }
   ],
   "source": [
    "midwest_patient.shape"
   ]
  },
  {
   "cell_type": "code",
   "execution_count": 8,
   "metadata": {},
   "outputs": [],
   "source": [
    "all_patients = [south_patient, west_patient, ne_patient, midwest_patient]\n",
    "names = [\"south\", \"west\", \"NE\", \"midwest\"]"
   ]
  },
  {
   "cell_type": "code",
   "execution_count": 9,
   "metadata": {},
   "outputs": [],
   "source": [
    "def patient_intersections(df_you_want, df_to_intersect):\n",
    "    return df_you_want[df_you_want.patientunitstayid.isin(df_to_intersect.patientunitstayid)]"
   ]
  },
  {
   "cell_type": "code",
   "execution_count": 10,
   "metadata": {
    "scrolled": false
   },
   "outputs": [
    {
     "data": {
      "text/plain": [
       "'\\nfor i in treatment_dict[names[p]][\\'treatmentstring\\']:\\n        treatment_cat.append(i.split(\"|\")[0])\\n        treatment_intervention.append(i.split(\"|\")[-1])\\n        new_cols = set(treatment_intervention)\\n        new_rows = treatment_dict[names[p]][\\'patientunitstayid\\'].unique()\\n\\ntreatment_pid_dict = dict()\\nfor i in range(treatment.shape[0]):\\n    treatment_pid_dict[treatment[\\'patientunitstayid\\'][i]] = treatment[\\'treatmentstring\\'][i].split(\"|\")[-1]\\n    '"
      ]
     },
     "execution_count": 10,
     "metadata": {},
     "output_type": "execute_result"
    }
   ],
   "source": [
    "'''\n",
    "for i in treatment_dict[names[p]]['treatmentstring']:\n",
    "        treatment_cat.append(i.split(\"|\")[0])\n",
    "        treatment_intervention.append(i.split(\"|\")[-1])\n",
    "        new_cols = set(treatment_intervention)\n",
    "        new_rows = treatment_dict[names[p]]['patientunitstayid'].unique()\n",
    "\n",
    "treatment_pid_dict = dict()\n",
    "for i in range(treatment.shape[0]):\n",
    "    treatment_pid_dict[treatment['patientunitstayid'][i]] = treatment['treatmentstring'][i].split(\"|\")[-1]\n",
    "    '''"
   ]
  },
  {
   "cell_type": "code",
   "execution_count": 11,
   "metadata": {},
   "outputs": [],
   "source": [
    "apache_int = dict()\n",
    "apache_pred_dict = dict()\n",
    "apache_patient_dict = dict()\n",
    "patient_int = dict()\n",
    "final_dict = dict()\n",
    "treatment_dict = dict()\n",
    "\n",
    "\n",
    "for p in range(len(all_patients)):\n",
    "    apache_int[names[p]] = patient_intersections(apache_vars, all_patients[p])\n",
    "    patient_int[names[p]] = patient_intersections(all_patients[p], apache_int[names[p]])\n",
    "    apache_patient_dict[names[p]] = patient_intersections(apache_patient_result, all_patients[p])\n",
    "    apache_pred_dict[names[p]] = patient_intersections(apache_pred_var, all_patients[p])\n",
    "    tmp = pd.merge(apache_int[names[p]], patient_int[names[p]], on = \"patientunitstayid\")\n",
    "    final_dict[names[p]] = pd.merge(tmp, apache_patient_dict[names[p]], on = \"patientunitstayid\")\n",
    "  "
   ]
  },
  {
   "cell_type": "code",
   "execution_count": 12,
   "metadata": {},
   "outputs": [
    {
     "data": {
      "text/plain": [
       "{'south':        apacheapsvarid  patientunitstayid  intubated  vent  dialysis  eyes  \\\n",
       " 0             1351909             309646          0     0         0     4   \n",
       " 1             1351909             309646          0     0         0     4   \n",
       " 2             1460781             309754          0     0         0     4   \n",
       " 3             1460781             309754          0     0         0     4   \n",
       " 4             1424984             309852          0     0         0     4   \n",
       " ...               ...                ...        ...   ...       ...   ...   \n",
       " 94777         1546299            3353251          1     1         0     1   \n",
       " 94778         2085296            3353254          0     0         0     4   \n",
       " 94779         2085296            3353254          0     0         0     4   \n",
       " 94780         1404922            3353263          0     0         0     4   \n",
       " 94781         1404922            3353263          0     0         0     4   \n",
       " \n",
       "        motor  verbal  meds      urine  ...  predictedhospitallos  \\\n",
       " 0          6       5     0  1170.7200  ...              2.751280   \n",
       " 1          6       5     0  1170.7200  ...              4.193545   \n",
       " 2          6       5     0  2013.0336  ...             15.191354   \n",
       " 3          6       5     0  2013.0336  ...             16.605196   \n",
       " 4          6       5     0  2520.8928  ...              8.620990   \n",
       " ...      ...     ...   ...        ...  ...                   ...   \n",
       " 94777      1       1     0   358.9920  ...             11.222566   \n",
       " 94778      6       5     0  2171.6640  ...              5.995957   \n",
       " 94779      6       5     0  2171.6640  ...              6.199350   \n",
       " 94780      6       5     0    -1.0000  ...              6.260686   \n",
       " 94781      6       5     0    -1.0000  ...              6.098940   \n",
       " \n",
       "        actualhospitallos  preopmi  preopcardiaccath  ptcawithin24h  \\\n",
       " 0                 2.1444        0                 0              0   \n",
       " 1                 2.1444        0                 0              0   \n",
       " 2                 5.9667        0                 0              0   \n",
       " 3                 5.9667        0                 0              0   \n",
       " 4                 1.3125        0                 0              0   \n",
       " ...                  ...      ...               ...            ...   \n",
       " 94777            13.4056        0                 0              1   \n",
       " 94778             4.4549        0                 0              0   \n",
       " 94779             4.4549        0                 0              0   \n",
       " 94780             6.7347        0                 0              0   \n",
       " 94781             6.7347        0                 0              0   \n",
       " \n",
       "        unabridgedunitlos  unabridgedhosplos  actualventdays  predventdays  \\\n",
       " 0                 1.8583             2.1444             NaN           NaN   \n",
       " 1                 1.8583             2.1444             NaN           NaN   \n",
       " 2                 0.9750             5.9667             NaN           NaN   \n",
       " 3                 0.9750             5.9667             NaN           NaN   \n",
       " 4                 1.1437             1.3125             2.0      1.017998   \n",
       " ...                  ...                ...             ...           ...   \n",
       " 94777            11.2909            13.4056             9.0      6.464630   \n",
       " 94778             0.2993             4.4549             NaN           NaN   \n",
       " 94779             0.2993             4.4549             NaN           NaN   \n",
       " 94780             0.6444             6.7347             NaN           NaN   \n",
       " 94781             0.6444             6.7347             NaN           NaN   \n",
       " \n",
       "        unabridgedactualventdays  \n",
       " 0                           NaN  \n",
       " 1                           NaN  \n",
       " 2                           NaN  \n",
       " 3                           NaN  \n",
       " 4                           2.0  \n",
       " ...                         ...  \n",
       " 94777                       9.0  \n",
       " 94778                       NaN  \n",
       " 94779                       NaN  \n",
       " 94780                       NaN  \n",
       " 94781                       NaN  \n",
       " \n",
       " [94782 rows x 77 columns],\n",
       " 'west':        apacheapsvarid  patientunitstayid  intubated  vent  dialysis  eyes  \\\n",
       " 0               95379             534579          0     0         0     4   \n",
       " 1               95379             534579          0     0         0     4   \n",
       " 2               90396             534590          0     0         0     4   \n",
       " 3               90396             534590          0     0         0     4   \n",
       " 4              195713             534605          1     1         0     3   \n",
       " ...               ...                ...        ...   ...       ...   ...   \n",
       " 47937         1073216            2997135          1     1         1     4   \n",
       " 47938         1885329            2997136          1     1         1     3   \n",
       " 47939         1885329            2997136          1     1         1     3   \n",
       " 47940         1068806            2997193          0     0         0     4   \n",
       " 47941         1068806            2997193          0     0         0     4   \n",
       " \n",
       "        motor  verbal  meds  urine  ...  predictedhospitallos  \\\n",
       " 0          6       5     0   -1.0  ...              8.276787   \n",
       " 1          6       5     0   -1.0  ...             10.048945   \n",
       " 2          5       2     0   -1.0  ...              9.219768   \n",
       " 3          5       2     0   -1.0  ...              8.246164   \n",
       " 4          5       1     0   -1.0  ...              8.642601   \n",
       " ...      ...     ...   ...    ...  ...                   ...   \n",
       " 47937      6       1     0   -1.0  ...             12.558884   \n",
       " 47938      6       5     0   -1.0  ...             -1.000000   \n",
       " 47939      6       5     0   -1.0  ...             -1.000000   \n",
       " 47940      6       5     0   -1.0  ...              6.335450   \n",
       " 47941      6       5     0   -1.0  ...              7.573213   \n",
       " \n",
       "        actualhospitallos  preopmi  preopcardiaccath  ptcawithin24h  \\\n",
       " 0                 9.1028        0                 0              0   \n",
       " 1                 9.1028        0                 0              0   \n",
       " 2                 7.4139        0                 0              0   \n",
       " 3                 7.4139        0                 0              0   \n",
       " 4                 4.9313        0                 0              0   \n",
       " ...                  ...      ...               ...            ...   \n",
       " 47937             9.5965        0                 0              0   \n",
       " 47938             9.5965        0                 0              0   \n",
       " 47939             9.5965        0                 0              0   \n",
       " 47940             7.1618        0                 0              0   \n",
       " 47941             7.1618        0                 0              0   \n",
       " \n",
       "        unabridgedunitlos  unabridgedhosplos  actualventdays  predventdays  \\\n",
       " 0                 2.7854             9.1028             NaN           NaN   \n",
       " 1                 2.7854             9.1028             NaN           NaN   \n",
       " 2                 0.9458             7.4139             NaN           NaN   \n",
       " 3                 0.9458             7.4139             NaN           NaN   \n",
       " 4                 1.9479             4.9313             1.0      2.593976   \n",
       " ...                  ...                ...             ...           ...   \n",
       " 47937             1.4479             9.5965             2.0      3.889820   \n",
       " 47938             1.3576             9.5965             2.0      6.676979   \n",
       " 47939             1.3576             9.5965             2.0      5.260503   \n",
       " 47940             0.9194             7.1618             NaN           NaN   \n",
       " 47941             0.9194             7.1618             NaN           NaN   \n",
       " \n",
       "        unabridgedactualventdays  \n",
       " 0                           NaN  \n",
       " 1                           NaN  \n",
       " 2                           NaN  \n",
       " 3                           NaN  \n",
       " 4                           1.0  \n",
       " ...                         ...  \n",
       " 47937                       2.0  \n",
       " 47938                       2.0  \n",
       " 47939                       2.0  \n",
       " 47940                       NaN  \n",
       " 47941                       NaN  \n",
       " \n",
       " [47942 rows x 77 columns],\n",
       " 'NE':        apacheapsvarid  patientunitstayid  intubated  vent  dialysis  eyes  \\\n",
       " 0             1970871            1074313          0     0         0     4   \n",
       " 1             1970871            1074313          0     0         0     4   \n",
       " 2             2385147            1074319          0     0         0     4   \n",
       " 3             2385147            1074319          0     0         0     4   \n",
       " 4             2347498            1074323          0     0         0     4   \n",
       " ...               ...                ...        ...   ...       ...   ...   \n",
       " 20797         1227167            3130793          0     0         0     4   \n",
       " 20798         1199600            3130807          1     1         0     3   \n",
       " 20799         1199600            3130807          1     1         0     3   \n",
       " 20800         1122172            3130835          0     0         0     4   \n",
       " 20801         1122172            3130835          0     0         0     4   \n",
       " \n",
       "        motor  verbal  meds      urine  ...  predictedhospitallos  \\\n",
       " 0          6       4     0    -1.0000  ...              5.271130   \n",
       " 1          6       4     0    -1.0000  ...              5.152356   \n",
       " 2          6       3     0  2238.6240  ...             13.755855   \n",
       " 3          6       3     0  2238.6240  ...             11.445367   \n",
       " 4          6       5     0  2838.1536  ...             -1.000000   \n",
       " ...      ...     ...   ...        ...  ...                   ...   \n",
       " 20797      6       5     0     5.0976  ...              4.467295   \n",
       " 20798      6       1     0   754.3584  ...              6.255625   \n",
       " 20799      6       1     0   754.3584  ...              7.461631   \n",
       " 20800      6       5     0  5116.5216  ...             12.303131   \n",
       " 20801      6       5     0  5116.5216  ...             11.732526   \n",
       " \n",
       "        actualhospitallos  preopmi  preopcardiaccath  ptcawithin24h  \\\n",
       " 0                 2.3215        0                 0              0   \n",
       " 1                 2.3215        0                 0              0   \n",
       " 2                 9.0361        0                 0              0   \n",
       " 3                 9.0361        0                 0              0   \n",
       " 4                 6.2146        0                 0              0   \n",
       " ...                  ...      ...               ...            ...   \n",
       " 20797             0.5993        0                 0              0   \n",
       " 20798             6.1771        0                 0              0   \n",
       " 20799             6.1771        0                 0              0   \n",
       " 20800            10.2160        0                 0              0   \n",
       " 20801            10.2160        0                 0              0   \n",
       " \n",
       "        unabridgedunitlos  unabridgedhosplos  actualventdays  predventdays  \\\n",
       " 0                 0.8125             2.3215             NaN           NaN   \n",
       " 1                 0.8125             2.3215             NaN           NaN   \n",
       " 2                 1.0076             9.0361             2.0      1.639128   \n",
       " 3                 1.0076             9.0361             2.0      1.293395   \n",
       " 4                 0.1673             6.2146             NaN           NaN   \n",
       " ...                  ...                ...             ...           ...   \n",
       " 20797             0.4791             0.5993             NaN           NaN   \n",
       " 20798             2.1319             6.1771             2.0      2.212631   \n",
       " 20799             2.1319             6.1771             2.0      1.900727   \n",
       " 20800             0.8159            10.2160             NaN           NaN   \n",
       " 20801             0.8159            10.2160             NaN           NaN   \n",
       " \n",
       "        unabridgedactualventdays  \n",
       " 0                           NaN  \n",
       " 1                           NaN  \n",
       " 2                           2.0  \n",
       " 3                           2.0  \n",
       " 4                           NaN  \n",
       " ...                         ...  \n",
       " 20797                       NaN  \n",
       " 20798                       2.0  \n",
       " 20799                       2.0  \n",
       " 20800                       NaN  \n",
       " 20801                       NaN  \n",
       " \n",
       " [20802 rows x 77 columns],\n",
       " 'midwest':        apacheapsvarid  patientunitstayid  intubated  vent  dialysis  eyes  \\\n",
       " 0                   2             141168          0     0         0     4   \n",
       " 1                   2             141168          0     0         0     4   \n",
       " 2              167885             141194          0     0         0     3   \n",
       " 3              167885             141194          0     0         0     3   \n",
       " 4             2279689             141203          0     1         0     1   \n",
       " ...               ...                ...        ...   ...       ...   ...   \n",
       " 97791         1267966            3247410          0     0         0     3   \n",
       " 97792         1305894            3247417          0     1         0     4   \n",
       " 97793         1305894            3247417          0     1         0     4   \n",
       " 97794         1780215            3247421          0     0         0     4   \n",
       " 97795         1780215            3247421          0     0         0     4   \n",
       " \n",
       "        motor  verbal  meds      urine  ...  predictedhospitallos  \\\n",
       " 0          6       5     0    -1.0000  ...              7.546453   \n",
       " 1          6       5     0    -1.0000  ...              6.628720   \n",
       " 2          6       4     0    -1.0000  ...             13.338449   \n",
       " 3          6       4     0    -1.0000  ...             12.978228   \n",
       " 4          3       1     0    -1.0000  ...             16.319389   \n",
       " ...      ...     ...   ...        ...  ...                   ...   \n",
       " 97791      6       5     0  1624.3200  ...              8.671872   \n",
       " 97792      6       2     0  2079.6480  ...             16.110353   \n",
       " 97793      6       2     0  2079.6480  ...             16.358274   \n",
       " 97794      6       5     0   835.6608  ...             12.180533   \n",
       " 97795      6       5     0   835.6608  ...             12.637656   \n",
       " \n",
       "        actualhospitallos  preopmi  preopcardiaccath  ptcawithin24h  \\\n",
       " 0                 2.4972        0                 0              0   \n",
       " 1                 2.4972        0                 0              0   \n",
       " 2                 9.2167        0                 0              0   \n",
       " 3                 9.2167        0                 0              0   \n",
       " 4                 3.7493        0                 0              0   \n",
       " ...                  ...      ...               ...            ...   \n",
       " 97791            10.2056        0                 0              0   \n",
       " 97792            16.2097        0                 0              0   \n",
       " 97793            16.2097        0                 0              0   \n",
       " 97794             4.9514        0                 0              0   \n",
       " 97795             4.9514        0                 0              0   \n",
       " \n",
       "        unabridgedunitlos  unabridgedhosplos  actualventdays  predventdays  \\\n",
       " 0                 2.4972             2.4972             NaN           NaN   \n",
       " 1                 2.4972             2.4972             NaN           NaN   \n",
       " 2                 3.3423             9.2167             NaN           NaN   \n",
       " 3                 3.3423             9.2167             NaN           NaN   \n",
       " 4                 1.2979             3.7493             2.0      5.738093   \n",
       " ...                  ...                ...             ...           ...   \n",
       " 97791             2.1694            10.2056             NaN           NaN   \n",
       " 97792             8.2944            16.2097             9.0      5.351233   \n",
       " 97793             8.2944            16.2097             9.0      6.268047   \n",
       " 97794             2.9520             4.9514             NaN           NaN   \n",
       " 97795             2.9520             4.9514             NaN           NaN   \n",
       " \n",
       "        unabridgedactualventdays  \n",
       " 0                           NaN  \n",
       " 1                           NaN  \n",
       " 2                           NaN  \n",
       " 3                           NaN  \n",
       " 4                           2.0  \n",
       " ...                         ...  \n",
       " 97791                       NaN  \n",
       " 97792                       9.0  \n",
       " 97793                       9.0  \n",
       " 97794                       NaN  \n",
       " 97795                       NaN  \n",
       " \n",
       " [97796 rows x 77 columns]}"
      ]
     },
     "execution_count": 12,
     "metadata": {},
     "output_type": "execute_result"
    }
   ],
   "source": [
    "final_dict"
   ]
  },
  {
   "cell_type": "code",
   "execution_count": 13,
   "metadata": {
    "scrolled": false
   },
   "outputs": [
    {
     "data": {
      "text/plain": [
       "(30067, 26)"
      ]
     },
     "execution_count": 13,
     "metadata": {},
     "output_type": "execute_result"
    }
   ],
   "source": [
    "apache_int[\"west\"].shape"
   ]
  },
  {
   "cell_type": "code",
   "execution_count": 14,
   "metadata": {},
   "outputs": [
    {
     "data": {
      "text/plain": [
       "(11501, 26)"
      ]
     },
     "execution_count": 14,
     "metadata": {},
     "output_type": "execute_result"
    }
   ],
   "source": [
    "apache_int[\"NE\"].shape"
   ]
  },
  {
   "cell_type": "code",
   "execution_count": 15,
   "metadata": {},
   "outputs": [
    {
     "data": {
      "text/plain": [
       "(53176, 26)"
      ]
     },
     "execution_count": 15,
     "metadata": {},
     "output_type": "execute_result"
    }
   ],
   "source": [
    "apache_int[\"midwest\"].shape"
   ]
  },
  {
   "cell_type": "code",
   "execution_count": 16,
   "metadata": {},
   "outputs": [
    {
     "data": {
      "text/plain": [
       "(30067, 30)"
      ]
     },
     "execution_count": 16,
     "metadata": {},
     "output_type": "execute_result"
    }
   ],
   "source": [
    "patient_int[\"west\"].shape"
   ]
  },
  {
   "cell_type": "code",
   "execution_count": 17,
   "metadata": {},
   "outputs": [
    {
     "data": {
      "text/plain": [
       "(11501, 30)"
      ]
     },
     "execution_count": 17,
     "metadata": {},
     "output_type": "execute_result"
    }
   ],
   "source": [
    "patient_int[\"NE\"].shape"
   ]
  },
  {
   "cell_type": "code",
   "execution_count": 18,
   "metadata": {},
   "outputs": [
    {
     "data": {
      "text/plain": [
       "(53176, 30)"
      ]
     },
     "execution_count": 18,
     "metadata": {},
     "output_type": "execute_result"
    }
   ],
   "source": [
    "patient_int[\"midwest\"].shape"
   ]
  },
  {
   "cell_type": "code",
   "execution_count": 19,
   "metadata": {},
   "outputs": [
    {
     "data": {
      "text/plain": [
       "(20802, 77)"
      ]
     },
     "execution_count": 19,
     "metadata": {},
     "output_type": "execute_result"
    }
   ],
   "source": [
    "final_dict[\"NE\"].shape"
   ]
  },
  {
   "cell_type": "code",
   "execution_count": 20,
   "metadata": {},
   "outputs": [
    {
     "name": "stdout",
     "output_type": "stream",
     "text": [
      "apacheapsvarid\n",
      "patientunitstayid\n",
      "intubated\n",
      "vent\n",
      "dialysis\n",
      "eyes\n",
      "motor\n",
      "verbal\n",
      "meds\n",
      "urine\n",
      "wbc\n",
      "temperature\n",
      "respiratoryrate\n",
      "sodium\n",
      "heartrate\n",
      "meanbp\n",
      "ph\n",
      "hematocrit\n",
      "creatinine\n",
      "albumin\n",
      "pao2\n",
      "pco2\n",
      "bun\n",
      "glucose\n",
      "bilirubin\n",
      "fio2\n",
      "Unnamed: 0\n",
      "patienthealthsystemstayid\n",
      "gender\n",
      "age\n",
      "ethnicity\n",
      "hospitalid\n",
      "wardid\n",
      "apacheadmissiondx\n",
      "admissionheight\n",
      "hospitaladmittime24\n",
      "hospitaladmitoffset\n",
      "hospitaladmitsource\n",
      "hospitaldischargeyear\n",
      "hospitaldischargetime24\n",
      "hospitaldischargeoffset\n",
      "hospitaldischargelocation\n",
      "hospitaldischargestatus\n",
      "unittype\n",
      "unitadmittime24\n",
      "unitadmitsource\n",
      "unitvisitnumber\n",
      "unitstaytype\n",
      "admissionweight\n",
      "dischargeweight\n",
      "unitdischargetime24\n",
      "unitdischargeoffset\n",
      "unitdischargelocation\n",
      "unitdischargestatus\n",
      "uniquepid\n",
      "apachepatientresultsid\n",
      "physicianspeciality\n",
      "physicianinterventioncategory\n",
      "acutephysiologyscore\n",
      "apachescore\n",
      "apacheversion\n",
      "predictedicumortality\n",
      "actualicumortality\n",
      "predictediculos\n",
      "actualiculos\n",
      "predictedhospitalmortality\n",
      "actualhospitalmortality\n",
      "predictedhospitallos\n",
      "actualhospitallos\n",
      "preopmi\n",
      "preopcardiaccath\n",
      "ptcawithin24h\n",
      "unabridgedunitlos\n",
      "unabridgedhosplos\n",
      "actualventdays\n",
      "predventdays\n",
      "unabridgedactualventdays\n"
     ]
    }
   ],
   "source": [
    "for i in final_dict['NE'].columns:\n",
    "    print(i)"
   ]
  },
  {
   "cell_type": "code",
   "execution_count": 21,
   "metadata": {},
   "outputs": [
    {
     "data": {
      "text/plain": [
       "\"\\n#with physiologyscore + apachescore\\n\\ncols_to_drop = ['apacheapsvarid','Unnamed: 0',  'patienthealthsystemstayid','hospitalid', 'wardid','hospitaladmittime24', 'hospitaladmitoffset',\\n       'hospitaladmitsource', 'hospitaldischargeyear',\\n       'hospitaldischargetime24', 'hospitaldischargeoffset',\\n       'hospitaldischargelocation', 'hospitaldischargestatus', 'unittype',\\n       'unitadmittime24', 'unitadmitsource', 'unitvisitnumber', 'unitstaytype','dischargeweight', 'unitdischargetime24',\\n       'unitdischargeoffset', 'unitdischargelocation', 'unitdischargestatus',\\n       'uniquepid', 'apachepatientresultsid', 'physicianspeciality', 'physicianinterventioncategory', 'apacheversion',\\n              'predictedicumortality', 'actualicumortality', 'predictediculos', 'actualiculos', 'predictedhospitalmortality',\\n               'actualhospitallos','apacheadmissiondx', 'actualhospitalmortality', 'unabridgedunitlos', 'unabridgedhosplos', 'actualventdays' , 'predventdays' , 'unabridgedactualventdays']\\n               \""
      ]
     },
     "execution_count": 21,
     "metadata": {},
     "output_type": "execute_result"
    }
   ],
   "source": [
    "'''\n",
    "#with physiologyscore + apachescore\n",
    "\n",
    "cols_to_drop = ['apacheapsvarid','Unnamed: 0',  'patienthealthsystemstayid','hospitalid', 'wardid','hospitaladmittime24', 'hospitaladmitoffset',\n",
    "       'hospitaladmitsource', 'hospitaldischargeyear',\n",
    "       'hospitaldischargetime24', 'hospitaldischargeoffset',\n",
    "       'hospitaldischargelocation', 'hospitaldischargestatus', 'unittype',\n",
    "       'unitadmittime24', 'unitadmitsource', 'unitvisitnumber', 'unitstaytype','dischargeweight', 'unitdischargetime24',\n",
    "       'unitdischargeoffset', 'unitdischargelocation', 'unitdischargestatus',\n",
    "       'uniquepid', 'apachepatientresultsid', 'physicianspeciality', 'physicianinterventioncategory', 'apacheversion',\n",
    "              'predictedicumortality', 'actualicumortality', 'predictediculos', 'actualiculos', 'predictedhospitalmortality',\n",
    "               'actualhospitallos','apacheadmissiondx', 'actualhospitalmortality', 'unabridgedunitlos', 'unabridgedhosplos', 'actualventdays' , 'predventdays' , 'unabridgedactualventdays']\n",
    "               '''\n"
   ]
  },
  {
   "cell_type": "code",
   "execution_count": 22,
   "metadata": {},
   "outputs": [],
   "source": [
    "cols_to_drop = ['apacheapsvarid','Unnamed: 0',  'patienthealthsystemstayid','hospitalid', 'wardid','hospitaladmittime24', 'hospitaladmitoffset',\n",
    "       'hospitaladmitsource', 'hospitaldischargeyear',\n",
    "       'hospitaldischargetime24', 'hospitaldischargeoffset',\n",
    "       'hospitaldischargelocation', 'hospitaldischargestatus', 'unittype',\n",
    "       'unitadmittime24', 'unitadmitsource', 'unitvisitnumber', 'unitstaytype','dischargeweight', 'unitdischargetime24',\n",
    "       'unitdischargeoffset', 'unitdischargelocation', 'unitdischargestatus',\n",
    "       'uniquepid', 'apachepatientresultsid', 'physicianspeciality', 'physicianinterventioncategory', 'apacheversion',\n",
    "              'predictedicumortality', 'actualicumortality', 'predictediculos', 'actualiculos', 'predictedhospitalmortality',\n",
    "               'actualhospitallos','apacheadmissiondx', 'acutephysiologyscore',\n",
    "'apachescore', 'actualhospitalmortality', 'unabridgedunitlos', 'unabridgedhosplos', 'actualventdays' , 'predventdays' , 'unabridgedactualventdays']\n"
   ]
  },
  {
   "cell_type": "code",
   "execution_count": 23,
   "metadata": {},
   "outputs": [
    {
     "name": "stdout",
     "output_type": "stream",
     "text": [
      "south  before (94782, 34)\n",
      "south  after (89850, 34)\n",
      "eyes 1704\n",
      "motor 1704\n",
      "verbal 1704\n",
      "meds 540\n",
      "urine 26942\n",
      "wbc 25154\n",
      "temperature 5808\n",
      "respiratoryrate 538\n",
      "sodium 20232\n",
      "heartrate 148\n",
      "meanbp 298\n",
      "ph 66190\n",
      "hematocrit 22806\n",
      "creatinine 20582\n",
      "albumin 58876\n",
      "pao2 66190\n",
      "pco2 66190\n",
      "bun 21116\n",
      "glucose 12798\n",
      "bilirubin 63824\n",
      "fio2 66190\n",
      "predictedhospitallos 6784\n",
      "west  before (47942, 34)\n",
      "west  after (46582, 34)\n",
      "eyes 206\n",
      "motor 206\n",
      "verbal 206\n",
      "meds 168\n",
      "urine 24736\n",
      "wbc 7552\n",
      "temperature 2492\n",
      "respiratoryrate 174\n",
      "sodium 5798\n",
      "heartrate 162\n",
      "meanbp 114\n",
      "ph 36282\n",
      "hematocrit 6792\n",
      "creatinine 5920\n",
      "albumin 23380\n",
      "pao2 36282\n",
      "pco2 36282\n",
      "bun 5952\n",
      "glucose 3510\n",
      "bilirubin 23712\n",
      "fio2 36282\n",
      "predictedhospitallos 3312\n",
      "NE  before (20802, 34)\n",
      "NE  after (20540, 34)\n",
      "eyes 1180\n",
      "motor 1180\n",
      "verbal 1180\n",
      "meds 92\n",
      "urine 2050\n",
      "wbc 3318\n",
      "temperature 274\n",
      "respiratoryrate 74\n",
      "sodium 2480\n",
      "heartrate 22\n",
      "meanbp 58\n",
      "ph 15462\n",
      "hematocrit 2986\n",
      "creatinine 2580\n",
      "albumin 12778\n",
      "pao2 15462\n",
      "pco2 15462\n",
      "bun 2568\n",
      "glucose 1484\n",
      "bilirubin 13524\n",
      "fio2 15462\n",
      "predictedhospitallos 2228\n",
      "midwest  before (97796, 34)\n",
      "midwest  after (91732, 34)\n",
      "eyes 356\n",
      "motor 356\n",
      "verbal 356\n",
      "meds 300\n",
      "urine 58626\n",
      "wbc 22056\n",
      "temperature 1592\n",
      "respiratoryrate 598\n",
      "sodium 18770\n",
      "heartrate 116\n",
      "meanbp 154\n",
      "ph 70156\n",
      "hematocrit 20032\n",
      "creatinine 19220\n",
      "albumin 54950\n",
      "pao2 70156\n",
      "pco2 70156\n",
      "bun 19548\n",
      "glucose 9468\n",
      "bilirubin 59198\n",
      "fio2 70156\n",
      "predictedhospitallos 6666\n"
     ]
    }
   ],
   "source": [
    "for i in final_dict:\n",
    "    final_dict[i] = final_dict[i].drop(cols_to_drop, axis = 1)\n",
    "    print(i, \" before\", final_dict[i].shape)\n",
    "    final_dict[i] = final_dict[i].dropna()\n",
    "    print(i, \" after\", final_dict[i].shape)\n",
    "    for col in final_dict[i].columns:\n",
    "        if min(final_dict[i][col]) == -1:\n",
    "            print(col, len(final_dict[i][final_dict[i][col] == -1]))\n"
   ]
  },
  {
   "cell_type": "code",
   "execution_count": 24,
   "metadata": {},
   "outputs": [],
   "source": [
    "icu_labels = dict()\n",
    "hosp_labels = dict()\n",
    "for i in final_dict:\n",
    "    tmp = patient_intersections(apache_patient_result, final_dict[i])\n",
    "    idx = tmp['patientunitstayid'].drop_duplicates().index\n",
    "    icu_mort = apache_patient_result.loc[idx]['actualicumortality']\n",
    "    hosp_mort = apache_patient_result.loc[idx]['actualhospitalmortality']\n",
    "    icu_labels[i] = icu_mort\n",
    "    hosp_labels[i] = hosp_mort\n",
    "    icu_labels[i][icu_labels[i] == \"ALIVE\"] = 1\n",
    "    icu_labels[i][icu_labels[i] == \"EXPIRED\"] = 0\n",
    "    hosp_labels[i][hosp_labels[i] == \"ALIVE\"] = 1\n",
    "    hosp_labels[i][hosp_labels[i] == \"EXPIRED\"] = 0\n",
    "    final_dict[i] = patient_intersections(final_dict[i], tmp)"
   ]
  },
  {
   "cell_type": "code",
   "execution_count": 25,
   "metadata": {},
   "outputs": [
    {
     "name": "stdout",
     "output_type": "stream",
     "text": [
      "(44925,)\n",
      "(44925,)\n",
      "(44925, 33)\n",
      "(23291,)\n",
      "(23291,)\n",
      "(23291, 33)\n",
      "(10270,)\n",
      "(10270,)\n",
      "(10270, 33)\n",
      "(45866,)\n",
      "(45866,)\n",
      "(45866, 33)\n"
     ]
    }
   ],
   "source": [
    "#make sure the shape is ok\n",
    "for i in icu_labels:\n",
    "    final_dict[i] = final_dict[i].drop('predictedhospitallos', axis = 1)\n",
    "    final_dict[i] = final_dict[i].drop_duplicates()\n",
    "    print(icu_labels[i].shape)\n",
    "    print(hosp_labels[i].shape)\n",
    "    print(final_dict[i].shape)"
   ]
  },
  {
   "cell_type": "code",
   "execution_count": 26,
   "metadata": {},
   "outputs": [
    {
     "name": "stdout",
     "output_type": "stream",
     "text": [
      "patientunitstayid\n",
      "intubated\n",
      "vent\n",
      "dialysis\n",
      "eyes\n",
      "motor\n",
      "verbal\n",
      "meds\n",
      "urine\n",
      "wbc\n",
      "temperature\n",
      "respiratoryrate\n",
      "sodium\n",
      "heartrate\n",
      "meanbp\n",
      "ph\n",
      "hematocrit\n",
      "creatinine\n",
      "albumin\n",
      "pao2\n",
      "pco2\n",
      "bun\n",
      "glucose\n",
      "bilirubin\n",
      "fio2\n",
      "gender\n",
      "age\n",
      "ethnicity\n",
      "admissionheight\n",
      "admissionweight\n",
      "preopmi\n",
      "preopcardiaccath\n",
      "ptcawithin24h\n"
     ]
    }
   ],
   "source": [
    "for i in final_dict['west'].columns:\n",
    "    print(i)"
   ]
  },
  {
   "cell_type": "code",
   "execution_count": 27,
   "metadata": {},
   "outputs": [],
   "source": [
    "patientid_dict = dict()\n",
    "for i in final_dict: \n",
    "    final_dict[i]['age'].replace({\"> 89\" :\"89\"}, inplace=True)\n",
    "    final_dict[i]['age'] = final_dict[i]['age'].astype(int)\n",
    "    patientid_dict[i] = final_dict[i]['patientunitstayid']\n",
    "    final_dict[i] = final_dict[i].drop('patientunitstayid', axis = 1)\n",
    "    final_dict[i] = pd.get_dummies(final_dict[i], drop_first = True)\n",
    "    final_dict[i].reset_index(drop=True, inplace=True)\n",
    "    icu_labels[i].reset_index(drop=True, inplace=True)\n",
    "    hosp_labels[i].reset_index(drop=True, inplace=True)"
   ]
  },
  {
   "cell_type": "code",
   "execution_count": 28,
   "metadata": {},
   "outputs": [],
   "source": [
    "from sklearn.model_selection import StratifiedShuffleSplit\n",
    "x_train_tmp = dict()\n",
    "y_train_tmp = dict()\n",
    "\n",
    "x_test = dict()\n",
    "y_test = dict()\n",
    "\n",
    "split = StratifiedShuffleSplit(n_splits = 1, test_size = 0.2, random_state = 42)\n",
    "\n",
    "for i in final_dict:\n",
    "    for train_idx, test_idx in split.split(final_dict[i], icu_labels[i]):\n",
    "        x_train_tmp[i], x_test[i] = final_dict[i].iloc[train_idx,:], final_dict[i].iloc[test_idx,:]\n",
    "        y_train_tmp[i], y_test[i] = icu_labels[i][train_idx], icu_labels[i][test_idx]\n"
   ]
  },
  {
   "cell_type": "code",
   "execution_count": 29,
   "metadata": {},
   "outputs": [
    {
     "data": {
      "text/plain": [
       "{'south': 11303    1\n",
       " 35363    1\n",
       " 23279    0\n",
       " 4190     1\n",
       " 27235    1\n",
       "         ..\n",
       " 24873    1\n",
       " 26735    1\n",
       " 27420    1\n",
       " 3771     1\n",
       " 16104    1\n",
       " Name: actualicumortality, Length: 35940, dtype: object, 'west': 8159     0\n",
       " 1203     1\n",
       " 18813    1\n",
       " 23238    1\n",
       " 5700     1\n",
       "         ..\n",
       " 2509     1\n",
       " 18133    1\n",
       " 15617    1\n",
       " 6845     1\n",
       " 5725     1\n",
       " Name: actualicumortality, Length: 18632, dtype: object, 'NE': 10237    1\n",
       " 5114     1\n",
       " 3577     1\n",
       " 6878     0\n",
       " 285      1\n",
       "         ..\n",
       " 6379     1\n",
       " 9252     1\n",
       " 238      1\n",
       " 9193     1\n",
       " 7769     1\n",
       " Name: actualicumortality, Length: 8216, dtype: object, 'midwest': 101      1\n",
       " 3732     1\n",
       " 9160     1\n",
       " 20854    1\n",
       " 14296    1\n",
       "         ..\n",
       " 30536    1\n",
       " 15044    1\n",
       " 26349    1\n",
       " 11791    1\n",
       " 26886    1\n",
       " Name: actualicumortality, Length: 36692, dtype: object}"
      ]
     },
     "execution_count": 29,
     "metadata": {},
     "output_type": "execute_result"
    }
   ],
   "source": [
    "y_train_tmp"
   ]
  },
  {
   "cell_type": "code",
   "execution_count": 30,
   "metadata": {},
   "outputs": [],
   "source": [
    "for i in x_train_tmp:\n",
    "    x_train_tmp[i].reset_index(drop=True, inplace=True)\n",
    "    y_train_tmp[i].reset_index(drop=True, inplace=True)"
   ]
  },
  {
   "cell_type": "code",
   "execution_count": 31,
   "metadata": {},
   "outputs": [],
   "source": [
    "new_split = StratifiedShuffleSplit(n_splits = 1, test_size = 0.25, random_state = 42)\n",
    "x_train = dict()\n",
    "y_train = dict()\n",
    "x_val = dict()\n",
    "y_val = dict()\n",
    "\n",
    "for i in x_train_tmp:\n",
    "    for train_idx_new, val_idx in new_split.split(x_train_tmp[i], y_train_tmp[i]):\n",
    "        x_train[i], x_val[i] = x_train_tmp[i].iloc[train_idx_new], x_train_tmp[i].iloc[val_idx]\n",
    "        y_train[i], y_val[i] = y_train_tmp[i][train_idx_new], y_train_tmp[i][val_idx]"
   ]
  },
  {
   "cell_type": "code",
   "execution_count": 32,
   "metadata": {},
   "outputs": [],
   "source": [
    "from sklearn.utils import resample\n",
    "x_downsample_dict = dict()\n",
    "y_downsample_dict = dict()\n",
    "downsample_dict = dict()\n",
    "for i in y_train:\n",
    "    expired_idx = y_train[i][y_train[i] == 0].index    \n",
    "    alive_idx = y_train[i][y_train[i] == 1].index\n",
    "    x_downsample = resample(x_train[i].loc[alive_idx], n_samples = y_train[i].value_counts()[0] , random_state = 42)\n",
    "    y_downsample = y_train[i].loc[x_downsample.index]\n",
    "    y_downsample_dict[i] = pd.concat([y_downsample, y_train[i].loc[expired_idx]])\n",
    "    x_downsample_dict[i] = pd.concat([x_downsample, x_train[i].loc[expired_idx]])\n",
    "    "
   ]
  },
  {
   "cell_type": "code",
   "execution_count": 33,
   "metadata": {},
   "outputs": [],
   "source": [
    "x_upsample_dict = dict()\n",
    "y_upsample_dict = dict()\n",
    "upsample_dict = dict()\n",
    "for i in y_train:\n",
    "    expired_idx = y_train[i][y_train[i] == 0].index    \n",
    "    alive_idx = y_train[i][y_train[i] == 1].index\n",
    "    x_upsample = resample(x_train[i].loc[expired_idx], n_samples = y_train[i].value_counts()[1] , random_state = 42)\n",
    "    y_upsample = y_train[i].loc[x_upsample.index]\n",
    "    y_upsample_dict[i] = pd.concat([y_upsample, y_train[i].loc[alive_idx]])\n",
    "    x_upsample_dict[i] = pd.concat([x_upsample, x_train[i].loc[alive_idx]])\n",
    "    "
   ]
  },
  {
   "cell_type": "code",
   "execution_count": 34,
   "metadata": {},
   "outputs": [
    {
     "data": {
      "text/plain": [
       "1    970\n",
       "0    970\n",
       "Name: actualicumortality, dtype: int64"
      ]
     },
     "execution_count": 34,
     "metadata": {},
     "output_type": "execute_result"
    }
   ],
   "source": [
    "y_downsample_dict['west'].value_counts()"
   ]
  },
  {
   "cell_type": "code",
   "execution_count": 35,
   "metadata": {},
   "outputs": [
    {
     "data": {
      "text/plain": [
       "1    13004\n",
       "0    13004\n",
       "Name: actualicumortality, dtype: int64"
      ]
     },
     "execution_count": 35,
     "metadata": {},
     "output_type": "execute_result"
    }
   ],
   "source": [
    "y_upsample_dict['west'].value_counts()"
   ]
  },
  {
   "cell_type": "code",
   "execution_count": 37,
   "metadata": {},
   "outputs": [
    {
     "name": "stderr",
     "output_type": "stream",
     "text": [
      "/Users/tedlinghu/opt/anaconda3/lib/python3.7/site-packages/sklearn/ensemble/forest.py:245: FutureWarning: The default value of n_estimators will change from 10 in version 0.20 to 100 in 0.22.\n",
      "  \"10 in version 0.20 to 100 in 0.22.\", FutureWarning)\n",
      "/Users/tedlinghu/opt/anaconda3/lib/python3.7/site-packages/sklearn/ensemble/forest.py:245: FutureWarning: The default value of n_estimators will change from 10 in version 0.20 to 100 in 0.22.\n",
      "  \"10 in version 0.20 to 100 in 0.22.\", FutureWarning)\n"
     ]
    },
    {
     "name": "stdout",
     "output_type": "stream",
     "text": [
      "####################################\n",
      "downsample south validation\n",
      "####################################\n",
      "confusion matrix [[ 425 2403]\n",
      " [  98 6059]]\n",
      "roc auc 0.5671830214066211\n",
      "f1 0.8289212668445175\n",
      "precision 0.7155347972536827\n",
      "recall 0.9840831573818418\n",
      "mcc 0.26651794223985786\n",
      "####################################\n",
      "upsample south validation\n",
      "####################################\n",
      "confusion matrix [[ 120  137]\n",
      " [ 403 8325]]\n",
      "roc auc 0.7103764172376037\n",
      "f1 0.9685863874345549\n",
      "precision 0.9832368163197042\n",
      "recall 0.953826764436297\n",
      "mcc 0.29954606986104176\n",
      "####################################\n",
      "downsample west validation\n",
      "####################################\n",
      "confusion matrix [[ 266 1260]\n",
      " [  57 3075]]\n",
      "roc auc 0.5780563464445148\n",
      "f1 0.823623945359582\n",
      "precision 0.7086700811020331\n",
      "recall 0.9818007662835249\n",
      "mcc 0.28842343622477057\n",
      "####################################\n",
      "upsample west validation\n",
      "####################################\n",
      "confusion matrix [[  73   94]\n",
      " [ 250 4241]]\n",
      "roc auc 0.690729429584385\n",
      "f1 0.961024246544301\n",
      "precision 0.9775273254694806\n",
      "recall 0.944333110665776\n",
      "mcc 0.2791782988765492\n",
      "####################################\n",
      "downsample NE validation\n",
      "####################################\n",
      "confusion matrix [[ 143  560]\n",
      " [  29 1322]]\n",
      "roc auc 0.5909741796024861\n",
      "f1 0.8178162697185277\n",
      "precision 0.7014846278019737\n",
      "recall 0.9785344189489267\n",
      "mcc 0.31165883831175506\n",
      "####################################\n",
      "upsample NE validation\n",
      "####################################\n",
      "confusion matrix [[  67   49]\n",
      " [ 105 1833]]\n",
      "roc auc 0.7617033201665422\n",
      "f1 0.9596858638743456\n",
      "precision 0.9723146943060075\n",
      "recall 0.9458204334365325\n",
      "mcc 0.4361853511082662\n",
      "####################################\n",
      "downsample midwest validation\n",
      "####################################\n",
      "confusion matrix [[ 336 2423]\n",
      " [  90 6324]]\n",
      "roc auc 0.5538757246884166\n",
      "f1 0.8342457621528921\n",
      "precision 0.7226572773290564\n",
      "recall 0.9859681945743686\n",
      "mcc 0.23481675701143606\n",
      "####################################\n",
      "upsample midwest validation\n",
      "####################################\n",
      "confusion matrix [[  93  106]\n",
      " [ 333 8641]]\n",
      "roc auc 0.7151147424217141\n",
      "f1 0.9752271316517126\n",
      "precision 0.9875262334135295\n",
      "recall 0.9628928014263428\n",
      "mcc 0.2978416152596737\n"
     ]
    }
   ],
   "source": [
    "from sklearn.ensemble import RandomForestClassifier\n",
    "from sklearn.metrics import *\n",
    "\n",
    "def show_metrics(pred, truth):\n",
    "    print(\"confusion matrix\", confusion_matrix(pred, truth))\n",
    "    print(\"roc auc\", roc_auc_score(pred, truth))\n",
    "    print(\"f1\", f1_score(pred, truth))\n",
    "    print(\"precision\", average_precision_score(pred, truth))\n",
    "    print(\"recall\", recall_score(pred, truth))\n",
    "    print(\"mcc\", matthews_corrcoef(pred, truth))\n",
    "\n",
    "rf_downsample = RandomForestClassifier()\n",
    "rf_upsample = RandomForestClassifier()\n",
    "\n",
    "for i in x_downsample_dict:\n",
    "    rf_downsample.fit(x_downsample_dict[i], list(y_downsample_dict[i]))\n",
    "    rf_upsample.fit(x_upsample_dict[i], list(y_upsample_dict[i]))\n",
    "    pred_downsample = rf_downsample.predict(x_val[i])\n",
    "    pred_upsample = rf_upsample.predict(x_val[i])\n",
    "    print(\"####################################\")\n",
    "    print(\"downsample\", i, \"validation\")    \n",
    "    print(\"####################################\")\n",
    "    show_metrics(list(pred_downsample), list(y_val[i]))\n",
    "    print(\"####################################\")\n",
    "    print(\"upsample\", i, \"validation\")    \n",
    "    print(\"####################################\")\n",
    "    show_metrics(list(pred_upsample), list(y_val[i]))"
   ]
  },
  {
   "cell_type": "code",
   "execution_count": 38,
   "metadata": {},
   "outputs": [],
   "source": [
    "n_estimators = [1,5,10,50]\n",
    "max_depth = [1,2,5,10,30]\n",
    "min_samples_split = [2,5,10,15]\n",
    "min_samples_leaf = [1,2,5]\n",
    "\n",
    "hyperF = dict(n_estimators = n_estimators, max_depth = max_depth,  \n",
    "              min_samples_split = min_samples_split, \n",
    "             min_samples_leaf = min_samples_leaf)"
   ]
  },
  {
   "cell_type": "code",
   "execution_count": 39,
   "metadata": {},
   "outputs": [],
   "source": [
    "from sklearn.model_selection import GridSearchCV\n",
    "\n",
    "grid_search_downsample = GridSearchCV(rf_downsample, hyperF, cv = 5, scoring = \"f1_weighted\", return_train_score = True)\n",
    "\n",
    "grid_search_upsample = GridSearchCV(rf_upsample, hyperF, cv = 5, scoring = \"f1_weighted\", return_train_score = True)"
   ]
  },
  {
   "cell_type": "code",
   "execution_count": 40,
   "metadata": {
    "scrolled": true
   },
   "outputs": [
    {
     "name": "stdout",
     "output_type": "stream",
     "text": [
      "####################################\n",
      "downsample south validation\n",
      "####################################\n",
      "confusion matrix [[ 419 1936]\n",
      " [ 104 6526]]\n",
      "roc auc 0.5811165230423379\n",
      "f1 0.8648290485025177\n",
      "precision 0.7706898756304882\n",
      "recall 0.984313725490196\n",
      "mcc 0.30472226485581444\n",
      "####################################\n",
      "upsample south validation\n",
      "####################################\n",
      "confusion matrix [[  75   48]\n",
      " [ 448 8414]]\n",
      "roc auc 0.7796015874850691\n",
      "f1 0.9713691987993534\n",
      "precision 0.9939222960856193\n",
      "recall 0.9494470774091627\n",
      "mcc 0.2775240995101997\n",
      "####################################\n",
      "downsample south test\n",
      "####################################\n",
      "confusion matrix [[ 424 1899]\n",
      " [  99 6563]]\n",
      "roc auc 0.5838310989022493\n",
      "f1 0.8678920920391431\n",
      "precision 0.7750778274031329\n",
      "recall 0.9851395977184029\n",
      "mcc 0.31352683544417137\n",
      "####################################\n",
      "upsamplesample south test\n",
      "####################################\n",
      "confusion matrix [[  89   52]\n",
      " [ 434 8410]]\n",
      "roc auc 0.7910664280146655\n",
      "f1 0.971917254131515\n",
      "precision 0.993386348002312\n",
      "recall 0.9509271822704658\n",
      "mcc 0.30900725795532175\n",
      "####################################\n",
      "downsample west validation\n",
      "####################################\n",
      "confusion matrix [[ 254  932]\n",
      " [  69 3403]]\n",
      "roc auc 0.5971459947466993\n",
      "f1 0.8717817343409761\n",
      "precision 0.7842183585299936\n",
      "recall 0.9801267281105991\n",
      "mcc 0.333189484098685\n",
      "####################################\n",
      "upsample west validation\n",
      "####################################\n",
      "confusion matrix [[  60   38]\n",
      " [ 263 4297]]\n",
      "roc auc 0.7772847296813463\n",
      "f1 0.9661607644744238\n",
      "precision 0.9905262777562872\n",
      "recall 0.9423245614035087\n",
      "mcc 0.3132965381212398\n",
      "####################################\n",
      "downsample west test\n",
      "####################################\n",
      "confusion matrix [[ 258  903]\n",
      " [  65 3433]]\n",
      "roc auc 0.6018200876691442\n",
      "f1 0.8764360479959153\n",
      "precision 0.7909828185462617\n",
      "recall 0.9814179531160663\n",
      "mcc 0.3467716435367787\n",
      "####################################\n",
      "upsamplesample west test\n",
      "####################################\n",
      "confusion matrix [[  73   40]\n",
      " [ 250 4296]]\n",
      "roc auc 0.7955121491615696\n",
      "f1 0.9673496960144111\n",
      "precision 0.9899484097543011\n",
      "recall 0.945006599208095\n",
      "mcc 0.3579425894464645\n"
     ]
    },
    {
     "name": "stderr",
     "output_type": "stream",
     "text": [
      "/Users/tedlinghu/opt/anaconda3/lib/python3.7/site-packages/sklearn/model_selection/_search.py:814: DeprecationWarning: The default of the `iid` parameter will change from True to False in version 0.22 and will be removed in 0.24. This will change numeric results when test-set sizes are unequal.\n",
      "  DeprecationWarning)\n"
     ]
    },
    {
     "name": "stdout",
     "output_type": "stream",
     "text": [
      "####################################\n",
      "downsample NE validation\n",
      "####################################\n",
      "confusion matrix [[ 142  480]\n",
      " [  30 1402]]\n",
      "roc auc 0.6036730496326501\n",
      "f1 0.8461074230537116\n",
      "precision 0.7439512859974393\n",
      "recall 0.979050279329609\n",
      "mcc 0.34394463369034906\n",
      "####################################\n",
      "upsample NE validation\n",
      "####################################\n",
      "confusion matrix [[  57   30]\n",
      " [ 115 1852]]\n",
      "roc auc 0.7983538733937555\n",
      "f1 0.9623278773707457\n",
      "precision 0.9825151150067701\n",
      "recall 0.9415353329944077\n",
      "mcc 0.43385983764473446\n",
      "####################################\n",
      "downsample NE test\n",
      "####################################\n",
      "confusion matrix [[ 134  441]\n",
      " [  38 1441]]\n",
      "roc auc 0.6036752212129229\n",
      "f1 0.8574828919964296\n",
      "precision 0.7645027904477604\n",
      "recall 0.9743069641649763\n",
      "mcc 0.3360848553219576\n",
      "####################################\n",
      "upsamplesample NE test\n",
      "####################################\n",
      "confusion matrix [[  40   23]\n",
      " [ 132 1859]]\n",
      "roc auc 0.7843111461895992\n",
      "f1 0.95997934417764\n",
      "precision 0.9865556998802198\n",
      "recall 0.9337016574585635\n",
      "mcc 0.35396127727746707\n",
      "####################################\n",
      "downsample midwest validation\n",
      "####################################\n",
      "confusion matrix [[ 335 1909]\n",
      " [  91 6838]]\n",
      "roc auc 0.5680768896335611\n",
      "f1 0.87241643276346\n",
      "precision 0.7814072280346586\n",
      "recall 0.9868667917448405\n",
      "mcc 0.2781262913979096\n",
      "####################################\n",
      "upsample midwest validation\n",
      "####################################\n",
      "confusion matrix [[  62   35]\n",
      " [ 364 8712]]\n",
      "roc auc 0.7995347421317351\n",
      "f1 0.9776131964315772\n",
      "precision 0.9957350072269674\n",
      "recall 0.9598942265315117\n",
      "mcc 0.29118965759313514\n",
      "####################################\n",
      "downsample midwest test\n",
      "####################################\n",
      "confusion matrix [[ 346 2002]\n",
      " [  80 6746]]\n",
      "roc auc 0.5678197801671232\n",
      "f1 0.8663156542956209\n",
      "precision 0.7708302177934272\n",
      "recall 0.9882801054790507\n",
      "mcc 0.28129329150089244\n",
      "####################################\n",
      "upsamplesample midwest test\n",
      "####################################\n",
      "confusion matrix [[  62   40]\n",
      " [ 364 8708]]\n",
      "roc auc 0.7838598402323893\n",
      "f1 0.9773288439955107\n",
      "precision 0.9951648819827253\n",
      "recall 0.9598765432098766\n",
      "mcc 0.28289571519419565\n"
     ]
    }
   ],
   "source": [
    "for i in x_downsample_dict:\n",
    "    grid_search_downsample.fit(x_downsample_dict[i], list(y_downsample_dict[i]))\n",
    "    grid_search_upsample.fit(x_upsample_dict[i], list(y_upsample_dict[i]))\n",
    "    val_pred_downsample = grid_search_downsample.best_estimator_.predict(x_val[i])\n",
    "    val_pred_upsample = grid_search_upsample.best_estimator_.predict(x_val[i])\n",
    "    print(\"####################################\")\n",
    "    print(\"downsample\", i, \"validation\")    \n",
    "    print(\"####################################\")\n",
    "    show_metrics(val_pred_downsample, list(y_val[i]))\n",
    "    print(\"####################################\")\n",
    "    print(\"upsample\", i, \"validation\")    \n",
    "    print(\"####################################\")\n",
    "    show_metrics(val_pred_upsample, list(y_val[i]))\n",
    "    \n",
    "    print(\"####################################\")\n",
    "    print(\"downsample\", i, \"test\")    \n",
    "    print(\"####################################\")\n",
    "    test_pred_downsample = grid_search_downsample.best_estimator_.predict(x_test[i])\n",
    "    test_pred_upsample = grid_search_upsample.best_estimator_.predict(x_test[i])    \n",
    "    show_metrics(test_pred_downsample, list(y_test[i]))\n",
    "\n",
    "    print(\"####################################\")\n",
    "    print(\"upsamplesample\", i, \"test\")    \n",
    "    print(\"####################################\")\n",
    "    show_metrics(test_pred_upsample, list(y_test[i]))"
   ]
  },
  {
   "cell_type": "code",
   "execution_count": 41,
   "metadata": {},
   "outputs": [
    {
     "name": "stderr",
     "output_type": "stream",
     "text": [
      "Using TensorFlow backend.\n",
      "/Users/tedlinghu/opt/anaconda3/lib/python3.7/site-packages/tensorflow/python/framework/dtypes.py:526: FutureWarning: Passing (type, 1) or '1type' as a synonym of type is deprecated; in a future version of numpy, it will be understood as (type, (1,)) / '(1,)type'.\n",
      "  _np_qint8 = np.dtype([(\"qint8\", np.int8, 1)])\n",
      "/Users/tedlinghu/opt/anaconda3/lib/python3.7/site-packages/tensorflow/python/framework/dtypes.py:527: FutureWarning: Passing (type, 1) or '1type' as a synonym of type is deprecated; in a future version of numpy, it will be understood as (type, (1,)) / '(1,)type'.\n",
      "  _np_quint8 = np.dtype([(\"quint8\", np.uint8, 1)])\n",
      "/Users/tedlinghu/opt/anaconda3/lib/python3.7/site-packages/tensorflow/python/framework/dtypes.py:528: FutureWarning: Passing (type, 1) or '1type' as a synonym of type is deprecated; in a future version of numpy, it will be understood as (type, (1,)) / '(1,)type'.\n",
      "  _np_qint16 = np.dtype([(\"qint16\", np.int16, 1)])\n",
      "/Users/tedlinghu/opt/anaconda3/lib/python3.7/site-packages/tensorflow/python/framework/dtypes.py:529: FutureWarning: Passing (type, 1) or '1type' as a synonym of type is deprecated; in a future version of numpy, it will be understood as (type, (1,)) / '(1,)type'.\n",
      "  _np_quint16 = np.dtype([(\"quint16\", np.uint16, 1)])\n",
      "/Users/tedlinghu/opt/anaconda3/lib/python3.7/site-packages/tensorflow/python/framework/dtypes.py:530: FutureWarning: Passing (type, 1) or '1type' as a synonym of type is deprecated; in a future version of numpy, it will be understood as (type, (1,)) / '(1,)type'.\n",
      "  _np_qint32 = np.dtype([(\"qint32\", np.int32, 1)])\n",
      "/Users/tedlinghu/opt/anaconda3/lib/python3.7/site-packages/tensorflow/python/framework/dtypes.py:535: FutureWarning: Passing (type, 1) or '1type' as a synonym of type is deprecated; in a future version of numpy, it will be understood as (type, (1,)) / '(1,)type'.\n",
      "  np_resource = np.dtype([(\"resource\", np.ubyte, 1)])\n"
     ]
    }
   ],
   "source": [
    "import keras\n",
    "from keras import models\n",
    "from keras import layers\n",
    "import tensorflow as tf\n",
    "\n",
    "downsample_tensor = dict()\n",
    "downsample_labels_tensor = dict()\n",
    "x_val_tensor = dict()\n",
    "y_val_tensor = dict()\n",
    "x_test_tensor = dict()\n",
    "y_test_tensor = dict()\n",
    "\n",
    "for i in x_downsample_dict:\n",
    "    downsample_tensor[i] = x_downsample_dict[i].to_numpy()\n",
    "    downsample_labels_tensor[i] = y_downsample_dict[i].to_numpy()\n",
    "    x_val_tensor[i] = x_val[i].to_numpy()\n",
    "    y_val_tensor[i] = y_val[i].to_numpy()\n",
    "    x_test_tensor[i] = x_test[i].to_numpy()\n",
    "    y_test_tensor[i] = y_test[i].to_numpy()\n"
   ]
  },
  {
   "cell_type": "code",
   "execution_count": 42,
   "metadata": {},
   "outputs": [],
   "source": [
    "upsample_tensor = dict()\n",
    "upsample_labels_tensor = dict()\n",
    "up_x_val_tensor = dict()\n",
    "up_y_val_tensor = dict()\n",
    "up_x_test_tensor = dict()\n",
    "up_y_test_tensor = dict()\n",
    "\n",
    "for i in x_upsample_dict:\n",
    "    upsample_tensor[i] = x_upsample_dict[i].to_numpy()\n",
    "    upsample_labels_tensor[i] = y_upsample_dict[i].to_numpy()\n",
    "    up_x_val_tensor[i] = x_val[i].to_numpy()\n",
    "    up_y_val_tensor[i] = y_val[i].to_numpy()\n",
    "    up_x_test_tensor[i] = x_test[i].to_numpy()\n",
    "    up_y_test_tensor[i] = y_test[i].to_numpy()\n"
   ]
  },
  {
   "cell_type": "code",
   "execution_count": 43,
   "metadata": {},
   "outputs": [
    {
     "data": {
      "text/plain": [
       "(1034, 37)"
      ]
     },
     "execution_count": 43,
     "metadata": {},
     "output_type": "execute_result"
    }
   ],
   "source": [
    "downsample_tensor['NE'].shape"
   ]
  },
  {
   "cell_type": "code",
   "execution_count": 48,
   "metadata": {},
   "outputs": [
    {
     "name": "stdout",
     "output_type": "stream",
     "text": [
      "####################################\n",
      "south test\n",
      "####################################\n",
      "confusion matrix [[ 354 1358]\n",
      " [ 169 7104]]\n",
      "roc auc 0.5917695361540765\n",
      "f1 0.9029551954242135\n",
      "precision 0.8388194064253894\n",
      "recall 0.9767633713735735\n",
      "mcc 0.30785758007973535\n",
      "####################################\n",
      "west test\n",
      "####################################\n",
      "confusion matrix [[ 248 1084]\n",
      " [  75 3252]]\n",
      "roc auc 0.5818216774032825\n",
      "f1 0.8487537517943363\n",
      "precision 0.7491907515457734\n",
      "recall 0.9774571686203787\n",
      "mcc 0.29109248204016425\n",
      "####################################\n",
      "NE test\n",
      "####################################\n",
      "confusion matrix [[  80  252]\n",
      " [  92 1630]]\n",
      "roc auc 0.5937688034367434\n",
      "f1 0.904550499445061\n",
      "precision 0.8646180779256711\n",
      "recall 0.9465737514518002\n",
      "mcc 0.2492297903635873\n",
      "####################################\n",
      "midwest test\n",
      "####################################\n",
      "confusion matrix [[ 346 2343]\n",
      " [  80 6405]]\n",
      "roc auc 0.5581681042701454\n",
      "f1 0.8409374384559837\n",
      "precision 0.7318555151491578\n",
      "recall 0.9876638396299152\n",
      "mcc 0.2516553168492382\n"
     ]
    }
   ],
   "source": [
    "\n",
    "for i in downsample_tensor:\n",
    "    model = models.Sequential()\n",
    "    model.add(layers.Dense(150, activation = 'relu', input_dim = downsample_tensor[i].shape[1]))\n",
    "    model.add(layers.Dropout(0.2))\n",
    "    model.add(layers.Dense(70, activation = 'relu'))\n",
    "    model.add(layers.Dropout(0.2))\n",
    "    model.add(layers.Dense(35, activation = 'relu'))\n",
    "    model.add(layers.Dropout(0.2))\n",
    "    model.add(layers.Dense(10, activation = 'relu'))\n",
    "    model.add(layers.Dense(1, activation = \"sigmoid\"))\n",
    "    model.compile(optimizer='rmsprop',\n",
    "                loss='binary_crossentropy',\n",
    "                metrics=['accuracy'])\n",
    "    history = model.fit(downsample_tensor[i], downsample_labels_tensor[i], epochs = 50, validation_data = (x_val_tensor[i], y_val_tensor[i]), verbose = 0)\n",
    "    history_dict = history.history\n",
    "    keras_pred = model.predict(x_test[i]).ravel()\n",
    "    keras_pred[keras_pred >= 0.5] = 1\n",
    "    keras_pred[keras_pred < 0.5] = 0\n",
    "    print(\"####################################\")\n",
    "    print(i, \"test\")    \n",
    "    print(\"####################################\")\n",
    "    show_metrics(list(keras_pred), list(y_test[i]))"
   ]
  },
  {
   "cell_type": "code",
   "execution_count": 45,
   "metadata": {},
   "outputs": [
    {
     "name": "stdout",
     "output_type": "stream",
     "text": [
      "####################################\n",
      "south test\n",
      "####################################\n",
      "confusion matrix [[ 455 2821]\n",
      " [  68 5641]]\n",
      "roc auc 0.5634889355987622\n",
      "f1 0.7961329475689789\n",
      "precision 0.666255234782163\n",
      "recall 0.9880889823086355\n",
      "mcc 0.2610313412506365\n",
      "####################################\n",
      "west test\n",
      "####################################\n",
      "confusion matrix [[ 172  468]\n",
      " [ 151 3868]]\n",
      "roc auc 0.6155892323961185\n",
      "f1 0.9259126271693596\n",
      "precision 0.8909605042279434\n",
      "recall 0.9624284647922369\n",
      "mcc 0.3132928384730321\n",
      "####################################\n",
      "NE test\n",
      "####################################\n",
      "confusion matrix [[ 129  366]\n",
      " [  43 1516]]\n",
      "roc auc 0.6165121387058528\n",
      "f1 0.8811392037198489\n",
      "precision 0.8042429530868702\n",
      "recall 0.9724182168056447\n",
      "mcc 0.35979306990685034\n",
      "####################################\n",
      "midwest test\n",
      "####################################\n",
      "confusion matrix [[ 334 2241]\n",
      " [  92 6507]]\n",
      "roc auc 0.557883615787623\n",
      "f1 0.847983319215482\n",
      "precision 0.7434854304215914\n",
      "recall 0.9860584937111684\n",
      "mcc 0.24720323053234788\n"
     ]
    }
   ],
   "source": [
    "for i in upsample_tensor:\n",
    "    model = models.Sequential()\n",
    "    model.add(layers.Dense(150, activation = 'relu', input_dim = downsample_tensor[i].shape[1]))\n",
    "    model.add(layers.Dropout(0.2))\n",
    "    model.add(layers.Dense(70, activation = 'relu'))\n",
    "    model.add(layers.Dropout(0.2))\n",
    "    model.add(layers.Dense(35, activation = 'relu'))\n",
    "    model.add(layers.Dropout(0.2))\n",
    "    model.add(layers.Dense(10, activation = 'relu'))\n",
    "    model.add(layers.Dense(1, activation = \"sigmoid\"))\n",
    "    model.compile(optimizer='rmsprop',\n",
    "                loss='binary_crossentropy',\n",
    "                metrics=['accuracy'])\n",
    "    history = model.fit(upsample_tensor[i], upsample_labels_tensor[i], epochs = 50, validation_data = (x_val_tensor[i], y_val_tensor[i]), verbose = 0)\n",
    "    history_dict = history.history\n",
    "    keras_pred = model.predict(x_test[i]).ravel()\n",
    "    keras_pred[keras_pred >= 0.5] = 1\n",
    "    keras_pred[keras_pred < 0.5] = 0\n",
    "    print(\"####################################\")\n",
    "    print(i, \"test\")    \n",
    "    print(\"####################################\")\n",
    "    show_metrics(list(keras_pred), list(y_test[i]))"
   ]
  },
  {
   "cell_type": "code",
   "execution_count": 46,
   "metadata": {},
   "outputs": [
    {
     "name": "stdout",
     "output_type": "stream",
     "text": [
      "####################################\n",
      "south test\n",
      "####################################\n",
      "confusion matrix [[ 339 1238]\n",
      " [ 184 7224]]\n",
      "roc auc 0.5950635553467708\n",
      "f1 0.9103969754253308\n",
      "precision 0.8529732804831536\n",
      "recall 0.9751619870410367\n",
      "mcc 0.3089036407709262\n",
      "####################################\n",
      "west test\n",
      "####################################\n",
      "confusion matrix [[ 227  815]\n",
      " [  96 3521]]\n",
      "roc auc 0.5956544776558977\n",
      "f1 0.8854520306802465\n",
      "precision 0.8110914350682532\n",
      "recall 0.973458667403926\n",
      "mcc 0.31383221069202716\n",
      "####################################\n",
      "NE test\n",
      "####################################\n",
      "confusion matrix [[ 120  463]\n",
      " [  52 1419]]\n",
      "roc auc 0.5852409009868318\n",
      "f1 0.8464062033999404\n",
      "precision 0.7526481269515242\n",
      "recall 0.964649898028552\n",
      "mcc 0.27748825632222673\n",
      "####################################\n",
      "midwest test\n",
      "####################################\n",
      "confusion matrix [[ 312 1532]\n",
      " [ 114 7216]]\n",
      "roc auc 0.5768224365443176\n",
      "f1 0.8976240825973381\n",
      "precision 0.8244718028963636\n",
      "recall 0.9844474761255116\n",
      "mcc 0.29261146061503596\n"
     ]
    }
   ],
   "source": [
    "for i in downsample_tensor:\n",
    "    model = models.Sequential()\n",
    "    model.add(layers.Dense(150, activation = 'selu', input_dim = downsample_tensor[i].shape[1]))\n",
    "    model.add(layers.Dropout(0.2))\n",
    "    model.add(layers.Dense(70, activation = 'selu'))\n",
    "    model.add(layers.Dropout(0.2))\n",
    "    model.add(layers.Dense(35, activation = 'selu'))\n",
    "    model.add(layers.Dropout(0.2))\n",
    "    model.add(layers.Dense(10, activation = 'selu'))\n",
    "    model.add(layers.Dense(1, activation = \"sigmoid\"))\n",
    "    model.compile(optimizer='rmsprop',\n",
    "                loss='binary_crossentropy',\n",
    "                metrics=['accuracy'])\n",
    "    history = model.fit(downsample_tensor[i], downsample_labels_tensor[i], epochs = 100, validation_data = (x_val_tensor[i], y_val_tensor[i]), verbose = 0)\n",
    "    history_dict = history.history\n",
    "    keras_pred = model.predict(x_test[i]).ravel()\n",
    "    keras_pred[keras_pred >= 0.5] = 1\n",
    "    keras_pred[keras_pred < 0.5] = 0\n",
    "    print(\"####################################\")\n",
    "    print(i, \"test\")    \n",
    "    print(\"####################################\")\n",
    "    show_metrics(list(keras_pred), list(y_test[i]))"
   ]
  },
  {
   "cell_type": "code",
   "execution_count": 47,
   "metadata": {},
   "outputs": [
    {
     "name": "stdout",
     "output_type": "stream",
     "text": [
      "####################################\n",
      "south test\n",
      "####################################\n",
      "confusion matrix [[ 338 1163]\n",
      " [ 185 7299]]\n",
      "roc auc 0.6002319049014535\n",
      "f1 0.9154646933400226\n",
      "precision 0.8618298967379372\n",
      "recall 0.9752805986103688\n",
      "mcc 0.31937863501974384\n",
      "####################################\n",
      "west test\n",
      "####################################\n",
      "confusion matrix [[ 219  938]\n",
      " [ 104 3398]]\n",
      "roc auc 0.5797926558326715\n",
      "f1 0.8670579229395253\n",
      "precision 0.7827210308846511\n",
      "recall 0.9703026841804683\n",
      "mcc 0.2714387011575894\n",
      "####################################\n",
      "NE test\n",
      "####################################\n",
      "confusion matrix [[  76  224]\n",
      " [  96 1658]]\n",
      "roc auc 0.5993006461421513\n",
      "f1 0.911991199119912\n",
      "precision 0.8794980486436388\n",
      "recall 0.9452679589509693\n",
      "mcc 0.25321151924280016\n",
      "####################################\n",
      "midwest test\n",
      "####################################\n",
      "confusion matrix [[ 312 1693]\n",
      " [ 114 7055]]\n",
      "roc auc 0.5698545865772171\n",
      "f1 0.8864735817050952\n",
      "precision 0.8060721478222347\n",
      "recall 0.9840982005858557\n",
      "mcc 0.274379849972221\n"
     ]
    }
   ],
   "source": [
    "for i in downsample_tensor:\n",
    "    model = models.Sequential()\n",
    "    model.add(layers.Dense(150, activation = 'selu', input_dim = downsample_tensor[i].shape[1]))\n",
    "    model.add(layers.Dropout(0.1))\n",
    "    model.add(layers.Dense(70, activation = 'selu'))\n",
    "    model.add(layers.Dropout(0.1))\n",
    "    model.add(layers.Dense(35, activation = 'selu'))\n",
    "    model.add(layers.Dropout(0.1))\n",
    "    model.add(layers.Dense(10, activation = 'selu'))\n",
    "    model.add(layers.Dense(1, activation = \"sigmoid\"))\n",
    "    model.compile(optimizer='rmsprop',\n",
    "                loss='binary_crossentropy',\n",
    "                metrics=['accuracy'])\n",
    "    history = model.fit(downsample_tensor[i], downsample_labels_tensor[i], epochs = 100, validation_data = (x_val_tensor[i], y_val_tensor[i]), verbose = 0)\n",
    "    history_dict = history.history\n",
    "    keras_pred = model.predict(x_test[i]).ravel()\n",
    "    keras_pred[keras_pred >= 0.5] = 1\n",
    "    keras_pred[keras_pred < 0.5] = 0\n",
    "    print(\"####################################\")\n",
    "    print(i, \"test\")    \n",
    "    print(\"####################################\")\n",
    "    show_metrics(list(keras_pred), list(y_test[i]))"
   ]
  },
  {
   "cell_type": "code",
   "execution_count": null,
   "metadata": {},
   "outputs": [],
   "source": []
  }
 ],
 "metadata": {
  "kernelspec": {
   "display_name": "Python 3",
   "language": "python",
   "name": "python3"
  },
  "language_info": {
   "codemirror_mode": {
    "name": "ipython",
    "version": 3
   },
   "file_extension": ".py",
   "mimetype": "text/x-python",
   "name": "python",
   "nbconvert_exporter": "python",
   "pygments_lexer": "ipython3",
   "version": "3.7.4"
  }
 },
 "nbformat": 4,
 "nbformat_minor": 2
}
